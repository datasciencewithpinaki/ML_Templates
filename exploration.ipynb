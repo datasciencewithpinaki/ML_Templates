{
 "cells": [
  {
   "cell_type": "markdown",
   "id": "e7504323",
   "metadata": {},
   "source": [
    "# Explore steps for ML Template"
   ]
  },
  {
   "cell_type": "raw",
   "id": "330a2b41",
   "metadata": {},
   "source": [
    "Test pipeline for housing data"
   ]
  },
  {
   "cell_type": "markdown",
   "id": "d5a56571",
   "metadata": {},
   "source": [
    "## Libraries Needed"
   ]
  },
  {
   "cell_type": "code",
   "execution_count": 1,
   "id": "d94ce06a",
   "metadata": {},
   "outputs": [],
   "source": [
    "import pandas as pd\n",
    "import numpy as np\n",
    "import matplotlib.pyplot as plt\n",
    "import seaborn as sns\n",
    "import datetime as dt\n",
    "\n",
    "from IPython.core.interactiveshell import InteractiveShell\n",
    "InteractiveShell.ast_node_interactivity = \"all\""
   ]
  },
  {
   "cell_type": "code",
   "execution_count": 2,
   "id": "dffe2493",
   "metadata": {},
   "outputs": [],
   "source": [
    "import helper_func_EDA"
   ]
  },
  {
   "cell_type": "code",
   "execution_count": 3,
   "id": "9e729ee5",
   "metadata": {},
   "outputs": [],
   "source": [
    "from helper_func_preprocess import *"
   ]
  },
  {
   "cell_type": "code",
   "execution_count": 4,
   "id": "0e9911dc",
   "metadata": {},
   "outputs": [],
   "source": [
    "%matplotlib inline"
   ]
  },
  {
   "cell_type": "code",
   "execution_count": 5,
   "id": "4f0e9add",
   "metadata": {},
   "outputs": [],
   "source": [
    "%reload_ext helper_func_EDA"
   ]
  },
  {
   "cell_type": "code",
   "execution_count": 6,
   "id": "4f0473b2",
   "metadata": {},
   "outputs": [],
   "source": [
    "%reload_ext helper_func_preprocess"
   ]
  },
  {
   "cell_type": "markdown",
   "id": "4a5ec481",
   "metadata": {
    "heading_collapsed": true
   },
   "source": [
    "## Load Environment"
   ]
  },
  {
   "cell_type": "code",
   "execution_count": 7,
   "id": "4ded9acd",
   "metadata": {
    "hidden": true
   },
   "outputs": [],
   "source": [
    "%run env.py"
   ]
  },
  {
   "cell_type": "code",
   "execution_count": 8,
   "id": "af660097",
   "metadata": {
    "hidden": true
   },
   "outputs": [
    {
     "data": {
      "text/plain": [
       "'/Users/prb000j/OneDrive - Walmart Inc/Python Learn Projects/Python Projects/ML_Templates/input_data/'"
      ]
     },
     "execution_count": 8,
     "metadata": {},
     "output_type": "execute_result"
    },
    {
     "data": {
      "text/plain": [
       "[0.01, 0.03, 0.05, 0.1, 0.25, 0.5, 0.75, 0.9, 0.95, 0.97, 0.99]"
      ]
     },
     "execution_count": 8,
     "metadata": {},
     "output_type": "execute_result"
    }
   ],
   "source": [
    "INPUT_DATA_PATH\n",
    "QUANTILE_LIST"
   ]
  },
  {
   "cell_type": "markdown",
   "id": "b46f56da",
   "metadata": {},
   "source": [
    "## Read data"
   ]
  },
  {
   "cell_type": "code",
   "execution_count": 9,
   "id": "d97489ea",
   "metadata": {},
   "outputs": [
    {
     "data": {
      "text/plain": [
       "(1460, 80)"
      ]
     },
     "execution_count": 9,
     "metadata": {},
     "output_type": "execute_result"
    },
    {
     "data": {
      "text/html": [
       "<div>\n",
       "<style scoped>\n",
       "    .dataframe tbody tr th:only-of-type {\n",
       "        vertical-align: middle;\n",
       "    }\n",
       "\n",
       "    .dataframe tbody tr th {\n",
       "        vertical-align: top;\n",
       "    }\n",
       "\n",
       "    .dataframe thead th {\n",
       "        text-align: right;\n",
       "    }\n",
       "</style>\n",
       "<table border=\"1\" class=\"dataframe\">\n",
       "  <thead>\n",
       "    <tr style=\"text-align: right;\">\n",
       "      <th></th>\n",
       "      <th>MSSubClass</th>\n",
       "      <th>MSZoning</th>\n",
       "      <th>LotFrontage</th>\n",
       "      <th>LotArea</th>\n",
       "      <th>Street</th>\n",
       "      <th>Alley</th>\n",
       "      <th>LotShape</th>\n",
       "      <th>LandContour</th>\n",
       "      <th>Utilities</th>\n",
       "      <th>LotConfig</th>\n",
       "      <th>...</th>\n",
       "      <th>PoolArea</th>\n",
       "      <th>PoolQC</th>\n",
       "      <th>Fence</th>\n",
       "      <th>MiscFeature</th>\n",
       "      <th>MiscVal</th>\n",
       "      <th>MoSold</th>\n",
       "      <th>YrSold</th>\n",
       "      <th>SaleType</th>\n",
       "      <th>SaleCondition</th>\n",
       "      <th>SalePrice</th>\n",
       "    </tr>\n",
       "    <tr>\n",
       "      <th>Id</th>\n",
       "      <th></th>\n",
       "      <th></th>\n",
       "      <th></th>\n",
       "      <th></th>\n",
       "      <th></th>\n",
       "      <th></th>\n",
       "      <th></th>\n",
       "      <th></th>\n",
       "      <th></th>\n",
       "      <th></th>\n",
       "      <th></th>\n",
       "      <th></th>\n",
       "      <th></th>\n",
       "      <th></th>\n",
       "      <th></th>\n",
       "      <th></th>\n",
       "      <th></th>\n",
       "      <th></th>\n",
       "      <th></th>\n",
       "      <th></th>\n",
       "      <th></th>\n",
       "    </tr>\n",
       "  </thead>\n",
       "  <tbody>\n",
       "    <tr>\n",
       "      <th>1</th>\n",
       "      <td>60</td>\n",
       "      <td>RL</td>\n",
       "      <td>65.0</td>\n",
       "      <td>8450</td>\n",
       "      <td>Pave</td>\n",
       "      <td>NaN</td>\n",
       "      <td>Reg</td>\n",
       "      <td>Lvl</td>\n",
       "      <td>AllPub</td>\n",
       "      <td>Inside</td>\n",
       "      <td>...</td>\n",
       "      <td>0</td>\n",
       "      <td>NaN</td>\n",
       "      <td>NaN</td>\n",
       "      <td>NaN</td>\n",
       "      <td>0</td>\n",
       "      <td>2</td>\n",
       "      <td>2008</td>\n",
       "      <td>WD</td>\n",
       "      <td>Normal</td>\n",
       "      <td>208500</td>\n",
       "    </tr>\n",
       "    <tr>\n",
       "      <th>2</th>\n",
       "      <td>20</td>\n",
       "      <td>RL</td>\n",
       "      <td>80.0</td>\n",
       "      <td>9600</td>\n",
       "      <td>Pave</td>\n",
       "      <td>NaN</td>\n",
       "      <td>Reg</td>\n",
       "      <td>Lvl</td>\n",
       "      <td>AllPub</td>\n",
       "      <td>FR2</td>\n",
       "      <td>...</td>\n",
       "      <td>0</td>\n",
       "      <td>NaN</td>\n",
       "      <td>NaN</td>\n",
       "      <td>NaN</td>\n",
       "      <td>0</td>\n",
       "      <td>5</td>\n",
       "      <td>2007</td>\n",
       "      <td>WD</td>\n",
       "      <td>Normal</td>\n",
       "      <td>181500</td>\n",
       "    </tr>\n",
       "    <tr>\n",
       "      <th>3</th>\n",
       "      <td>60</td>\n",
       "      <td>RL</td>\n",
       "      <td>68.0</td>\n",
       "      <td>11250</td>\n",
       "      <td>Pave</td>\n",
       "      <td>NaN</td>\n",
       "      <td>IR1</td>\n",
       "      <td>Lvl</td>\n",
       "      <td>AllPub</td>\n",
       "      <td>Inside</td>\n",
       "      <td>...</td>\n",
       "      <td>0</td>\n",
       "      <td>NaN</td>\n",
       "      <td>NaN</td>\n",
       "      <td>NaN</td>\n",
       "      <td>0</td>\n",
       "      <td>9</td>\n",
       "      <td>2008</td>\n",
       "      <td>WD</td>\n",
       "      <td>Normal</td>\n",
       "      <td>223500</td>\n",
       "    </tr>\n",
       "  </tbody>\n",
       "</table>\n",
       "<p>3 rows × 80 columns</p>\n",
       "</div>"
      ],
      "text/plain": [
       "    MSSubClass MSZoning  LotFrontage  LotArea Street Alley LotShape  \\\n",
       "Id                                                                    \n",
       "1           60       RL         65.0     8450   Pave   NaN      Reg   \n",
       "2           20       RL         80.0     9600   Pave   NaN      Reg   \n",
       "3           60       RL         68.0    11250   Pave   NaN      IR1   \n",
       "\n",
       "   LandContour Utilities LotConfig  ... PoolArea PoolQC Fence MiscFeature  \\\n",
       "Id                                  ...                                     \n",
       "1          Lvl    AllPub    Inside  ...        0    NaN   NaN         NaN   \n",
       "2          Lvl    AllPub       FR2  ...        0    NaN   NaN         NaN   \n",
       "3          Lvl    AllPub    Inside  ...        0    NaN   NaN         NaN   \n",
       "\n",
       "   MiscVal MoSold  YrSold  SaleType  SaleCondition  SalePrice  \n",
       "Id                                                             \n",
       "1        0      2    2008        WD         Normal     208500  \n",
       "2        0      5    2007        WD         Normal     181500  \n",
       "3        0      9    2008        WD         Normal     223500  \n",
       "\n",
       "[3 rows x 80 columns]"
      ]
     },
     "execution_count": 9,
     "metadata": {},
     "output_type": "execute_result"
    }
   ],
   "source": [
    "data_raw = pd.read_csv(INPUT_DATA_PATH + 'train.csv', index_col='Id')\n",
    "data_raw.shape\n",
    "data_raw.head(3)"
   ]
  },
  {
   "cell_type": "code",
   "execution_count": 10,
   "id": "12a63084",
   "metadata": {},
   "outputs": [
    {
     "data": {
      "text/plain": [
       "Index(['MSSubClass', 'MSZoning', 'LotFrontage', 'LotArea', 'Street', 'Alley',\n",
       "       'LotShape', 'LandContour', 'Utilities', 'LotConfig', 'LandSlope',\n",
       "       'Neighborhood', 'Condition1', 'Condition2', 'BldgType', 'HouseStyle',\n",
       "       'OverallQual', 'OverallCond', 'YearBuilt', 'YearRemodAdd', 'RoofStyle',\n",
       "       'RoofMatl', 'Exterior1st', 'Exterior2nd', 'MasVnrType', 'MasVnrArea',\n",
       "       'ExterQual', 'ExterCond', 'Foundation', 'BsmtQual', 'BsmtCond',\n",
       "       'BsmtExposure', 'BsmtFinType1', 'BsmtFinSF1', 'BsmtFinType2',\n",
       "       'BsmtFinSF2', 'BsmtUnfSF', 'TotalBsmtSF', 'Heating', 'HeatingQC',\n",
       "       'CentralAir', 'Electrical', '1stFlrSF', '2ndFlrSF', 'LowQualFinSF',\n",
       "       'GrLivArea', 'BsmtFullBath', 'BsmtHalfBath', 'FullBath', 'HalfBath',\n",
       "       'BedroomAbvGr', 'KitchenAbvGr', 'KitchenQual', 'TotRmsAbvGrd',\n",
       "       'Functional', 'Fireplaces', 'FireplaceQu', 'GarageType', 'GarageYrBlt',\n",
       "       'GarageFinish', 'GarageCars', 'GarageArea', 'GarageQual', 'GarageCond',\n",
       "       'PavedDrive', 'WoodDeckSF', 'OpenPorchSF', 'EnclosedPorch', '3SsnPorch',\n",
       "       'ScreenPorch', 'PoolArea', 'PoolQC', 'Fence', 'MiscFeature', 'MiscVal',\n",
       "       'MoSold', 'YrSold', 'SaleType', 'SaleCondition', 'SalePrice'],\n",
       "      dtype='object')"
      ]
     },
     "execution_count": 10,
     "metadata": {},
     "output_type": "execute_result"
    }
   ],
   "source": [
    "data_raw.columns"
   ]
  },
  {
   "cell_type": "markdown",
   "id": "82f21cf0",
   "metadata": {
    "heading_collapsed": true
   },
   "source": [
    "### Object of class EDA instantiated"
   ]
  },
  {
   "cell_type": "code",
   "execution_count": 11,
   "id": "67f862aa",
   "metadata": {
    "hidden": true
   },
   "outputs": [],
   "source": [
    "target_feature = 'SalePrice'\n",
    "EDA_obj = helper_func_EDA.EDA(data_raw, target_feature)"
   ]
  },
  {
   "cell_type": "code",
   "execution_count": 12,
   "id": "aef3c32c",
   "metadata": {
    "hidden": true
   },
   "outputs": [
    {
     "data": {
      "text/plain": [
       "'SalePrice'"
      ]
     },
     "execution_count": 12,
     "metadata": {},
     "output_type": "execute_result"
    }
   ],
   "source": [
    "EDA_obj.target_feature"
   ]
  },
  {
   "cell_type": "markdown",
   "id": "97e391b7",
   "metadata": {},
   "source": [
    "## Basic EDA"
   ]
  },
  {
   "cell_type": "markdown",
   "id": "9e28ef1e",
   "metadata": {
    "heading_collapsed": true
   },
   "source": [
    "### EDA of target data"
   ]
  },
  {
   "cell_type": "code",
   "execution_count": 13,
   "id": "d7b942e2",
   "metadata": {
    "hidden": true
   },
   "outputs": [
    {
     "data": {
      "text/html": [
       "<div>\n",
       "<style scoped>\n",
       "    .dataframe tbody tr th:only-of-type {\n",
       "        vertical-align: middle;\n",
       "    }\n",
       "\n",
       "    .dataframe tbody tr th {\n",
       "        vertical-align: top;\n",
       "    }\n",
       "\n",
       "    .dataframe thead th {\n",
       "        text-align: right;\n",
       "    }\n",
       "</style>\n",
       "<table border=\"1\" class=\"dataframe\">\n",
       "  <thead>\n",
       "    <tr style=\"text-align: right;\">\n",
       "      <th></th>\n",
       "      <th>count</th>\n",
       "      <th>mean</th>\n",
       "      <th>std</th>\n",
       "      <th>min</th>\n",
       "      <th>1%</th>\n",
       "      <th>3%</th>\n",
       "      <th>5%</th>\n",
       "      <th>10%</th>\n",
       "      <th>25%</th>\n",
       "      <th>50%</th>\n",
       "      <th>75%</th>\n",
       "      <th>90%</th>\n",
       "      <th>95%</th>\n",
       "      <th>97%</th>\n",
       "      <th>99%</th>\n",
       "      <th>max</th>\n",
       "    </tr>\n",
       "  </thead>\n",
       "  <tbody>\n",
       "    <tr>\n",
       "      <th>SalePrice</th>\n",
       "      <td>1460.0</td>\n",
       "      <td>180921.19589</td>\n",
       "      <td>79442.502883</td>\n",
       "      <td>34900.0</td>\n",
       "      <td>61815.97</td>\n",
       "      <td>82000.0</td>\n",
       "      <td>88000.0</td>\n",
       "      <td>106475.0</td>\n",
       "      <td>129975.0</td>\n",
       "      <td>163000.0</td>\n",
       "      <td>214000.0</td>\n",
       "      <td>278000.0</td>\n",
       "      <td>326100.0</td>\n",
       "      <td>374230.0</td>\n",
       "      <td>442567.01</td>\n",
       "      <td>755000.0</td>\n",
       "    </tr>\n",
       "  </tbody>\n",
       "</table>\n",
       "</div>"
      ],
      "text/plain": [
       "            count          mean           std      min        1%       3%  \\\n",
       "SalePrice  1460.0  180921.19589  79442.502883  34900.0  61815.97  82000.0   \n",
       "\n",
       "                5%       10%       25%       50%       75%       90%  \\\n",
       "SalePrice  88000.0  106475.0  129975.0  163000.0  214000.0  278000.0   \n",
       "\n",
       "                95%       97%        99%       max  \n",
       "SalePrice  326100.0  374230.0  442567.01  755000.0  "
      ]
     },
     "execution_count": 13,
     "metadata": {},
     "output_type": "execute_result"
    }
   ],
   "source": [
    "EDA_obj.df[EDA_obj.target_feature].describe(QUANTILE_LIST).to_frame().T"
   ]
  },
  {
   "cell_type": "code",
   "execution_count": 14,
   "id": "b1938215",
   "metadata": {
    "hidden": true
   },
   "outputs": [
    {
     "data": {
      "text/plain": [
       "pandas.core.series.Series"
      ]
     },
     "execution_count": 14,
     "metadata": {},
     "output_type": "execute_result"
    }
   ],
   "source": [
    "type(EDA_obj.df[EDA_obj.target_feature])"
   ]
  },
  {
   "cell_type": "code",
   "execution_count": 15,
   "id": "04806f15",
   "metadata": {
    "hidden": true
   },
   "outputs": [
    {
     "data": {
      "text/plain": [
       "0"
      ]
     },
     "execution_count": 15,
     "metadata": {},
     "output_type": "execute_result"
    }
   ],
   "source": [
    "EDA_obj.df[EDA_obj.target_feature].isna().sum()"
   ]
  },
  {
   "cell_type": "raw",
   "id": "091e7627",
   "metadata": {
    "hidden": true
   },
   "source": [
    "plt.figure(figsize = (12,6))\n",
    "\n",
    "sns.boxplot(y = EDA_obj.target_feature, data = EDA_obj.df)\n",
    "\n",
    "plt.show();"
   ]
  },
  {
   "cell_type": "markdown",
   "id": "fb36a3bd",
   "metadata": {
    "heading_collapsed": true
   },
   "source": [
    "### EDA of features"
   ]
  },
  {
   "cell_type": "raw",
   "id": "f8fe4f92",
   "metadata": {
    "hidden": true
   },
   "source": [
    "def getColsWithManyNAs(df, na_allowed=0.5):\n",
    "    '''\n",
    "    cols that have more than the allowed pct of rows \n",
    "    will get returned\n",
    "    '''\n",
    "    thresh_na_count = int(na_allowed * df.shape[0])\n",
    "    op_str = f\"NA count is at least {thresh_na_count} rows out of {df.shape[0]} | {thresh_na_count/ df.shape[0]:.2%}\"\n",
    "    print(op_str)\n",
    "    cols_w_manyNAs = df.isna().sum()[df.isna().sum() > thresh_na_count].index.to_list()\n",
    "    return cols_w_manyNAs"
   ]
  },
  {
   "cell_type": "code",
   "execution_count": 16,
   "id": "9145d661",
   "metadata": {
    "hidden": true
   },
   "outputs": [
    {
     "data": {
      "text/plain": [
       "43"
      ]
     },
     "execution_count": 16,
     "metadata": {},
     "output_type": "execute_result"
    },
    {
     "data": {
      "text/plain": [
       "37"
      ]
     },
     "execution_count": 16,
     "metadata": {},
     "output_type": "execute_result"
    },
    {
     "data": {
      "text/html": [
       "<div>\n",
       "<style scoped>\n",
       "    .dataframe tbody tr th:only-of-type {\n",
       "        vertical-align: middle;\n",
       "    }\n",
       "\n",
       "    .dataframe tbody tr th {\n",
       "        vertical-align: top;\n",
       "    }\n",
       "\n",
       "    .dataframe thead th {\n",
       "        text-align: right;\n",
       "    }\n",
       "</style>\n",
       "<table border=\"1\" class=\"dataframe\">\n",
       "  <thead>\n",
       "    <tr style=\"text-align: right;\">\n",
       "      <th></th>\n",
       "      <th>MSZoning</th>\n",
       "      <th>Street</th>\n",
       "      <th>Alley</th>\n",
       "      <th>LotShape</th>\n",
       "      <th>LandContour</th>\n",
       "      <th>Utilities</th>\n",
       "      <th>LotConfig</th>\n",
       "      <th>LandSlope</th>\n",
       "      <th>Neighborhood</th>\n",
       "      <th>Condition1</th>\n",
       "      <th>...</th>\n",
       "      <th>GarageType</th>\n",
       "      <th>GarageFinish</th>\n",
       "      <th>GarageQual</th>\n",
       "      <th>GarageCond</th>\n",
       "      <th>PavedDrive</th>\n",
       "      <th>PoolQC</th>\n",
       "      <th>Fence</th>\n",
       "      <th>MiscFeature</th>\n",
       "      <th>SaleType</th>\n",
       "      <th>SaleCondition</th>\n",
       "    </tr>\n",
       "    <tr>\n",
       "      <th>Id</th>\n",
       "      <th></th>\n",
       "      <th></th>\n",
       "      <th></th>\n",
       "      <th></th>\n",
       "      <th></th>\n",
       "      <th></th>\n",
       "      <th></th>\n",
       "      <th></th>\n",
       "      <th></th>\n",
       "      <th></th>\n",
       "      <th></th>\n",
       "      <th></th>\n",
       "      <th></th>\n",
       "      <th></th>\n",
       "      <th></th>\n",
       "      <th></th>\n",
       "      <th></th>\n",
       "      <th></th>\n",
       "      <th></th>\n",
       "      <th></th>\n",
       "      <th></th>\n",
       "    </tr>\n",
       "  </thead>\n",
       "  <tbody>\n",
       "    <tr>\n",
       "      <th>1</th>\n",
       "      <td>RL</td>\n",
       "      <td>Pave</td>\n",
       "      <td>NaN</td>\n",
       "      <td>Reg</td>\n",
       "      <td>Lvl</td>\n",
       "      <td>AllPub</td>\n",
       "      <td>Inside</td>\n",
       "      <td>Gtl</td>\n",
       "      <td>CollgCr</td>\n",
       "      <td>Norm</td>\n",
       "      <td>...</td>\n",
       "      <td>Attchd</td>\n",
       "      <td>RFn</td>\n",
       "      <td>TA</td>\n",
       "      <td>TA</td>\n",
       "      <td>Y</td>\n",
       "      <td>NaN</td>\n",
       "      <td>NaN</td>\n",
       "      <td>NaN</td>\n",
       "      <td>WD</td>\n",
       "      <td>Normal</td>\n",
       "    </tr>\n",
       "    <tr>\n",
       "      <th>2</th>\n",
       "      <td>RL</td>\n",
       "      <td>Pave</td>\n",
       "      <td>NaN</td>\n",
       "      <td>Reg</td>\n",
       "      <td>Lvl</td>\n",
       "      <td>AllPub</td>\n",
       "      <td>FR2</td>\n",
       "      <td>Gtl</td>\n",
       "      <td>Veenker</td>\n",
       "      <td>Feedr</td>\n",
       "      <td>...</td>\n",
       "      <td>Attchd</td>\n",
       "      <td>RFn</td>\n",
       "      <td>TA</td>\n",
       "      <td>TA</td>\n",
       "      <td>Y</td>\n",
       "      <td>NaN</td>\n",
       "      <td>NaN</td>\n",
       "      <td>NaN</td>\n",
       "      <td>WD</td>\n",
       "      <td>Normal</td>\n",
       "    </tr>\n",
       "    <tr>\n",
       "      <th>3</th>\n",
       "      <td>RL</td>\n",
       "      <td>Pave</td>\n",
       "      <td>NaN</td>\n",
       "      <td>IR1</td>\n",
       "      <td>Lvl</td>\n",
       "      <td>AllPub</td>\n",
       "      <td>Inside</td>\n",
       "      <td>Gtl</td>\n",
       "      <td>CollgCr</td>\n",
       "      <td>Norm</td>\n",
       "      <td>...</td>\n",
       "      <td>Attchd</td>\n",
       "      <td>RFn</td>\n",
       "      <td>TA</td>\n",
       "      <td>TA</td>\n",
       "      <td>Y</td>\n",
       "      <td>NaN</td>\n",
       "      <td>NaN</td>\n",
       "      <td>NaN</td>\n",
       "      <td>WD</td>\n",
       "      <td>Normal</td>\n",
       "    </tr>\n",
       "  </tbody>\n",
       "</table>\n",
       "<p>3 rows × 43 columns</p>\n",
       "</div>"
      ],
      "text/plain": [
       "   MSZoning Street Alley LotShape LandContour Utilities LotConfig LandSlope  \\\n",
       "Id                                                                            \n",
       "1        RL   Pave   NaN      Reg         Lvl    AllPub    Inside       Gtl   \n",
       "2        RL   Pave   NaN      Reg         Lvl    AllPub       FR2       Gtl   \n",
       "3        RL   Pave   NaN      IR1         Lvl    AllPub    Inside       Gtl   \n",
       "\n",
       "   Neighborhood Condition1  ... GarageType GarageFinish GarageQual GarageCond  \\\n",
       "Id                          ...                                                 \n",
       "1       CollgCr       Norm  ...     Attchd          RFn         TA         TA   \n",
       "2       Veenker      Feedr  ...     Attchd          RFn         TA         TA   \n",
       "3       CollgCr       Norm  ...     Attchd          RFn         TA         TA   \n",
       "\n",
       "   PavedDrive PoolQC Fence MiscFeature SaleType SaleCondition  \n",
       "Id                                                             \n",
       "1           Y    NaN   NaN         NaN       WD        Normal  \n",
       "2           Y    NaN   NaN         NaN       WD        Normal  \n",
       "3           Y    NaN   NaN         NaN       WD        Normal  \n",
       "\n",
       "[3 rows x 43 columns]"
      ]
     },
     "execution_count": 16,
     "metadata": {},
     "output_type": "execute_result"
    },
    {
     "data": {
      "text/html": [
       "<div>\n",
       "<style scoped>\n",
       "    .dataframe tbody tr th:only-of-type {\n",
       "        vertical-align: middle;\n",
       "    }\n",
       "\n",
       "    .dataframe tbody tr th {\n",
       "        vertical-align: top;\n",
       "    }\n",
       "\n",
       "    .dataframe thead th {\n",
       "        text-align: right;\n",
       "    }\n",
       "</style>\n",
       "<table border=\"1\" class=\"dataframe\">\n",
       "  <thead>\n",
       "    <tr style=\"text-align: right;\">\n",
       "      <th></th>\n",
       "      <th>MSSubClass</th>\n",
       "      <th>LotFrontage</th>\n",
       "      <th>LotArea</th>\n",
       "      <th>OverallQual</th>\n",
       "      <th>OverallCond</th>\n",
       "      <th>YearBuilt</th>\n",
       "      <th>YearRemodAdd</th>\n",
       "      <th>MasVnrArea</th>\n",
       "      <th>BsmtFinSF1</th>\n",
       "      <th>BsmtFinSF2</th>\n",
       "      <th>...</th>\n",
       "      <th>WoodDeckSF</th>\n",
       "      <th>OpenPorchSF</th>\n",
       "      <th>EnclosedPorch</th>\n",
       "      <th>3SsnPorch</th>\n",
       "      <th>ScreenPorch</th>\n",
       "      <th>PoolArea</th>\n",
       "      <th>MiscVal</th>\n",
       "      <th>MoSold</th>\n",
       "      <th>YrSold</th>\n",
       "      <th>SalePrice</th>\n",
       "    </tr>\n",
       "    <tr>\n",
       "      <th>Id</th>\n",
       "      <th></th>\n",
       "      <th></th>\n",
       "      <th></th>\n",
       "      <th></th>\n",
       "      <th></th>\n",
       "      <th></th>\n",
       "      <th></th>\n",
       "      <th></th>\n",
       "      <th></th>\n",
       "      <th></th>\n",
       "      <th></th>\n",
       "      <th></th>\n",
       "      <th></th>\n",
       "      <th></th>\n",
       "      <th></th>\n",
       "      <th></th>\n",
       "      <th></th>\n",
       "      <th></th>\n",
       "      <th></th>\n",
       "      <th></th>\n",
       "      <th></th>\n",
       "    </tr>\n",
       "  </thead>\n",
       "  <tbody>\n",
       "    <tr>\n",
       "      <th>1</th>\n",
       "      <td>60</td>\n",
       "      <td>65.0</td>\n",
       "      <td>8450</td>\n",
       "      <td>7</td>\n",
       "      <td>5</td>\n",
       "      <td>2003</td>\n",
       "      <td>2003</td>\n",
       "      <td>196.0</td>\n",
       "      <td>706</td>\n",
       "      <td>0</td>\n",
       "      <td>...</td>\n",
       "      <td>0</td>\n",
       "      <td>61</td>\n",
       "      <td>0</td>\n",
       "      <td>0</td>\n",
       "      <td>0</td>\n",
       "      <td>0</td>\n",
       "      <td>0</td>\n",
       "      <td>2</td>\n",
       "      <td>2008</td>\n",
       "      <td>208500</td>\n",
       "    </tr>\n",
       "    <tr>\n",
       "      <th>2</th>\n",
       "      <td>20</td>\n",
       "      <td>80.0</td>\n",
       "      <td>9600</td>\n",
       "      <td>6</td>\n",
       "      <td>8</td>\n",
       "      <td>1976</td>\n",
       "      <td>1976</td>\n",
       "      <td>0.0</td>\n",
       "      <td>978</td>\n",
       "      <td>0</td>\n",
       "      <td>...</td>\n",
       "      <td>298</td>\n",
       "      <td>0</td>\n",
       "      <td>0</td>\n",
       "      <td>0</td>\n",
       "      <td>0</td>\n",
       "      <td>0</td>\n",
       "      <td>0</td>\n",
       "      <td>5</td>\n",
       "      <td>2007</td>\n",
       "      <td>181500</td>\n",
       "    </tr>\n",
       "    <tr>\n",
       "      <th>3</th>\n",
       "      <td>60</td>\n",
       "      <td>68.0</td>\n",
       "      <td>11250</td>\n",
       "      <td>7</td>\n",
       "      <td>5</td>\n",
       "      <td>2001</td>\n",
       "      <td>2002</td>\n",
       "      <td>162.0</td>\n",
       "      <td>486</td>\n",
       "      <td>0</td>\n",
       "      <td>...</td>\n",
       "      <td>0</td>\n",
       "      <td>42</td>\n",
       "      <td>0</td>\n",
       "      <td>0</td>\n",
       "      <td>0</td>\n",
       "      <td>0</td>\n",
       "      <td>0</td>\n",
       "      <td>9</td>\n",
       "      <td>2008</td>\n",
       "      <td>223500</td>\n",
       "    </tr>\n",
       "  </tbody>\n",
       "</table>\n",
       "<p>3 rows × 37 columns</p>\n",
       "</div>"
      ],
      "text/plain": [
       "    MSSubClass  LotFrontage  LotArea  OverallQual  OverallCond  YearBuilt  \\\n",
       "Id                                                                          \n",
       "1           60         65.0     8450            7            5       2003   \n",
       "2           20         80.0     9600            6            8       1976   \n",
       "3           60         68.0    11250            7            5       2001   \n",
       "\n",
       "    YearRemodAdd  MasVnrArea  BsmtFinSF1  BsmtFinSF2  ...  WoodDeckSF  \\\n",
       "Id                                                    ...               \n",
       "1           2003       196.0         706           0  ...           0   \n",
       "2           1976         0.0         978           0  ...         298   \n",
       "3           2002       162.0         486           0  ...           0   \n",
       "\n",
       "    OpenPorchSF  EnclosedPorch  3SsnPorch  ScreenPorch  PoolArea  MiscVal  \\\n",
       "Id                                                                          \n",
       "1            61              0          0            0         0        0   \n",
       "2             0              0          0            0         0        0   \n",
       "3            42              0          0            0         0        0   \n",
       "\n",
       "    MoSold  YrSold  SalePrice  \n",
       "Id                             \n",
       "1        2    2008     208500  \n",
       "2        5    2007     181500  \n",
       "3        9    2008     223500  \n",
       "\n",
       "[3 rows x 37 columns]"
      ]
     },
     "execution_count": 16,
     "metadata": {},
     "output_type": "execute_result"
    }
   ],
   "source": [
    "catg_features = EDA_obj.df.select_dtypes(include='object').columns.to_list()\n",
    "numeric_features = EDA_obj.df.select_dtypes(exclude='object').columns.to_list()\n",
    "len(catg_features)\n",
    "len(numeric_features)\n",
    "EDA_obj.df[catg_features].head(3)\n",
    "EDA_obj.df[numeric_features].head(3)"
   ]
  },
  {
   "cell_type": "code",
   "execution_count": 17,
   "id": "f314ba84",
   "metadata": {
    "hidden": true
   },
   "outputs": [
    {
     "name": "stdout",
     "output_type": "stream",
     "text": [
      "NA count is at least 730 rows out of 1460 | 50.00%\n"
     ]
    },
    {
     "data": {
      "text/plain": [
       "['Alley', 'PoolQC', 'Fence', 'MiscFeature']"
      ]
     },
     "execution_count": 17,
     "metadata": {},
     "output_type": "execute_result"
    }
   ],
   "source": [
    "cols_w_manyNAs = EDA_obj.getColsWithManyNAs()\n",
    "cols_w_manyNAs"
   ]
  },
  {
   "cell_type": "code",
   "execution_count": 18,
   "id": "02075636",
   "metadata": {
    "hidden": true
   },
   "outputs": [
    {
     "data": {
      "text/plain": [
       "Alley          1369\n",
       "PoolQC         1453\n",
       "Fence          1179\n",
       "MiscFeature    1406\n",
       "dtype: int64"
      ]
     },
     "execution_count": 18,
     "metadata": {},
     "output_type": "execute_result"
    }
   ],
   "source": [
    "EDA_obj.df[cols_w_manyNAs].isna().sum()"
   ]
  },
  {
   "cell_type": "code",
   "execution_count": 19,
   "id": "de759fca",
   "metadata": {
    "hidden": true,
    "scrolled": true
   },
   "outputs": [
    {
     "data": {
      "text/plain": [
       "{'Alley': Grvl    50\n",
       " Pave    41\n",
       " Name: Alley, dtype: int64,\n",
       " 'PoolQC': Gd    3\n",
       " Ex    2\n",
       " Fa    2\n",
       " Name: PoolQC, dtype: int64,\n",
       " 'Fence': MnPrv    157\n",
       " GdPrv     59\n",
       " GdWo      54\n",
       " MnWw      11\n",
       " Name: Fence, dtype: int64,\n",
       " 'MiscFeature': Shed    49\n",
       " Othr     2\n",
       " Gar2     2\n",
       " TenC     1\n",
       " Name: MiscFeature, dtype: int64}"
      ]
     },
     "execution_count": 19,
     "metadata": {},
     "output_type": "execute_result"
    }
   ],
   "source": [
    "{col: EDA_obj.df[col].value_counts() for col in cols_w_manyNAs}"
   ]
  },
  {
   "cell_type": "code",
   "execution_count": 20,
   "id": "c55706d9",
   "metadata": {
    "hidden": true,
    "scrolled": false
   },
   "outputs": [
    {
     "data": {
      "text/plain": [
       "{'MSZoning': array(['RL', 'RM', 'C (all)', 'FV', 'RH'], dtype=object),\n",
       " 'Street': array(['Pave', 'Grvl'], dtype=object),\n",
       " 'Alley': array([nan, 'Grvl', 'Pave'], dtype=object),\n",
       " 'LotShape': array(['Reg', 'IR1', 'IR2', 'IR3'], dtype=object),\n",
       " 'LandContour': array(['Lvl', 'Bnk', 'Low', 'HLS'], dtype=object),\n",
       " 'Utilities': array(['AllPub', 'NoSeWa'], dtype=object),\n",
       " 'LotConfig': array(['Inside', 'FR2', 'Corner', 'CulDSac', 'FR3'], dtype=object),\n",
       " 'LandSlope': array(['Gtl', 'Mod', 'Sev'], dtype=object),\n",
       " 'Condition1': array(['Norm', 'Feedr', 'PosN', 'Artery', 'RRAe', 'RRNn', 'RRAn', 'PosA',\n",
       "        'RRNe'], dtype=object),\n",
       " 'Condition2': array(['Norm', 'Artery', 'RRNn', 'Feedr', 'PosN', 'PosA', 'RRAn', 'RRAe'],\n",
       "       dtype=object),\n",
       " 'BldgType': array(['1Fam', '2fmCon', 'Duplex', 'TwnhsE', 'Twnhs'], dtype=object),\n",
       " 'HouseStyle': array(['2Story', '1Story', '1.5Fin', '1.5Unf', 'SFoyer', 'SLvl', '2.5Unf',\n",
       "        '2.5Fin'], dtype=object),\n",
       " 'RoofStyle': array(['Gable', 'Hip', 'Gambrel', 'Mansard', 'Flat', 'Shed'], dtype=object),\n",
       " 'RoofMatl': array(['CompShg', 'WdShngl', 'Metal', 'WdShake', 'Membran', 'Tar&Grv',\n",
       "        'Roll', 'ClyTile'], dtype=object),\n",
       " 'Exterior1st': array(['VinylSd', 'MetalSd', 'Wd Sdng', 'HdBoard', 'BrkFace', 'WdShing',\n",
       "        'CemntBd', 'Plywood', 'AsbShng', 'Stucco', 'BrkComm', 'AsphShn',\n",
       "        'Stone', 'ImStucc', 'CBlock'], dtype=object),\n",
       " 'Exterior2nd': array(['VinylSd', 'MetalSd', 'Wd Shng', 'HdBoard', 'Plywood', 'Wd Sdng',\n",
       "        'CmentBd', 'BrkFace', 'Stucco', 'AsbShng', 'Brk Cmn', 'ImStucc',\n",
       "        'AsphShn', 'Stone', 'Other', 'CBlock'], dtype=object),\n",
       " 'MasVnrType': array(['BrkFace', 'None', 'Stone', 'BrkCmn', nan], dtype=object),\n",
       " 'ExterQual': array(['Gd', 'TA', 'Ex', 'Fa'], dtype=object),\n",
       " 'ExterCond': array(['TA', 'Gd', 'Fa', 'Po', 'Ex'], dtype=object),\n",
       " 'Foundation': array(['PConc', 'CBlock', 'BrkTil', 'Wood', 'Slab', 'Stone'], dtype=object),\n",
       " 'BsmtQual': array(['Gd', 'TA', 'Ex', nan, 'Fa'], dtype=object),\n",
       " 'BsmtCond': array(['TA', 'Gd', nan, 'Fa', 'Po'], dtype=object),\n",
       " 'BsmtExposure': array(['No', 'Gd', 'Mn', 'Av', nan], dtype=object),\n",
       " 'BsmtFinType1': array(['GLQ', 'ALQ', 'Unf', 'Rec', 'BLQ', nan, 'LwQ'], dtype=object),\n",
       " 'BsmtFinType2': array(['Unf', 'BLQ', nan, 'ALQ', 'Rec', 'LwQ', 'GLQ'], dtype=object),\n",
       " 'Heating': array(['GasA', 'GasW', 'Grav', 'Wall', 'OthW', 'Floor'], dtype=object),\n",
       " 'HeatingQC': array(['Ex', 'Gd', 'TA', 'Fa', 'Po'], dtype=object),\n",
       " 'CentralAir': array(['Y', 'N'], dtype=object),\n",
       " 'Electrical': array(['SBrkr', 'FuseF', 'FuseA', 'FuseP', 'Mix', nan], dtype=object),\n",
       " 'KitchenQual': array(['Gd', 'TA', 'Ex', 'Fa'], dtype=object),\n",
       " 'Functional': array(['Typ', 'Min1', 'Maj1', 'Min2', 'Mod', 'Maj2', 'Sev'], dtype=object),\n",
       " 'FireplaceQu': array([nan, 'TA', 'Gd', 'Fa', 'Ex', 'Po'], dtype=object),\n",
       " 'GarageType': array(['Attchd', 'Detchd', 'BuiltIn', 'CarPort', nan, 'Basment', '2Types'],\n",
       "       dtype=object),\n",
       " 'GarageFinish': array(['RFn', 'Unf', 'Fin', nan], dtype=object),\n",
       " 'GarageQual': array(['TA', 'Fa', 'Gd', nan, 'Ex', 'Po'], dtype=object),\n",
       " 'GarageCond': array(['TA', 'Fa', nan, 'Gd', 'Po', 'Ex'], dtype=object),\n",
       " 'PavedDrive': array(['Y', 'N', 'P'], dtype=object),\n",
       " 'PoolQC': array([nan, 'Ex', 'Fa', 'Gd'], dtype=object),\n",
       " 'Fence': array([nan, 'MnPrv', 'GdWo', 'GdPrv', 'MnWw'], dtype=object),\n",
       " 'MiscFeature': array([nan, 'Shed', 'Gar2', 'Othr', 'TenC'], dtype=object),\n",
       " 'SaleType': array(['WD', 'New', 'COD', 'ConLD', 'ConLI', 'CWD', 'ConLw', 'Con', 'Oth'],\n",
       "       dtype=object),\n",
       " 'SaleCondition': array(['Normal', 'Abnorml', 'Partial', 'AdjLand', 'Alloca', 'Family'],\n",
       "       dtype=object)}"
      ]
     },
     "execution_count": 20,
     "metadata": {},
     "output_type": "execute_result"
    }
   ],
   "source": [
    "{col: EDA_obj.df[col].unique() for col in catg_features if EDA_obj.df[col].nunique() < 20}"
   ]
  },
  {
   "cell_type": "code",
   "execution_count": 21,
   "id": "8ef31cf8",
   "metadata": {
    "hidden": true
   },
   "outputs": [
    {
     "data": {
      "text/plain": [
       "{'MSSubClass': 15,\n",
       " 'OverallQual': 10,\n",
       " 'OverallCond': 9,\n",
       " 'LowQualFinSF': 24,\n",
       " 'BsmtFullBath': 4,\n",
       " 'BsmtHalfBath': 3,\n",
       " 'FullBath': 4,\n",
       " 'HalfBath': 3,\n",
       " 'BedroomAbvGr': 8,\n",
       " 'KitchenAbvGr': 4,\n",
       " 'TotRmsAbvGrd': 12,\n",
       " 'Fireplaces': 4,\n",
       " 'GarageCars': 5,\n",
       " '3SsnPorch': 20,\n",
       " 'PoolArea': 8,\n",
       " 'MiscVal': 21,\n",
       " 'MoSold': 12,\n",
       " 'YrSold': 5}"
      ]
     },
     "execution_count": 21,
     "metadata": {},
     "output_type": "execute_result"
    },
    {
     "data": {
      "text/plain": [
       "18"
      ]
     },
     "execution_count": 21,
     "metadata": {},
     "output_type": "execute_result"
    }
   ],
   "source": [
    "## some features resemble a numeric column; however, we need to treat them as a categorical\n",
    "{col: EDA_obj.df[col].nunique() for col in numeric_features if EDA_obj.df[col].nunique()<50}\n",
    "pseudo_catg_features = [col for col in numeric_features if EDA_obj.df[col].nunique()<50]\n",
    "len(pseudo_catg_features)"
   ]
  },
  {
   "cell_type": "code",
   "execution_count": null,
   "id": "99cd8a6c",
   "metadata": {
    "hidden": true
   },
   "outputs": [],
   "source": []
  },
  {
   "cell_type": "markdown",
   "id": "8a83e269",
   "metadata": {},
   "source": [
    "### Bi variate analysis"
   ]
  },
  {
   "cell_type": "markdown",
   "id": "99f6f950",
   "metadata": {
    "heading_collapsed": true
   },
   "source": [
    "#### Deviation in target explained by Cols"
   ]
  },
  {
   "cell_type": "code",
   "execution_count": 22,
   "id": "e966f339",
   "metadata": {
    "hidden": true
   },
   "outputs": [
    {
     "data": {
      "text/plain": [
       "4"
      ]
     },
     "execution_count": 22,
     "metadata": {},
     "output_type": "execute_result"
    }
   ],
   "source": [
    "len(cols_w_manyNAs)"
   ]
  },
  {
   "cell_type": "raw",
   "id": "945d1584",
   "metadata": {
    "hidden": true,
    "scrolled": false
   },
   "source": [
    "EDA_obj.plotCatgPlot(cols_w_manyNAs)"
   ]
  },
  {
   "cell_type": "raw",
   "id": "70c3bafd",
   "metadata": {
    "hidden": true
   },
   "source": [
    "The columns that were found to have many NAs do NOT have much of a differentiator wrt the target feature.\n",
    "Hence, we can drop all these features which have many NAs"
   ]
  },
  {
   "cell_type": "raw",
   "id": "544e3a58",
   "metadata": {
    "hidden": true
   },
   "source": [
    "These cols can be considered as input features while training models since the variation in their values show a deviation in the target value "
   ]
  },
  {
   "cell_type": "code",
   "execution_count": null,
   "id": "4058b56f",
   "metadata": {
    "hidden": true
   },
   "outputs": [],
   "source": []
  },
  {
   "cell_type": "code",
   "execution_count": null,
   "id": "29b8b505",
   "metadata": {
    "hidden": true
   },
   "outputs": [],
   "source": []
  },
  {
   "cell_type": "code",
   "execution_count": 23,
   "id": "055ceb3c",
   "metadata": {
    "hidden": true
   },
   "outputs": [
    {
     "data": {
      "text/plain": [
       "18"
      ]
     },
     "execution_count": 23,
     "metadata": {},
     "output_type": "execute_result"
    }
   ],
   "source": [
    "len(pseudo_catg_features)"
   ]
  },
  {
   "cell_type": "raw",
   "id": "e223786c",
   "metadata": {
    "hidden": true
   },
   "source": [
    "EDA_obj.plotCatgPlot(pseudo_catg_features, sns.barplot, def_cols=6)"
   ]
  },
  {
   "cell_type": "code",
   "execution_count": null,
   "id": "dc9b94d9",
   "metadata": {
    "hidden": true
   },
   "outputs": [],
   "source": []
  },
  {
   "cell_type": "code",
   "execution_count": 24,
   "id": "23347e34",
   "metadata": {
    "hidden": true
   },
   "outputs": [
    {
     "data": {
      "text/plain": [
       "43"
      ]
     },
     "execution_count": 24,
     "metadata": {},
     "output_type": "execute_result"
    }
   ],
   "source": [
    "len(catg_features)"
   ]
  },
  {
   "cell_type": "raw",
   "id": "04ed0f3e",
   "metadata": {
    "hidden": true
   },
   "source": [
    "EDA_obj.plotCatgPlot(catg_features, sns.barplot, def_cols=6)"
   ]
  },
  {
   "cell_type": "code",
   "execution_count": null,
   "id": "6129d4ce",
   "metadata": {
    "hidden": true
   },
   "outputs": [],
   "source": []
  },
  {
   "cell_type": "code",
   "execution_count": 25,
   "id": "5dcb062f",
   "metadata": {
    "hidden": true,
    "scrolled": true
   },
   "outputs": [
    {
     "data": {
      "text/plain": [
       "['MoSold', 'YrSold', 'BsmtHalfBath']"
      ]
     },
     "execution_count": 25,
     "metadata": {},
     "output_type": "execute_result"
    }
   ],
   "source": [
    "_, cols_w_low_dev1 = EDA_obj.explainedDeviationByCols(pseudo_catg_features)\n",
    "cols_w_low_dev1"
   ]
  },
  {
   "cell_type": "code",
   "execution_count": 26,
   "id": "af1732b5",
   "metadata": {
    "hidden": true,
    "scrolled": true
   },
   "outputs": [
    {
     "data": {
      "text/plain": [
       "[]"
      ]
     },
     "execution_count": 26,
     "metadata": {},
     "output_type": "execute_result"
    }
   ],
   "source": [
    "_, cols_w_low_dev2 = EDA_obj.explainedDeviationByCols(catg_features)\n",
    "cols_w_low_dev2"
   ]
  },
  {
   "cell_type": "code",
   "execution_count": 27,
   "id": "58537517",
   "metadata": {
    "hidden": true
   },
   "outputs": [
    {
     "data": {
      "text/plain": [
       "[]"
      ]
     },
     "execution_count": 27,
     "metadata": {},
     "output_type": "execute_result"
    }
   ],
   "source": [
    "_, cols_w_low_dev3 = EDA_obj.explainedDeviationByCols(cols_w_manyNAs)\n",
    "cols_w_low_dev3"
   ]
  },
  {
   "cell_type": "code",
   "execution_count": 28,
   "id": "7d2ebb81",
   "metadata": {
    "hidden": true
   },
   "outputs": [
    {
     "data": {
      "text/plain": [
       "['MoSold', 'YrSold', 'BsmtHalfBath']"
      ]
     },
     "execution_count": 28,
     "metadata": {},
     "output_type": "execute_result"
    }
   ],
   "source": [
    "cols_w_low_dev = cols_w_low_dev1 + cols_w_low_dev2\n",
    "cols_w_low_dev = cols_w_low_dev + cols_w_low_dev3\n",
    "cols_w_low_dev"
   ]
  },
  {
   "cell_type": "code",
   "execution_count": null,
   "id": "b8ace5c6",
   "metadata": {
    "hidden": true
   },
   "outputs": [],
   "source": []
  },
  {
   "cell_type": "markdown",
   "id": "428acb2f",
   "metadata": {
    "heading_collapsed": true
   },
   "source": [
    "#### Multi collinearity between features"
   ]
  },
  {
   "cell_type": "code",
   "execution_count": 29,
   "id": "aa3a197d",
   "metadata": {
    "hidden": true
   },
   "outputs": [
    {
     "data": {
      "text/plain": [
       "'SalePrice'"
      ]
     },
     "execution_count": 29,
     "metadata": {},
     "output_type": "execute_result"
    }
   ],
   "source": [
    "EDA_obj.target_feature"
   ]
  },
  {
   "cell_type": "code",
   "execution_count": 30,
   "id": "a33ab3f7",
   "metadata": {
    "hidden": true
   },
   "outputs": [
    {
     "data": {
      "text/plain": [
       "37"
      ]
     },
     "execution_count": 30,
     "metadata": {},
     "output_type": "execute_result"
    },
    {
     "data": {
      "text/plain": [
       "18"
      ]
     },
     "execution_count": 30,
     "metadata": {},
     "output_type": "execute_result"
    }
   ],
   "source": [
    "len(numeric_features)\n",
    "numeric_features_upd = list(set(numeric_features).difference(set(pseudo_catg_features + [target_feature])))\n",
    "len(numeric_features_upd)"
   ]
  },
  {
   "cell_type": "raw",
   "id": "6e54039c",
   "metadata": {
    "hidden": true
   },
   "source": [
    "plt.figure(figsize=(12,6))\n",
    "\n",
    "sns.heatmap(EDA_obj.df[numeric_features_upd].corr())\n",
    "\n",
    "plt.show();"
   ]
  },
  {
   "cell_type": "code",
   "execution_count": null,
   "id": "462b64b0",
   "metadata": {
    "hidden": true
   },
   "outputs": [],
   "source": []
  },
  {
   "cell_type": "code",
   "execution_count": 31,
   "id": "49e661aa",
   "metadata": {
    "hidden": true
   },
   "outputs": [
    {
     "data": {
      "text/plain": [
       "(153, 2)"
      ]
     },
     "execution_count": 31,
     "metadata": {},
     "output_type": "execute_result"
    },
    {
     "data": {
      "text/html": [
       "<div>\n",
       "<style scoped>\n",
       "    .dataframe tbody tr th:only-of-type {\n",
       "        vertical-align: middle;\n",
       "    }\n",
       "\n",
       "    .dataframe tbody tr th {\n",
       "        vertical-align: top;\n",
       "    }\n",
       "\n",
       "    .dataframe thead th {\n",
       "        text-align: right;\n",
       "    }\n",
       "</style>\n",
       "<table border=\"1\" class=\"dataframe\">\n",
       "  <thead>\n",
       "    <tr style=\"text-align: right;\">\n",
       "      <th></th>\n",
       "      <th>feature_pair</th>\n",
       "      <th>corr_val</th>\n",
       "    </tr>\n",
       "  </thead>\n",
       "  <tbody>\n",
       "    <tr>\n",
       "      <th>0</th>\n",
       "      <td>GarageYrBlt__YearBuilt</td>\n",
       "      <td>0.825667</td>\n",
       "    </tr>\n",
       "    <tr>\n",
       "      <th>1</th>\n",
       "      <td>1stFlrSF__TotalBsmtSF</td>\n",
       "      <td>0.819530</td>\n",
       "    </tr>\n",
       "    <tr>\n",
       "      <th>2</th>\n",
       "      <td>2ndFlrSF__GrLivArea</td>\n",
       "      <td>0.687501</td>\n",
       "    </tr>\n",
       "    <tr>\n",
       "      <th>3</th>\n",
       "      <td>GarageYrBlt__YearRemodAdd</td>\n",
       "      <td>0.642277</td>\n",
       "    </tr>\n",
       "    <tr>\n",
       "      <th>4</th>\n",
       "      <td>YearRemodAdd__YearBuilt</td>\n",
       "      <td>0.592855</td>\n",
       "    </tr>\n",
       "    <tr>\n",
       "      <th>5</th>\n",
       "      <td>1stFlrSF__GrLivArea</td>\n",
       "      <td>0.566024</td>\n",
       "    </tr>\n",
       "    <tr>\n",
       "      <th>6</th>\n",
       "      <td>GarageYrBlt__GarageArea</td>\n",
       "      <td>0.564567</td>\n",
       "    </tr>\n",
       "    <tr>\n",
       "      <th>7</th>\n",
       "      <td>TotalBsmtSF__BsmtFinSF1</td>\n",
       "      <td>0.522396</td>\n",
       "    </tr>\n",
       "    <tr>\n",
       "      <th>8</th>\n",
       "      <td>BsmtFinSF1__BsmtUnfSF</td>\n",
       "      <td>-0.495251</td>\n",
       "    </tr>\n",
       "    <tr>\n",
       "      <th>9</th>\n",
       "      <td>1stFlrSF__GarageArea</td>\n",
       "      <td>0.489782</td>\n",
       "    </tr>\n",
       "  </tbody>\n",
       "</table>\n",
       "</div>"
      ],
      "text/plain": [
       "                feature_pair  corr_val\n",
       "0     GarageYrBlt__YearBuilt  0.825667\n",
       "1      1stFlrSF__TotalBsmtSF  0.819530\n",
       "2        2ndFlrSF__GrLivArea  0.687501\n",
       "3  GarageYrBlt__YearRemodAdd  0.642277\n",
       "4    YearRemodAdd__YearBuilt  0.592855\n",
       "5        1stFlrSF__GrLivArea  0.566024\n",
       "6    GarageYrBlt__GarageArea  0.564567\n",
       "7    TotalBsmtSF__BsmtFinSF1  0.522396\n",
       "8      BsmtFinSF1__BsmtUnfSF -0.495251\n",
       "9       1stFlrSF__GarageArea  0.489782"
      ]
     },
     "execution_count": 31,
     "metadata": {},
     "output_type": "execute_result"
    },
    {
     "data": {
      "text/plain": [
       "'Corr threshold: 0.7'"
      ]
     },
     "execution_count": 31,
     "metadata": {},
     "output_type": "execute_result"
    },
    {
     "data": {
      "text/plain": [
       "2"
      ]
     },
     "execution_count": 31,
     "metadata": {},
     "output_type": "execute_result"
    },
    {
     "data": {
      "text/plain": [
       "['GarageYrBlt__YearBuilt', '1stFlrSF__TotalBsmtSF']"
      ]
     },
     "execution_count": 31,
     "metadata": {},
     "output_type": "execute_result"
    }
   ],
   "source": [
    "corr_df, h_corr_pair = EDA_obj.getRankedCorr(numeric_features_upd)\n",
    "corr_df.shape\n",
    "corr_df.head(10)\n",
    "f\"Corr threshold: {EDA_obj.CORR_THRESH}\"\n",
    "\n",
    "len(h_corr_pair)\n",
    "h_corr_pair"
   ]
  },
  {
   "cell_type": "raw",
   "id": "6329545a",
   "metadata": {
    "hidden": true
   },
   "source": [
    "These feature pairs must not be part of a model together"
   ]
  },
  {
   "cell_type": "code",
   "execution_count": 32,
   "id": "4cf2905a",
   "metadata": {
    "hidden": true
   },
   "outputs": [
    {
     "name": "stdout",
     "output_type": "stream",
     "text": [
      "{'GarageYrBlt': 0.4863616774878608, 'YearBuilt': 0.5228973328794969}\n",
      "{'1stFlrSF': 0.6058521846919147, 'TotalBsmtSF': 0.6135805515591956}\n"
     ]
    },
    {
     "data": {
      "text/plain": [
       "['GarageYrBlt', '1stFlrSF']"
      ]
     },
     "execution_count": 32,
     "metadata": {},
     "output_type": "execute_result"
    }
   ],
   "source": [
    "multi_coll_featr = EDA_obj.getMultiCollFeatr(numeric_features_upd)\n",
    "multi_coll_featr"
   ]
  },
  {
   "cell_type": "code",
   "execution_count": 33,
   "id": "df011cfd",
   "metadata": {
    "hidden": true
   },
   "outputs": [
    {
     "data": {
      "text/plain": [
       "(153, 2)"
      ]
     },
     "execution_count": 33,
     "metadata": {},
     "output_type": "execute_result"
    }
   ],
   "source": [
    "EDA_obj.corr_df.shape"
   ]
  },
  {
   "cell_type": "code",
   "execution_count": null,
   "id": "a95c12d7",
   "metadata": {
    "hidden": true
   },
   "outputs": [],
   "source": []
  },
  {
   "cell_type": "markdown",
   "id": "2ca39ac3",
   "metadata": {
    "heading_collapsed": true
   },
   "source": [
    "## Round 1 - feature selection"
   ]
  },
  {
   "cell_type": "code",
   "execution_count": null,
   "id": "87fa3750",
   "metadata": {
    "hidden": true
   },
   "outputs": [],
   "source": []
  },
  {
   "cell_type": "code",
   "execution_count": 34,
   "id": "80507706",
   "metadata": {
    "hidden": true
   },
   "outputs": [
    {
     "name": "stdout",
     "output_type": "stream",
     "text": [
      "Properties of the DF\n",
      "Shape of df: (1460, 80)\n",
      "Target Feature: SalePrice\n"
     ]
    }
   ],
   "source": [
    "PP_obj = PreProcess(df=EDA_obj.df, target_fetaure=EDA_obj.target_feature,\n",
    "        numeric_features=numeric_features_upd, catg_features=catg_features, \n",
    "        cols_w_manyNAs=cols_w_manyNAs, cols_w_low_dev=cols_w_low_dev,\n",
    "        multi_coll_featr=multi_coll_featr)"
   ]
  },
  {
   "cell_type": "code",
   "execution_count": 35,
   "id": "a2aa8536",
   "metadata": {
    "hidden": true
   },
   "outputs": [
    {
     "data": {
      "text/plain": [
       "['MoSold', 'Alley', 'PoolQC', 'Fence', 'YrSold', 'MiscFeature', 'BsmtHalfBath']"
      ]
     },
     "execution_count": 35,
     "metadata": {},
     "output_type": "execute_result"
    }
   ],
   "source": [
    "PP_obj.cols_to_drop"
   ]
  },
  {
   "cell_type": "code",
   "execution_count": 36,
   "id": "003b5a82",
   "metadata": {
    "hidden": true,
    "scrolled": false
   },
   "outputs": [
    {
     "data": {
      "text/plain": [
       "39"
      ]
     },
     "execution_count": 36,
     "metadata": {},
     "output_type": "execute_result"
    },
    {
     "data": {
      "text/plain": [
       "16"
      ]
     },
     "execution_count": 36,
     "metadata": {},
     "output_type": "execute_result"
    }
   ],
   "source": [
    "len(PP_obj.catg_features_upd)\n",
    "len(PP_obj.numeric_features_upd)"
   ]
  },
  {
   "cell_type": "code",
   "execution_count": 37,
   "id": "f646c95a",
   "metadata": {
    "hidden": true,
    "scrolled": false
   },
   "outputs": [
    {
     "name": "stdout",
     "output_type": "stream",
     "text": [
      "Shape of X: (1460, 55)\n",
      "Shape of y: (1460,)\n",
      "Shape of train & test datasets are as follows:\n",
      "(1168, 55) (292, 55) (1168,) (292,)\n",
      "cols outlier transformed: 16 out of 16 successfully\n",
      "cols outlier transformed: 16 out of 16 successfully\n",
      "comb encd + num func: (1168, 55)\n",
      "len of op cols for OHE: 106\n",
      "comb encd + num func: (292, 55)\n"
     ]
    }
   ],
   "source": [
    "PP_obj.preProcessData()"
   ]
  },
  {
   "cell_type": "code",
   "execution_count": null,
   "id": "0db58a48",
   "metadata": {
    "hidden": true
   },
   "outputs": [],
   "source": []
  },
  {
   "cell_type": "markdown",
   "id": "a38165d8",
   "metadata": {
    "heading_collapsed": true
   },
   "source": [
    "## Split data into train & test"
   ]
  },
  {
   "cell_type": "code",
   "execution_count": 38,
   "id": "3f090755",
   "metadata": {
    "hidden": true
   },
   "outputs": [
    {
     "data": {
      "text/html": [
       "<div>\n",
       "<style scoped>\n",
       "    .dataframe tbody tr th:only-of-type {\n",
       "        vertical-align: middle;\n",
       "    }\n",
       "\n",
       "    .dataframe tbody tr th {\n",
       "        vertical-align: top;\n",
       "    }\n",
       "\n",
       "    .dataframe thead th {\n",
       "        text-align: right;\n",
       "    }\n",
       "</style>\n",
       "<table border=\"1\" class=\"dataframe\">\n",
       "  <thead>\n",
       "    <tr style=\"text-align: right;\">\n",
       "      <th></th>\n",
       "      <th>Street</th>\n",
       "      <th>CentralAir</th>\n",
       "      <th>Electrical</th>\n",
       "      <th>Utilities</th>\n",
       "      <th>HeatingQC</th>\n",
       "      <th>BsmtFinType1</th>\n",
       "      <th>GarageCond</th>\n",
       "      <th>Exterior2nd</th>\n",
       "      <th>LandSlope</th>\n",
       "      <th>Functional</th>\n",
       "      <th>...</th>\n",
       "      <th>LotFrontage</th>\n",
       "      <th>2ndFlrSF</th>\n",
       "      <th>YearRemodAdd</th>\n",
       "      <th>EnclosedPorch</th>\n",
       "      <th>BsmtFinSF1</th>\n",
       "      <th>GrLivArea</th>\n",
       "      <th>GarageArea</th>\n",
       "      <th>OpenPorchSF</th>\n",
       "      <th>BsmtUnfSF</th>\n",
       "      <th>YearBuilt</th>\n",
       "    </tr>\n",
       "    <tr>\n",
       "      <th>Id</th>\n",
       "      <th></th>\n",
       "      <th></th>\n",
       "      <th></th>\n",
       "      <th></th>\n",
       "      <th></th>\n",
       "      <th></th>\n",
       "      <th></th>\n",
       "      <th></th>\n",
       "      <th></th>\n",
       "      <th></th>\n",
       "      <th></th>\n",
       "      <th></th>\n",
       "      <th></th>\n",
       "      <th></th>\n",
       "      <th></th>\n",
       "      <th></th>\n",
       "      <th></th>\n",
       "      <th></th>\n",
       "      <th></th>\n",
       "      <th></th>\n",
       "      <th></th>\n",
       "    </tr>\n",
       "  </thead>\n",
       "  <tbody>\n",
       "    <tr>\n",
       "      <th>619</th>\n",
       "      <td>Pave</td>\n",
       "      <td>Y</td>\n",
       "      <td>SBrkr</td>\n",
       "      <td>AllPub</td>\n",
       "      <td>Ex</td>\n",
       "      <td>GLQ</td>\n",
       "      <td>TA</td>\n",
       "      <td>CmentBd</td>\n",
       "      <td>Gtl</td>\n",
       "      <td>Typ</td>\n",
       "      <td>...</td>\n",
       "      <td>90.0</td>\n",
       "      <td>0</td>\n",
       "      <td>2007</td>\n",
       "      <td>0</td>\n",
       "      <td>48</td>\n",
       "      <td>1828</td>\n",
       "      <td>774</td>\n",
       "      <td>108</td>\n",
       "      <td>1774</td>\n",
       "      <td>2007</td>\n",
       "    </tr>\n",
       "    <tr>\n",
       "      <th>871</th>\n",
       "      <td>Pave</td>\n",
       "      <td>N</td>\n",
       "      <td>SBrkr</td>\n",
       "      <td>AllPub</td>\n",
       "      <td>Gd</td>\n",
       "      <td>Unf</td>\n",
       "      <td>TA</td>\n",
       "      <td>MetalSd</td>\n",
       "      <td>Gtl</td>\n",
       "      <td>Typ</td>\n",
       "      <td>...</td>\n",
       "      <td>60.0</td>\n",
       "      <td>0</td>\n",
       "      <td>1962</td>\n",
       "      <td>0</td>\n",
       "      <td>0</td>\n",
       "      <td>894</td>\n",
       "      <td>308</td>\n",
       "      <td>0</td>\n",
       "      <td>894</td>\n",
       "      <td>1962</td>\n",
       "    </tr>\n",
       "    <tr>\n",
       "      <th>93</th>\n",
       "      <td>Pave</td>\n",
       "      <td>Y</td>\n",
       "      <td>SBrkr</td>\n",
       "      <td>AllPub</td>\n",
       "      <td>Ex</td>\n",
       "      <td>ALQ</td>\n",
       "      <td>TA</td>\n",
       "      <td>Wd Sdng</td>\n",
       "      <td>Gtl</td>\n",
       "      <td>Typ</td>\n",
       "      <td>...</td>\n",
       "      <td>80.0</td>\n",
       "      <td>0</td>\n",
       "      <td>2006</td>\n",
       "      <td>44</td>\n",
       "      <td>713</td>\n",
       "      <td>964</td>\n",
       "      <td>432</td>\n",
       "      <td>0</td>\n",
       "      <td>163</td>\n",
       "      <td>1921</td>\n",
       "    </tr>\n",
       "  </tbody>\n",
       "</table>\n",
       "<p>3 rows × 55 columns</p>\n",
       "</div>"
      ],
      "text/plain": [
       "    Street CentralAir Electrical Utilities HeatingQC BsmtFinType1 GarageCond  \\\n",
       "Id                                                                             \n",
       "619   Pave          Y      SBrkr    AllPub        Ex          GLQ         TA   \n",
       "871   Pave          N      SBrkr    AllPub        Gd          Unf         TA   \n",
       "93    Pave          Y      SBrkr    AllPub        Ex          ALQ         TA   \n",
       "\n",
       "    Exterior2nd LandSlope Functional  ... LotFrontage 2ndFlrSF YearRemodAdd  \\\n",
       "Id                                    ...                                     \n",
       "619     CmentBd       Gtl        Typ  ...        90.0        0         2007   \n",
       "871     MetalSd       Gtl        Typ  ...        60.0        0         1962   \n",
       "93      Wd Sdng       Gtl        Typ  ...        80.0        0         2006   \n",
       "\n",
       "    EnclosedPorch BsmtFinSF1 GrLivArea GarageArea OpenPorchSF BsmtUnfSF  \\\n",
       "Id                                                                        \n",
       "619             0         48      1828        774         108      1774   \n",
       "871             0          0       894        308           0       894   \n",
       "93             44        713       964        432           0       163   \n",
       "\n",
       "    YearBuilt  \n",
       "Id             \n",
       "619      2007  \n",
       "871      1962  \n",
       "93       1921  \n",
       "\n",
       "[3 rows x 55 columns]"
      ]
     },
     "execution_count": 38,
     "metadata": {},
     "output_type": "execute_result"
    },
    {
     "data": {
      "text/html": [
       "<div>\n",
       "<style scoped>\n",
       "    .dataframe tbody tr th:only-of-type {\n",
       "        vertical-align: middle;\n",
       "    }\n",
       "\n",
       "    .dataframe tbody tr th {\n",
       "        vertical-align: top;\n",
       "    }\n",
       "\n",
       "    .dataframe thead th {\n",
       "        text-align: right;\n",
       "    }\n",
       "</style>\n",
       "<table border=\"1\" class=\"dataframe\">\n",
       "  <thead>\n",
       "    <tr style=\"text-align: right;\">\n",
       "      <th></th>\n",
       "      <th>Street</th>\n",
       "      <th>CentralAir</th>\n",
       "      <th>Electrical</th>\n",
       "      <th>Utilities</th>\n",
       "      <th>HeatingQC</th>\n",
       "      <th>BsmtFinType1</th>\n",
       "      <th>GarageCond</th>\n",
       "      <th>Exterior2nd</th>\n",
       "      <th>LandSlope</th>\n",
       "      <th>Functional</th>\n",
       "      <th>...</th>\n",
       "      <th>LotFrontage</th>\n",
       "      <th>2ndFlrSF</th>\n",
       "      <th>YearRemodAdd</th>\n",
       "      <th>EnclosedPorch</th>\n",
       "      <th>BsmtFinSF1</th>\n",
       "      <th>GrLivArea</th>\n",
       "      <th>GarageArea</th>\n",
       "      <th>OpenPorchSF</th>\n",
       "      <th>BsmtUnfSF</th>\n",
       "      <th>YearBuilt</th>\n",
       "    </tr>\n",
       "    <tr>\n",
       "      <th>Id</th>\n",
       "      <th></th>\n",
       "      <th></th>\n",
       "      <th></th>\n",
       "      <th></th>\n",
       "      <th></th>\n",
       "      <th></th>\n",
       "      <th></th>\n",
       "      <th></th>\n",
       "      <th></th>\n",
       "      <th></th>\n",
       "      <th></th>\n",
       "      <th></th>\n",
       "      <th></th>\n",
       "      <th></th>\n",
       "      <th></th>\n",
       "      <th></th>\n",
       "      <th></th>\n",
       "      <th></th>\n",
       "      <th></th>\n",
       "      <th></th>\n",
       "      <th></th>\n",
       "    </tr>\n",
       "  </thead>\n",
       "  <tbody>\n",
       "    <tr>\n",
       "      <th>530</th>\n",
       "      <td>Pave</td>\n",
       "      <td>Y</td>\n",
       "      <td>SBrkr</td>\n",
       "      <td>AllPub</td>\n",
       "      <td>TA</td>\n",
       "      <td>Rec</td>\n",
       "      <td>TA</td>\n",
       "      <td>Stone</td>\n",
       "      <td>Gtl</td>\n",
       "      <td>Maj1</td>\n",
       "      <td>...</td>\n",
       "      <td>NaN</td>\n",
       "      <td>0</td>\n",
       "      <td>1975</td>\n",
       "      <td>200</td>\n",
       "      <td>1219</td>\n",
       "      <td>2515</td>\n",
       "      <td>484</td>\n",
       "      <td>0</td>\n",
       "      <td>816</td>\n",
       "      <td>1957</td>\n",
       "    </tr>\n",
       "    <tr>\n",
       "      <th>492</th>\n",
       "      <td>Pave</td>\n",
       "      <td>Y</td>\n",
       "      <td>FuseA</td>\n",
       "      <td>AllPub</td>\n",
       "      <td>TA</td>\n",
       "      <td>BLQ</td>\n",
       "      <td>TA</td>\n",
       "      <td>Wd Sdng</td>\n",
       "      <td>Gtl</td>\n",
       "      <td>Typ</td>\n",
       "      <td>...</td>\n",
       "      <td>79.0</td>\n",
       "      <td>620</td>\n",
       "      <td>1950</td>\n",
       "      <td>32</td>\n",
       "      <td>403</td>\n",
       "      <td>1578</td>\n",
       "      <td>240</td>\n",
       "      <td>0</td>\n",
       "      <td>238</td>\n",
       "      <td>1941</td>\n",
       "    </tr>\n",
       "    <tr>\n",
       "      <th>460</th>\n",
       "      <td>Pave</td>\n",
       "      <td>Y</td>\n",
       "      <td>SBrkr</td>\n",
       "      <td>AllPub</td>\n",
       "      <td>TA</td>\n",
       "      <td>LwQ</td>\n",
       "      <td>TA</td>\n",
       "      <td>MetalSd</td>\n",
       "      <td>Gtl</td>\n",
       "      <td>Typ</td>\n",
       "      <td>...</td>\n",
       "      <td>NaN</td>\n",
       "      <td>224</td>\n",
       "      <td>1950</td>\n",
       "      <td>248</td>\n",
       "      <td>185</td>\n",
       "      <td>1203</td>\n",
       "      <td>352</td>\n",
       "      <td>0</td>\n",
       "      <td>524</td>\n",
       "      <td>1950</td>\n",
       "    </tr>\n",
       "  </tbody>\n",
       "</table>\n",
       "<p>3 rows × 55 columns</p>\n",
       "</div>"
      ],
      "text/plain": [
       "    Street CentralAir Electrical Utilities HeatingQC BsmtFinType1 GarageCond  \\\n",
       "Id                                                                             \n",
       "530   Pave          Y      SBrkr    AllPub        TA          Rec         TA   \n",
       "492   Pave          Y      FuseA    AllPub        TA          BLQ         TA   \n",
       "460   Pave          Y      SBrkr    AllPub        TA          LwQ         TA   \n",
       "\n",
       "    Exterior2nd LandSlope Functional  ... LotFrontage 2ndFlrSF YearRemodAdd  \\\n",
       "Id                                    ...                                     \n",
       "530       Stone       Gtl       Maj1  ...         NaN        0         1975   \n",
       "492     Wd Sdng       Gtl        Typ  ...        79.0      620         1950   \n",
       "460     MetalSd       Gtl        Typ  ...         NaN      224         1950   \n",
       "\n",
       "    EnclosedPorch BsmtFinSF1 GrLivArea GarageArea OpenPorchSF BsmtUnfSF  \\\n",
       "Id                                                                        \n",
       "530           200       1219      2515        484           0       816   \n",
       "492            32        403      1578        240           0       238   \n",
       "460           248        185      1203        352           0       524   \n",
       "\n",
       "    YearBuilt  \n",
       "Id             \n",
       "530      1957  \n",
       "492      1941  \n",
       "460      1950  \n",
       "\n",
       "[3 rows x 55 columns]"
      ]
     },
     "execution_count": 38,
     "metadata": {},
     "output_type": "execute_result"
    },
    {
     "data": {
      "text/plain": [
       "Id\n",
       "619    314813\n",
       "871    109500\n",
       "93     163500\n",
       "Name: SalePrice, dtype: int64"
      ]
     },
     "execution_count": 38,
     "metadata": {},
     "output_type": "execute_result"
    },
    {
     "data": {
      "text/plain": [
       "Id\n",
       "530    200624\n",
       "492    133000\n",
       "460    110000\n",
       "Name: SalePrice, dtype: int64"
      ]
     },
     "execution_count": 38,
     "metadata": {},
     "output_type": "execute_result"
    }
   ],
   "source": [
    "PP_obj.X_train.head(3)\n",
    "PP_obj.X_test.head(3)\n",
    "\n",
    "PP_obj.y_train.head(3)\n",
    "PP_obj.y_test.head(3)"
   ]
  },
  {
   "cell_type": "markdown",
   "id": "8d3f626e",
   "metadata": {
    "heading_collapsed": true
   },
   "source": [
    "## Separating Catg & Numeric features"
   ]
  },
  {
   "cell_type": "code",
   "execution_count": 39,
   "id": "2dc1c6a0",
   "metadata": {
    "hidden": true
   },
   "outputs": [
    {
     "data": {
      "text/plain": [
       "'cnt of catg features: 39'"
      ]
     },
     "execution_count": 39,
     "metadata": {},
     "output_type": "execute_result"
    },
    {
     "data": {
      "text/plain": [
       "'cnt of num features: 16'"
      ]
     },
     "execution_count": 39,
     "metadata": {},
     "output_type": "execute_result"
    }
   ],
   "source": [
    "f\"cnt of catg features: {len(PP_obj.catg_features_upd)}\"\n",
    "f\"cnt of num features: {len(PP_obj.numeric_features_upd)}\""
   ]
  },
  {
   "cell_type": "code",
   "execution_count": null,
   "id": "22aadffb",
   "metadata": {
    "hidden": true
   },
   "outputs": [],
   "source": []
  },
  {
   "cell_type": "markdown",
   "id": "50aaaf22",
   "metadata": {
    "heading_collapsed": true
   },
   "source": [
    "## Preprocessing data - Numeric features"
   ]
  },
  {
   "cell_type": "markdown",
   "id": "7245631e",
   "metadata": {
    "heading_collapsed": true,
    "hidden": true
   },
   "source": [
    "### Handling outliers in data"
   ]
  },
  {
   "cell_type": "code",
   "execution_count": null,
   "id": "886c9a1e",
   "metadata": {
    "hidden": true
   },
   "outputs": [],
   "source": []
  },
  {
   "cell_type": "markdown",
   "id": "d46baefd",
   "metadata": {
    "heading_collapsed": true,
    "hidden": true
   },
   "source": [
    "### Handling missing data "
   ]
  },
  {
   "cell_type": "code",
   "execution_count": 40,
   "id": "941eedfa",
   "metadata": {
    "hidden": true
   },
   "outputs": [
    {
     "data": {
      "text/plain": [
       "(1168, 55)"
      ]
     },
     "execution_count": 40,
     "metadata": {},
     "output_type": "execute_result"
    },
    {
     "data": {
      "text/plain": [
       "(292, 55)"
      ]
     },
     "execution_count": 40,
     "metadata": {},
     "output_type": "execute_result"
    }
   ],
   "source": [
    "PP_obj.X_train_na_imp.shape\n",
    "PP_obj.X_test_na_imp.shape"
   ]
  },
  {
   "cell_type": "code",
   "execution_count": null,
   "id": "803c7851",
   "metadata": {
    "hidden": true
   },
   "outputs": [],
   "source": []
  },
  {
   "cell_type": "markdown",
   "id": "5f8dbb9e",
   "metadata": {
    "heading_collapsed": true
   },
   "source": [
    "## Preprocessing data - Catg features"
   ]
  },
  {
   "cell_type": "markdown",
   "id": "ba2aa057",
   "metadata": {
    "heading_collapsed": true,
    "hidden": true
   },
   "source": [
    "### Handling missing data "
   ]
  },
  {
   "cell_type": "code",
   "execution_count": null,
   "id": "9a76d42d",
   "metadata": {
    "hidden": true
   },
   "outputs": [],
   "source": []
  },
  {
   "cell_type": "markdown",
   "id": "584da8dc",
   "metadata": {
    "hidden": true
   },
   "source": [
    "### Encoding Catg features"
   ]
  },
  {
   "cell_type": "markdown",
   "id": "dcff9064",
   "metadata": {
    "heading_collapsed": true,
    "hidden": true
   },
   "source": [
    "#### Form of labeling / One hot encoding"
   ]
  },
  {
   "cell_type": "code",
   "execution_count": 41,
   "id": "b6ef3aef",
   "metadata": {
    "hidden": true
   },
   "outputs": [
    {
     "data": {
      "text/plain": [
       "0"
      ]
     },
     "execution_count": 41,
     "metadata": {},
     "output_type": "execute_result"
    }
   ],
   "source": [
    "PP_obj.X_train_na_imp.isna().sum().sum()"
   ]
  },
  {
   "cell_type": "code",
   "execution_count": 42,
   "id": "fdefddb9",
   "metadata": {
    "hidden": true
   },
   "outputs": [
    {
     "data": {
      "text/plain": [
       "['Exterior2nd', 'Neighborhood', 'Exterior1st']"
      ]
     },
     "execution_count": 42,
     "metadata": {},
     "output_type": "execute_result"
    }
   ],
   "source": [
    "PP_obj.cols_for_target_encd"
   ]
  },
  {
   "cell_type": "code",
   "execution_count": 43,
   "id": "c9410dba",
   "metadata": {
    "hidden": true
   },
   "outputs": [
    {
     "data": {
      "text/plain": [
       "(1168, 55)"
      ]
     },
     "execution_count": 43,
     "metadata": {},
     "output_type": "execute_result"
    },
    {
     "data": {
      "text/plain": [
       "(292, 55)"
      ]
     },
     "execution_count": 43,
     "metadata": {},
     "output_type": "execute_result"
    }
   ],
   "source": [
    "PP_obj.X_train_na_imp.shape\n",
    "# PP_obj.X_train_na_imp.head(3)\n",
    "\n",
    "PP_obj.X_test_na_imp.shape\n",
    "# PP_obj.X_test_na_imp.head(3)"
   ]
  },
  {
   "cell_type": "code",
   "execution_count": 44,
   "id": "945d7ab5",
   "metadata": {
    "hidden": true
   },
   "outputs": [
    {
     "data": {
      "text/plain": [
       "(1168, 55)"
      ]
     },
     "execution_count": 44,
     "metadata": {},
     "output_type": "execute_result"
    },
    {
     "data": {
      "text/plain": [
       "(292, 55)"
      ]
     },
     "execution_count": 44,
     "metadata": {},
     "output_type": "execute_result"
    }
   ],
   "source": [
    "PP_obj.X_train_bkt.shape\n",
    "# PP_obj.X_train_bkt.head(3)\n",
    "\n",
    "PP_obj.X_test_bkt.shape\n",
    "# PP_obj.X_test_bkt.head(3)"
   ]
  },
  {
   "cell_type": "code",
   "execution_count": 45,
   "id": "7d52104f",
   "metadata": {
    "hidden": true,
    "scrolled": true
   },
   "outputs": [
    {
     "data": {
      "text/plain": [
       "(1168, 122)"
      ]
     },
     "execution_count": 45,
     "metadata": {},
     "output_type": "execute_result"
    },
    {
     "data": {
      "text/html": [
       "<div>\n",
       "<style scoped>\n",
       "    .dataframe tbody tr th:only-of-type {\n",
       "        vertical-align: middle;\n",
       "    }\n",
       "\n",
       "    .dataframe tbody tr th {\n",
       "        vertical-align: top;\n",
       "    }\n",
       "\n",
       "    .dataframe thead th {\n",
       "        text-align: right;\n",
       "    }\n",
       "</style>\n",
       "<table border=\"1\" class=\"dataframe\">\n",
       "  <thead>\n",
       "    <tr style=\"text-align: right;\">\n",
       "      <th></th>\n",
       "      <th>WoodDeckSF</th>\n",
       "      <th>GarageArea</th>\n",
       "      <th>BsmtFinSF2</th>\n",
       "      <th>TotalBsmtSF</th>\n",
       "      <th>LotArea</th>\n",
       "      <th>MasVnrArea</th>\n",
       "      <th>YearBuilt</th>\n",
       "      <th>ScreenPorch</th>\n",
       "      <th>LotFrontage</th>\n",
       "      <th>2ndFlrSF</th>\n",
       "      <th>...</th>\n",
       "      <th>Foundation_PConc</th>\n",
       "      <th>Foundation_CBlock</th>\n",
       "      <th>Foundation_BrkTil</th>\n",
       "      <th>Foundation_Other</th>\n",
       "      <th>BsmtFinType2_Unf</th>\n",
       "      <th>BsmtFinType2_Other</th>\n",
       "      <th>GarageQual_TA</th>\n",
       "      <th>GarageQual_Other</th>\n",
       "      <th>BsmtCond_TA</th>\n",
       "      <th>BsmtCond_Other</th>\n",
       "    </tr>\n",
       "  </thead>\n",
       "  <tbody>\n",
       "    <tr>\n",
       "      <th>0</th>\n",
       "      <td>12.0</td>\n",
       "      <td>774.0</td>\n",
       "      <td>42.84</td>\n",
       "      <td>1822.0</td>\n",
       "      <td>11694.0</td>\n",
       "      <td>452.0</td>\n",
       "      <td>2007.0</td>\n",
       "      <td>260.0</td>\n",
       "      <td>90.0</td>\n",
       "      <td>110.0</td>\n",
       "      <td>...</td>\n",
       "      <td>0.0</td>\n",
       "      <td>0.0</td>\n",
       "      <td>0.0</td>\n",
       "      <td>1.0</td>\n",
       "      <td>0.0</td>\n",
       "      <td>1.0</td>\n",
       "      <td>0.0</td>\n",
       "      <td>1.0</td>\n",
       "      <td>0.0</td>\n",
       "      <td>1.0</td>\n",
       "    </tr>\n",
       "    <tr>\n",
       "      <th>1</th>\n",
       "      <td>12.0</td>\n",
       "      <td>308.0</td>\n",
       "      <td>42.84</td>\n",
       "      <td>894.0</td>\n",
       "      <td>6600.0</td>\n",
       "      <td>1.0</td>\n",
       "      <td>1962.0</td>\n",
       "      <td>40.0</td>\n",
       "      <td>60.0</td>\n",
       "      <td>110.0</td>\n",
       "      <td>...</td>\n",
       "      <td>0.0</td>\n",
       "      <td>1.0</td>\n",
       "      <td>0.0</td>\n",
       "      <td>0.0</td>\n",
       "      <td>0.0</td>\n",
       "      <td>1.0</td>\n",
       "      <td>0.0</td>\n",
       "      <td>1.0</td>\n",
       "      <td>0.0</td>\n",
       "      <td>1.0</td>\n",
       "    </tr>\n",
       "    <tr>\n",
       "      <th>2</th>\n",
       "      <td>12.0</td>\n",
       "      <td>432.0</td>\n",
       "      <td>42.84</td>\n",
       "      <td>876.0</td>\n",
       "      <td>13360.0</td>\n",
       "      <td>1.0</td>\n",
       "      <td>1921.0</td>\n",
       "      <td>40.0</td>\n",
       "      <td>80.0</td>\n",
       "      <td>110.0</td>\n",
       "      <td>...</td>\n",
       "      <td>1.0</td>\n",
       "      <td>0.0</td>\n",
       "      <td>0.0</td>\n",
       "      <td>0.0</td>\n",
       "      <td>0.0</td>\n",
       "      <td>1.0</td>\n",
       "      <td>0.0</td>\n",
       "      <td>1.0</td>\n",
       "      <td>0.0</td>\n",
       "      <td>1.0</td>\n",
       "    </tr>\n",
       "  </tbody>\n",
       "</table>\n",
       "<p>3 rows × 122 columns</p>\n",
       "</div>"
      ],
      "text/plain": [
       "   WoodDeckSF  GarageArea  BsmtFinSF2  TotalBsmtSF  LotArea  MasVnrArea  \\\n",
       "0        12.0       774.0       42.84       1822.0  11694.0       452.0   \n",
       "1        12.0       308.0       42.84        894.0   6600.0         1.0   \n",
       "2        12.0       432.0       42.84        876.0  13360.0         1.0   \n",
       "\n",
       "   YearBuilt  ScreenPorch  LotFrontage  2ndFlrSF  ...  Foundation_PConc  \\\n",
       "0     2007.0        260.0         90.0     110.0  ...               0.0   \n",
       "1     1962.0         40.0         60.0     110.0  ...               0.0   \n",
       "2     1921.0         40.0         80.0     110.0  ...               1.0   \n",
       "\n",
       "   Foundation_CBlock  Foundation_BrkTil  Foundation_Other  BsmtFinType2_Unf  \\\n",
       "0                0.0                0.0               1.0               0.0   \n",
       "1                1.0                0.0               0.0               0.0   \n",
       "2                0.0                0.0               0.0               0.0   \n",
       "\n",
       "   BsmtFinType2_Other  GarageQual_TA  GarageQual_Other  BsmtCond_TA  \\\n",
       "0                 1.0            0.0               1.0          0.0   \n",
       "1                 1.0            0.0               1.0          0.0   \n",
       "2                 1.0            0.0               1.0          0.0   \n",
       "\n",
       "   BsmtCond_Other  \n",
       "0             1.0  \n",
       "1             1.0  \n",
       "2             1.0  \n",
       "\n",
       "[3 rows x 122 columns]"
      ]
     },
     "execution_count": 45,
     "metadata": {},
     "output_type": "execute_result"
    },
    {
     "data": {
      "text/plain": [
       "(292, 122)"
      ]
     },
     "execution_count": 45,
     "metadata": {},
     "output_type": "execute_result"
    },
    {
     "data": {
      "text/html": [
       "<div>\n",
       "<style scoped>\n",
       "    .dataframe tbody tr th:only-of-type {\n",
       "        vertical-align: middle;\n",
       "    }\n",
       "\n",
       "    .dataframe tbody tr th {\n",
       "        vertical-align: top;\n",
       "    }\n",
       "\n",
       "    .dataframe thead th {\n",
       "        text-align: right;\n",
       "    }\n",
       "</style>\n",
       "<table border=\"1\" class=\"dataframe\">\n",
       "  <thead>\n",
       "    <tr style=\"text-align: right;\">\n",
       "      <th></th>\n",
       "      <th>WoodDeckSF</th>\n",
       "      <th>GarageArea</th>\n",
       "      <th>BsmtFinSF2</th>\n",
       "      <th>TotalBsmtSF</th>\n",
       "      <th>LotArea</th>\n",
       "      <th>MasVnrArea</th>\n",
       "      <th>YearBuilt</th>\n",
       "      <th>ScreenPorch</th>\n",
       "      <th>LotFrontage</th>\n",
       "      <th>2ndFlrSF</th>\n",
       "      <th>...</th>\n",
       "      <th>Foundation_PConc</th>\n",
       "      <th>Foundation_CBlock</th>\n",
       "      <th>Foundation_BrkTil</th>\n",
       "      <th>Foundation_Other</th>\n",
       "      <th>BsmtFinType2_Unf</th>\n",
       "      <th>BsmtFinType2_Other</th>\n",
       "      <th>GarageQual_TA</th>\n",
       "      <th>GarageQual_Other</th>\n",
       "      <th>BsmtCond_TA</th>\n",
       "      <th>BsmtCond_Other</th>\n",
       "    </tr>\n",
       "  </thead>\n",
       "  <tbody>\n",
       "    <tr>\n",
       "      <th>0</th>\n",
       "      <td>12.0</td>\n",
       "      <td>484.0</td>\n",
       "      <td>42.84</td>\n",
       "      <td>2035.0</td>\n",
       "      <td>32668.0</td>\n",
       "      <td>1.0</td>\n",
       "      <td>1957.0</td>\n",
       "      <td>40.0</td>\n",
       "      <td>69.0</td>\n",
       "      <td>110.0</td>\n",
       "      <td>...</td>\n",
       "      <td>0.0</td>\n",
       "      <td>0.0</td>\n",
       "      <td>0.0</td>\n",
       "      <td>1.0</td>\n",
       "      <td>0.0</td>\n",
       "      <td>1.0</td>\n",
       "      <td>0.0</td>\n",
       "      <td>1.0</td>\n",
       "      <td>0.0</td>\n",
       "      <td>1.0</td>\n",
       "    </tr>\n",
       "    <tr>\n",
       "      <th>1</th>\n",
       "      <td>12.0</td>\n",
       "      <td>240.0</td>\n",
       "      <td>165.00</td>\n",
       "      <td>806.0</td>\n",
       "      <td>9490.0</td>\n",
       "      <td>1.0</td>\n",
       "      <td>1941.0</td>\n",
       "      <td>40.0</td>\n",
       "      <td>79.0</td>\n",
       "      <td>620.0</td>\n",
       "      <td>...</td>\n",
       "      <td>0.0</td>\n",
       "      <td>1.0</td>\n",
       "      <td>0.0</td>\n",
       "      <td>0.0</td>\n",
       "      <td>1.0</td>\n",
       "      <td>0.0</td>\n",
       "      <td>0.0</td>\n",
       "      <td>1.0</td>\n",
       "      <td>0.0</td>\n",
       "      <td>1.0</td>\n",
       "    </tr>\n",
       "    <tr>\n",
       "      <th>2</th>\n",
       "      <td>12.0</td>\n",
       "      <td>352.0</td>\n",
       "      <td>42.84</td>\n",
       "      <td>709.0</td>\n",
       "      <td>7015.0</td>\n",
       "      <td>161.0</td>\n",
       "      <td>1950.0</td>\n",
       "      <td>40.0</td>\n",
       "      <td>69.0</td>\n",
       "      <td>224.0</td>\n",
       "      <td>...</td>\n",
       "      <td>0.0</td>\n",
       "      <td>1.0</td>\n",
       "      <td>0.0</td>\n",
       "      <td>0.0</td>\n",
       "      <td>0.0</td>\n",
       "      <td>1.0</td>\n",
       "      <td>0.0</td>\n",
       "      <td>1.0</td>\n",
       "      <td>0.0</td>\n",
       "      <td>1.0</td>\n",
       "    </tr>\n",
       "  </tbody>\n",
       "</table>\n",
       "<p>3 rows × 122 columns</p>\n",
       "</div>"
      ],
      "text/plain": [
       "   WoodDeckSF  GarageArea  BsmtFinSF2  TotalBsmtSF  LotArea  MasVnrArea  \\\n",
       "0        12.0       484.0       42.84       2035.0  32668.0         1.0   \n",
       "1        12.0       240.0      165.00        806.0   9490.0         1.0   \n",
       "2        12.0       352.0       42.84        709.0   7015.0       161.0   \n",
       "\n",
       "   YearBuilt  ScreenPorch  LotFrontage  2ndFlrSF  ...  Foundation_PConc  \\\n",
       "0     1957.0         40.0         69.0     110.0  ...               0.0   \n",
       "1     1941.0         40.0         79.0     620.0  ...               0.0   \n",
       "2     1950.0         40.0         69.0     224.0  ...               0.0   \n",
       "\n",
       "   Foundation_CBlock  Foundation_BrkTil  Foundation_Other  BsmtFinType2_Unf  \\\n",
       "0                0.0                0.0               1.0               0.0   \n",
       "1                1.0                0.0               0.0               1.0   \n",
       "2                1.0                0.0               0.0               0.0   \n",
       "\n",
       "   BsmtFinType2_Other  GarageQual_TA  GarageQual_Other  BsmtCond_TA  \\\n",
       "0                 1.0            0.0               1.0          0.0   \n",
       "1                 0.0            0.0               1.0          0.0   \n",
       "2                 1.0            0.0               1.0          0.0   \n",
       "\n",
       "   BsmtCond_Other  \n",
       "0             1.0  \n",
       "1             1.0  \n",
       "2             1.0  \n",
       "\n",
       "[3 rows x 122 columns]"
      ]
     },
     "execution_count": 45,
     "metadata": {},
     "output_type": "execute_result"
    }
   ],
   "source": [
    "PP_obj.X_train_enc.shape\n",
    "PP_obj.X_train_enc.head(3)\n",
    "\n",
    "PP_obj.X_test_enc.shape\n",
    "PP_obj.X_test_enc.head(3)"
   ]
  },
  {
   "cell_type": "code",
   "execution_count": null,
   "id": "3399b003",
   "metadata": {
    "hidden": true
   },
   "outputs": [],
   "source": []
  },
  {
   "cell_type": "code",
   "execution_count": null,
   "id": "9cd62984",
   "metadata": {
    "hidden": true
   },
   "outputs": [],
   "source": []
  },
  {
   "cell_type": "markdown",
   "id": "c33890f9",
   "metadata": {
    "heading_collapsed": true,
    "hidden": true
   },
   "source": [
    "#### Target encoding"
   ]
  },
  {
   "cell_type": "raw",
   "id": "ecff099e",
   "metadata": {
    "hidden": true
   },
   "source": [
    "To be incorporated later"
   ]
  },
  {
   "cell_type": "code",
   "execution_count": 46,
   "id": "59d9fb42",
   "metadata": {
    "hidden": true
   },
   "outputs": [
    {
     "data": {
      "text/plain": [
       "['Exterior2nd', 'Neighborhood', 'Exterior1st']"
      ]
     },
     "execution_count": 46,
     "metadata": {},
     "output_type": "execute_result"
    },
    {
     "data": {
      "text/plain": [
       "[['Exterior2nd_Other',\n",
       "  'Exterior2nd_MetalSd',\n",
       "  'Exterior2nd_Wd Sdng',\n",
       "  'Exterior2nd_VinylSd',\n",
       "  'Exterior2nd_Plywood',\n",
       "  'Exterior2nd_HdBoard'],\n",
       " ['Neighborhood_Other', 'Neighborhood_NAmes'],\n",
       " ['Exterior1st_Other',\n",
       "  'Exterior1st_MetalSd',\n",
       "  'Exterior1st_Wd Sdng',\n",
       "  'Exterior1st_VinylSd',\n",
       "  'Exterior1st_HdBoard']]"
      ]
     },
     "execution_count": 46,
     "metadata": {},
     "output_type": "execute_result"
    }
   ],
   "source": [
    "PP_obj.cols_for_target_encd\n",
    "\n",
    "[PP_obj.X_train_enc.columns[PP_obj.X_train_enc.columns.str.contains(pat)].to_list() \\\n",
    "     for pat in PP_obj.cols_for_target_encd]"
   ]
  },
  {
   "cell_type": "code",
   "execution_count": 47,
   "id": "f58d1917",
   "metadata": {
    "hidden": true,
    "scrolled": true
   },
   "outputs": [],
   "source": [
    "# {col: PP_obj.X_train_enc[col].value_counts(normalize=True) for col in PP_obj.cols_for_target_encd}"
   ]
  },
  {
   "cell_type": "code",
   "execution_count": null,
   "id": "fe3e738f",
   "metadata": {
    "hidden": true
   },
   "outputs": [],
   "source": []
  },
  {
   "cell_type": "code",
   "execution_count": null,
   "id": "6e4edf1e",
   "metadata": {
    "hidden": true
   },
   "outputs": [],
   "source": []
  },
  {
   "cell_type": "markdown",
   "id": "1ad5955b",
   "metadata": {
    "heading_collapsed": true
   },
   "source": [
    "## Scaling Data"
   ]
  },
  {
   "cell_type": "code",
   "execution_count": 48,
   "id": "15bf954e",
   "metadata": {
    "hidden": true
   },
   "outputs": [
    {
     "data": {
      "text/plain": [
       "(1168, 122)"
      ]
     },
     "execution_count": 48,
     "metadata": {},
     "output_type": "execute_result"
    },
    {
     "data": {
      "text/html": [
       "<div>\n",
       "<style scoped>\n",
       "    .dataframe tbody tr th:only-of-type {\n",
       "        vertical-align: middle;\n",
       "    }\n",
       "\n",
       "    .dataframe tbody tr th {\n",
       "        vertical-align: top;\n",
       "    }\n",
       "\n",
       "    .dataframe thead th {\n",
       "        text-align: right;\n",
       "    }\n",
       "</style>\n",
       "<table border=\"1\" class=\"dataframe\">\n",
       "  <thead>\n",
       "    <tr style=\"text-align: right;\">\n",
       "      <th></th>\n",
       "      <th>WoodDeckSF</th>\n",
       "      <th>GarageArea</th>\n",
       "      <th>BsmtFinSF2</th>\n",
       "      <th>TotalBsmtSF</th>\n",
       "      <th>LotArea</th>\n",
       "      <th>MasVnrArea</th>\n",
       "      <th>YearBuilt</th>\n",
       "      <th>ScreenPorch</th>\n",
       "      <th>LotFrontage</th>\n",
       "      <th>2ndFlrSF</th>\n",
       "      <th>...</th>\n",
       "      <th>Foundation_PConc</th>\n",
       "      <th>Foundation_CBlock</th>\n",
       "      <th>Foundation_BrkTil</th>\n",
       "      <th>Foundation_Other</th>\n",
       "      <th>BsmtFinType2_Unf</th>\n",
       "      <th>BsmtFinType2_Other</th>\n",
       "      <th>GarageQual_TA</th>\n",
       "      <th>GarageQual_Other</th>\n",
       "      <th>BsmtCond_TA</th>\n",
       "      <th>BsmtCond_Other</th>\n",
       "    </tr>\n",
       "  </thead>\n",
       "  <tbody>\n",
       "    <tr>\n",
       "      <th>0</th>\n",
       "      <td>0.0</td>\n",
       "      <td>0.803263</td>\n",
       "      <td>0.0</td>\n",
       "      <td>0.850762</td>\n",
       "      <td>0.280667</td>\n",
       "      <td>0.421039</td>\n",
       "      <td>1.000000</td>\n",
       "      <td>0.58464</td>\n",
       "      <td>0.585626</td>\n",
       "      <td>0.0</td>\n",
       "      <td>...</td>\n",
       "      <td>0.0</td>\n",
       "      <td>0.0</td>\n",
       "      <td>0.0</td>\n",
       "      <td>1.0</td>\n",
       "      <td>0.0</td>\n",
       "      <td>1.0</td>\n",
       "      <td>0.0</td>\n",
       "      <td>1.0</td>\n",
       "      <td>0.0</td>\n",
       "      <td>1.0</td>\n",
       "    </tr>\n",
       "    <tr>\n",
       "      <th>1</th>\n",
       "      <td>0.0</td>\n",
       "      <td>0.319645</td>\n",
       "      <td>0.0</td>\n",
       "      <td>0.417443</td>\n",
       "      <td>0.137895</td>\n",
       "      <td>0.000000</td>\n",
       "      <td>0.666667</td>\n",
       "      <td>0.00000</td>\n",
       "      <td>0.319432</td>\n",
       "      <td>0.0</td>\n",
       "      <td>...</td>\n",
       "      <td>0.0</td>\n",
       "      <td>1.0</td>\n",
       "      <td>0.0</td>\n",
       "      <td>0.0</td>\n",
       "      <td>0.0</td>\n",
       "      <td>1.0</td>\n",
       "      <td>0.0</td>\n",
       "      <td>1.0</td>\n",
       "      <td>0.0</td>\n",
       "      <td>1.0</td>\n",
       "    </tr>\n",
       "    <tr>\n",
       "      <th>2</th>\n",
       "      <td>0.0</td>\n",
       "      <td>0.448333</td>\n",
       "      <td>0.0</td>\n",
       "      <td>0.409038</td>\n",
       "      <td>0.327360</td>\n",
       "      <td>0.000000</td>\n",
       "      <td>0.362963</td>\n",
       "      <td>0.00000</td>\n",
       "      <td>0.496894</td>\n",
       "      <td>0.0</td>\n",
       "      <td>...</td>\n",
       "      <td>1.0</td>\n",
       "      <td>0.0</td>\n",
       "      <td>0.0</td>\n",
       "      <td>0.0</td>\n",
       "      <td>0.0</td>\n",
       "      <td>1.0</td>\n",
       "      <td>0.0</td>\n",
       "      <td>1.0</td>\n",
       "      <td>0.0</td>\n",
       "      <td>1.0</td>\n",
       "    </tr>\n",
       "  </tbody>\n",
       "</table>\n",
       "<p>3 rows × 122 columns</p>\n",
       "</div>"
      ],
      "text/plain": [
       "   WoodDeckSF  GarageArea  BsmtFinSF2  TotalBsmtSF   LotArea  MasVnrArea  \\\n",
       "0         0.0    0.803263         0.0     0.850762  0.280667    0.421039   \n",
       "1         0.0    0.319645         0.0     0.417443  0.137895    0.000000   \n",
       "2         0.0    0.448333         0.0     0.409038  0.327360    0.000000   \n",
       "\n",
       "   YearBuilt  ScreenPorch  LotFrontage  2ndFlrSF  ...  Foundation_PConc  \\\n",
       "0   1.000000      0.58464     0.585626       0.0  ...               0.0   \n",
       "1   0.666667      0.00000     0.319432       0.0  ...               0.0   \n",
       "2   0.362963      0.00000     0.496894       0.0  ...               1.0   \n",
       "\n",
       "   Foundation_CBlock  Foundation_BrkTil  Foundation_Other  BsmtFinType2_Unf  \\\n",
       "0                0.0                0.0               1.0               0.0   \n",
       "1                1.0                0.0               0.0               0.0   \n",
       "2                0.0                0.0               0.0               0.0   \n",
       "\n",
       "   BsmtFinType2_Other  GarageQual_TA  GarageQual_Other  BsmtCond_TA  \\\n",
       "0                 1.0            0.0               1.0          0.0   \n",
       "1                 1.0            0.0               1.0          0.0   \n",
       "2                 1.0            0.0               1.0          0.0   \n",
       "\n",
       "   BsmtCond_Other  \n",
       "0             1.0  \n",
       "1             1.0  \n",
       "2             1.0  \n",
       "\n",
       "[3 rows x 122 columns]"
      ]
     },
     "execution_count": 48,
     "metadata": {},
     "output_type": "execute_result"
    }
   ],
   "source": [
    "PP_obj.X_train_sc.shape\n",
    "PP_obj.X_train_sc.head(3)"
   ]
  },
  {
   "cell_type": "code",
   "execution_count": null,
   "id": "9d221a4e",
   "metadata": {
    "hidden": true
   },
   "outputs": [],
   "source": []
  },
  {
   "cell_type": "markdown",
   "id": "0bc87407",
   "metadata": {
    "heading_collapsed": true,
    "hidden": true
   },
   "source": [
    "### Test new data input"
   ]
  },
  {
   "cell_type": "code",
   "execution_count": 49,
   "id": "b2a22d44",
   "metadata": {
    "hidden": true
   },
   "outputs": [
    {
     "data": {
      "text/plain": [
       "(100, 79)"
      ]
     },
     "execution_count": 49,
     "metadata": {},
     "output_type": "execute_result"
    },
    {
     "data": {
      "text/html": [
       "<div>\n",
       "<style scoped>\n",
       "    .dataframe tbody tr th:only-of-type {\n",
       "        vertical-align: middle;\n",
       "    }\n",
       "\n",
       "    .dataframe tbody tr th {\n",
       "        vertical-align: top;\n",
       "    }\n",
       "\n",
       "    .dataframe thead th {\n",
       "        text-align: right;\n",
       "    }\n",
       "</style>\n",
       "<table border=\"1\" class=\"dataframe\">\n",
       "  <thead>\n",
       "    <tr style=\"text-align: right;\">\n",
       "      <th></th>\n",
       "      <th>MSSubClass</th>\n",
       "      <th>MSZoning</th>\n",
       "      <th>LotFrontage</th>\n",
       "      <th>LotArea</th>\n",
       "      <th>Street</th>\n",
       "      <th>Alley</th>\n",
       "      <th>LotShape</th>\n",
       "      <th>LandContour</th>\n",
       "      <th>Utilities</th>\n",
       "      <th>LotConfig</th>\n",
       "      <th>...</th>\n",
       "      <th>ScreenPorch</th>\n",
       "      <th>PoolArea</th>\n",
       "      <th>PoolQC</th>\n",
       "      <th>Fence</th>\n",
       "      <th>MiscFeature</th>\n",
       "      <th>MiscVal</th>\n",
       "      <th>MoSold</th>\n",
       "      <th>YrSold</th>\n",
       "      <th>SaleType</th>\n",
       "      <th>SaleCondition</th>\n",
       "    </tr>\n",
       "    <tr>\n",
       "      <th>Id</th>\n",
       "      <th></th>\n",
       "      <th></th>\n",
       "      <th></th>\n",
       "      <th></th>\n",
       "      <th></th>\n",
       "      <th></th>\n",
       "      <th></th>\n",
       "      <th></th>\n",
       "      <th></th>\n",
       "      <th></th>\n",
       "      <th></th>\n",
       "      <th></th>\n",
       "      <th></th>\n",
       "      <th></th>\n",
       "      <th></th>\n",
       "      <th></th>\n",
       "      <th></th>\n",
       "      <th></th>\n",
       "      <th></th>\n",
       "      <th></th>\n",
       "      <th></th>\n",
       "    </tr>\n",
       "  </thead>\n",
       "  <tbody>\n",
       "    <tr>\n",
       "      <th>804</th>\n",
       "      <td>60</td>\n",
       "      <td>RL</td>\n",
       "      <td>107.0</td>\n",
       "      <td>13891</td>\n",
       "      <td>Pave</td>\n",
       "      <td>NaN</td>\n",
       "      <td>Reg</td>\n",
       "      <td>Lvl</td>\n",
       "      <td>AllPub</td>\n",
       "      <td>Inside</td>\n",
       "      <td>...</td>\n",
       "      <td>192</td>\n",
       "      <td>0</td>\n",
       "      <td>NaN</td>\n",
       "      <td>NaN</td>\n",
       "      <td>NaN</td>\n",
       "      <td>0</td>\n",
       "      <td>1</td>\n",
       "      <td>2009</td>\n",
       "      <td>New</td>\n",
       "      <td>Partial</td>\n",
       "    </tr>\n",
       "    <tr>\n",
       "      <th>788</th>\n",
       "      <td>60</td>\n",
       "      <td>RL</td>\n",
       "      <td>76.0</td>\n",
       "      <td>10142</td>\n",
       "      <td>Pave</td>\n",
       "      <td>NaN</td>\n",
       "      <td>IR1</td>\n",
       "      <td>Lvl</td>\n",
       "      <td>AllPub</td>\n",
       "      <td>Inside</td>\n",
       "      <td>...</td>\n",
       "      <td>0</td>\n",
       "      <td>0</td>\n",
       "      <td>NaN</td>\n",
       "      <td>NaN</td>\n",
       "      <td>NaN</td>\n",
       "      <td>0</td>\n",
       "      <td>1</td>\n",
       "      <td>2010</td>\n",
       "      <td>WD</td>\n",
       "      <td>Normal</td>\n",
       "    </tr>\n",
       "    <tr>\n",
       "      <th>147</th>\n",
       "      <td>30</td>\n",
       "      <td>RM</td>\n",
       "      <td>51.0</td>\n",
       "      <td>6120</td>\n",
       "      <td>Pave</td>\n",
       "      <td>NaN</td>\n",
       "      <td>Reg</td>\n",
       "      <td>Lvl</td>\n",
       "      <td>AllPub</td>\n",
       "      <td>Corner</td>\n",
       "      <td>...</td>\n",
       "      <td>0</td>\n",
       "      <td>0</td>\n",
       "      <td>NaN</td>\n",
       "      <td>NaN</td>\n",
       "      <td>NaN</td>\n",
       "      <td>0</td>\n",
       "      <td>11</td>\n",
       "      <td>2009</td>\n",
       "      <td>WD</td>\n",
       "      <td>Normal</td>\n",
       "    </tr>\n",
       "  </tbody>\n",
       "</table>\n",
       "<p>3 rows × 79 columns</p>\n",
       "</div>"
      ],
      "text/plain": [
       "     MSSubClass MSZoning  LotFrontage  LotArea Street Alley LotShape  \\\n",
       "Id                                                                     \n",
       "804          60       RL        107.0    13891   Pave   NaN      Reg   \n",
       "788          60       RL         76.0    10142   Pave   NaN      IR1   \n",
       "147          30       RM         51.0     6120   Pave   NaN      Reg   \n",
       "\n",
       "    LandContour Utilities LotConfig  ... ScreenPorch PoolArea PoolQC Fence  \\\n",
       "Id                                   ...                                     \n",
       "804         Lvl    AllPub    Inside  ...         192        0    NaN   NaN   \n",
       "788         Lvl    AllPub    Inside  ...           0        0    NaN   NaN   \n",
       "147         Lvl    AllPub    Corner  ...           0        0    NaN   NaN   \n",
       "\n",
       "    MiscFeature MiscVal  MoSold  YrSold  SaleType  SaleCondition  \n",
       "Id                                                                \n",
       "804         NaN       0       1    2009       New        Partial  \n",
       "788         NaN       0       1    2010        WD         Normal  \n",
       "147         NaN       0      11    2009        WD         Normal  \n",
       "\n",
       "[3 rows x 79 columns]"
      ]
     },
     "execution_count": 49,
     "metadata": {},
     "output_type": "execute_result"
    }
   ],
   "source": [
    "new_df = data_raw.drop(target_feature, axis=1).sample(100)\n",
    "new_df.shape\n",
    "new_df.head(3)"
   ]
  },
  {
   "cell_type": "code",
   "execution_count": 50,
   "id": "7e410b59",
   "metadata": {
    "hidden": true
   },
   "outputs": [
    {
     "name": "stdout",
     "output_type": "stream",
     "text": [
      "cols outlier transformed: 16 out of 16 successfully\n",
      "comb encd + num func: (100, 55)\n"
     ]
    },
    {
     "data": {
      "text/plain": [
       "(100, 122)"
      ]
     },
     "execution_count": 50,
     "metadata": {},
     "output_type": "execute_result"
    },
    {
     "data": {
      "text/html": [
       "<div>\n",
       "<style scoped>\n",
       "    .dataframe tbody tr th:only-of-type {\n",
       "        vertical-align: middle;\n",
       "    }\n",
       "\n",
       "    .dataframe tbody tr th {\n",
       "        vertical-align: top;\n",
       "    }\n",
       "\n",
       "    .dataframe thead th {\n",
       "        text-align: right;\n",
       "    }\n",
       "</style>\n",
       "<table border=\"1\" class=\"dataframe\">\n",
       "  <thead>\n",
       "    <tr style=\"text-align: right;\">\n",
       "      <th></th>\n",
       "      <th>WoodDeckSF</th>\n",
       "      <th>GarageArea</th>\n",
       "      <th>BsmtFinSF2</th>\n",
       "      <th>TotalBsmtSF</th>\n",
       "      <th>LotArea</th>\n",
       "      <th>MasVnrArea</th>\n",
       "      <th>YearBuilt</th>\n",
       "      <th>ScreenPorch</th>\n",
       "      <th>LotFrontage</th>\n",
       "      <th>2ndFlrSF</th>\n",
       "      <th>...</th>\n",
       "      <th>Foundation_PConc</th>\n",
       "      <th>Foundation_CBlock</th>\n",
       "      <th>Foundation_BrkTil</th>\n",
       "      <th>Foundation_Other</th>\n",
       "      <th>BsmtFinType2_Unf</th>\n",
       "      <th>BsmtFinType2_Other</th>\n",
       "      <th>GarageQual_TA</th>\n",
       "      <th>GarageQual_Other</th>\n",
       "      <th>BsmtCond_TA</th>\n",
       "      <th>BsmtCond_Other</th>\n",
       "    </tr>\n",
       "  </thead>\n",
       "  <tbody>\n",
       "    <tr>\n",
       "      <th>0</th>\n",
       "      <td>0.070299</td>\n",
       "      <td>1.000000</td>\n",
       "      <td>0.0</td>\n",
       "      <td>0.809671</td>\n",
       "      <td>0.342243</td>\n",
       "      <td>0.394899</td>\n",
       "      <td>1.000000</td>\n",
       "      <td>0.403933</td>\n",
       "      <td>0.736469</td>\n",
       "      <td>0.685522</td>\n",
       "      <td>...</td>\n",
       "      <td>0.0</td>\n",
       "      <td>0.0</td>\n",
       "      <td>0.0</td>\n",
       "      <td>1.0</td>\n",
       "      <td>0.0</td>\n",
       "      <td>1.0</td>\n",
       "      <td>0.0</td>\n",
       "      <td>1.0</td>\n",
       "      <td>0.0</td>\n",
       "      <td>1.0</td>\n",
       "    </tr>\n",
       "    <tr>\n",
       "      <th>1</th>\n",
       "      <td>0.000000</td>\n",
       "      <td>0.641365</td>\n",
       "      <td>0.0</td>\n",
       "      <td>0.446393</td>\n",
       "      <td>0.237168</td>\n",
       "      <td>0.000000</td>\n",
       "      <td>0.977778</td>\n",
       "      <td>0.000000</td>\n",
       "      <td>0.461402</td>\n",
       "      <td>0.713560</td>\n",
       "      <td>...</td>\n",
       "      <td>0.0</td>\n",
       "      <td>0.0</td>\n",
       "      <td>0.0</td>\n",
       "      <td>1.0</td>\n",
       "      <td>0.0</td>\n",
       "      <td>1.0</td>\n",
       "      <td>0.0</td>\n",
       "      <td>1.0</td>\n",
       "      <td>0.0</td>\n",
       "      <td>1.0</td>\n",
       "    </tr>\n",
       "    <tr>\n",
       "      <th>2</th>\n",
       "      <td>0.063269</td>\n",
       "      <td>0.186805</td>\n",
       "      <td>0.0</td>\n",
       "      <td>0.333861</td>\n",
       "      <td>0.124442</td>\n",
       "      <td>0.000000</td>\n",
       "      <td>0.437037</td>\n",
       "      <td>0.000000</td>\n",
       "      <td>0.239574</td>\n",
       "      <td>0.000000</td>\n",
       "      <td>...</td>\n",
       "      <td>1.0</td>\n",
       "      <td>0.0</td>\n",
       "      <td>0.0</td>\n",
       "      <td>0.0</td>\n",
       "      <td>0.0</td>\n",
       "      <td>1.0</td>\n",
       "      <td>1.0</td>\n",
       "      <td>0.0</td>\n",
       "      <td>0.0</td>\n",
       "      <td>1.0</td>\n",
       "    </tr>\n",
       "  </tbody>\n",
       "</table>\n",
       "<p>3 rows × 122 columns</p>\n",
       "</div>"
      ],
      "text/plain": [
       "   WoodDeckSF  GarageArea  BsmtFinSF2  TotalBsmtSF   LotArea  MasVnrArea  \\\n",
       "0    0.070299    1.000000         0.0     0.809671  0.342243    0.394899   \n",
       "1    0.000000    0.641365         0.0     0.446393  0.237168    0.000000   \n",
       "2    0.063269    0.186805         0.0     0.333861  0.124442    0.000000   \n",
       "\n",
       "   YearBuilt  ScreenPorch  LotFrontage  2ndFlrSF  ...  Foundation_PConc  \\\n",
       "0   1.000000     0.403933     0.736469  0.685522  ...               0.0   \n",
       "1   0.977778     0.000000     0.461402  0.713560  ...               0.0   \n",
       "2   0.437037     0.000000     0.239574  0.000000  ...               1.0   \n",
       "\n",
       "   Foundation_CBlock  Foundation_BrkTil  Foundation_Other  BsmtFinType2_Unf  \\\n",
       "0                0.0                0.0               1.0               0.0   \n",
       "1                0.0                0.0               1.0               0.0   \n",
       "2                0.0                0.0               0.0               0.0   \n",
       "\n",
       "   BsmtFinType2_Other  GarageQual_TA  GarageQual_Other  BsmtCond_TA  \\\n",
       "0                 1.0            0.0               1.0          0.0   \n",
       "1                 1.0            0.0               1.0          0.0   \n",
       "2                 1.0            1.0               0.0          0.0   \n",
       "\n",
       "   BsmtCond_Other  \n",
       "0             1.0  \n",
       "1             1.0  \n",
       "2             1.0  \n",
       "\n",
       "[3 rows x 122 columns]"
      ]
     },
     "execution_count": 50,
     "metadata": {},
     "output_type": "execute_result"
    }
   ],
   "source": [
    "new_df_sc = PP_obj.preProcessData(new_df, new_data=True)\n",
    "new_df_sc.shape\n",
    "new_df_sc.head(3)"
   ]
  },
  {
   "cell_type": "code",
   "execution_count": null,
   "id": "fef19743",
   "metadata": {
    "hidden": true
   },
   "outputs": [],
   "source": []
  },
  {
   "cell_type": "markdown",
   "id": "e576f7cd",
   "metadata": {
    "heading_collapsed": true
   },
   "source": [
    "## Feature reduction \n",
    "t-SNE or PCA or embeddings"
   ]
  },
  {
   "cell_type": "code",
   "execution_count": 51,
   "id": "e358d6ab",
   "metadata": {
    "hidden": true
   },
   "outputs": [
    {
     "data": {
      "text/plain": [
       "(292, 2)"
      ]
     },
     "execution_count": 51,
     "metadata": {},
     "output_type": "execute_result"
    },
    {
     "data": {
      "text/plain": [
       "(292,)"
      ]
     },
     "execution_count": 51,
     "metadata": {},
     "output_type": "execute_result"
    }
   ],
   "source": [
    "temp_X = PP_obj.X_test_dim_reduc.copy()\n",
    "temp_y = PP_obj.y_test.copy()\n",
    "temp_X.shape\n",
    "temp_y.shape"
   ]
  },
  {
   "cell_type": "code",
   "execution_count": 52,
   "id": "7030bd44",
   "metadata": {
    "hidden": true
   },
   "outputs": [
    {
     "data": {
      "text/plain": [
       "['FACT_1', 'FACT_2']"
      ]
     },
     "execution_count": 52,
     "metadata": {},
     "output_type": "execute_result"
    }
   ],
   "source": [
    "n_components=2\n",
    "dim_red_result_df = temp_X.copy()\n",
    "dim_red_cols = [f\"FACT_{i+1}\" for i in range(n_components)]\n",
    "dim_red_cols"
   ]
  },
  {
   "cell_type": "code",
   "execution_count": 53,
   "id": "d93838b7",
   "metadata": {
    "hidden": true
   },
   "outputs": [
    {
     "data": {
      "text/plain": [
       "FACT_1    0.632359\n",
       "FACT_2    0.510509\n",
       "label     1.000000\n",
       "Name: label, dtype: float64"
      ]
     },
     "execution_count": 53,
     "metadata": {},
     "output_type": "execute_result"
    }
   ],
   "source": [
    "temp_df = temp_X.copy()\n",
    "temp_df['label'] = temp_y.reset_index(drop=True)\n",
    "temp_df.corr()['label']"
   ]
  },
  {
   "cell_type": "code",
   "execution_count": 54,
   "id": "0d1a3203",
   "metadata": {
    "hidden": true
   },
   "outputs": [
    {
     "data": {
      "image/png": "[encoded data removed]",
      "text/plain": [
       "<Figure size 864x432 with 1 Axes>"
      ]
     },
     "metadata": {
      "needs_background": "light"
     },
     "output_type": "display_data"
    }
   ],
   "source": [
    "PP_obj.dimReducPlot(df=temp_X, y=temp_y)"
   ]
  },
  {
   "cell_type": "code",
   "execution_count": null,
   "id": "1a1f8f5e",
   "metadata": {
    "hidden": true
   },
   "outputs": [],
   "source": []
  },
  {
   "cell_type": "markdown",
   "id": "00c74ca9",
   "metadata": {},
   "source": [
    "## Initialize set of models"
   ]
  },
  {
   "cell_type": "markdown",
   "id": "06344665",
   "metadata": {},
   "source": [
    "### Model training"
   ]
  },
  {
   "cell_type": "code",
   "execution_count": 55,
   "id": "aaa18352",
   "metadata": {},
   "outputs": [],
   "source": [
    "from sklearn.linear_model import LogisticRegressionCV\n",
    "from sklearn.ensemble import RandomForestRegressor"
   ]
  },
  {
   "cell_type": "code",
   "execution_count": 58,
   "id": "1bc60b3d",
   "metadata": {
    "scrolled": true
   },
   "outputs": [
    {
     "data": {
      "text/plain": [
       "RandomForestRegressor(random_state=0)"
      ]
     },
     "execution_count": 58,
     "metadata": {},
     "output_type": "execute_result"
    }
   ],
   "source": [
    "# model = LogisticRegressionCV(cv=5, random_state=0, )\n",
    "model = RandomForestRegressor(random_state=0, )\n",
    "model.fit(PP_obj.X_train_dim_reduc, PP_obj.y_train)\n",
    "y_predict = model.predict(PP_obj.X_test_dim_reduc)"
   ]
  },
  {
   "cell_type": "code",
   "execution_count": null,
   "id": "f483cf9a",
   "metadata": {},
   "outputs": [],
   "source": []
  },
  {
   "cell_type": "markdown",
   "id": "4fcecfb5",
   "metadata": {
    "heading_collapsed": true
   },
   "source": [
    "### Test prediction & model evaluation"
   ]
  },
  {
   "cell_type": "code",
   "execution_count": 59,
   "id": "aefffdaf",
   "metadata": {
    "hidden": true
   },
   "outputs": [],
   "source": [
    "from sklearn.metrics import mean_absolute_percentage_error, mean_squared_error, r2_score"
   ]
  },
  {
   "cell_type": "code",
   "execution_count": 72,
   "id": "928911ac",
   "metadata": {
    "hidden": true
   },
   "outputs": [
    {
     "name": "stdout",
     "output_type": "stream",
     "text": [
      "mean_absolute_percentage_error: 0.3348\n",
      "mean_squared_error: 6875171026.1480\n",
      "r2_score: 0.0044\n"
     ]
    }
   ],
   "source": [
    "metrics = [mean_absolute_percentage_error, mean_squared_error, r2_score]\n",
    "for metric in metrics:\n",
    "    print(f\"{metric.__name__}: {metric(PP_obj.y_test, y_predict):.4f}\")"
   ]
  },
  {
   "cell_type": "markdown",
   "id": "2a4fd1ed",
   "metadata": {
    "heading_collapsed": true
   },
   "source": [
    "### Voting or Ensemble"
   ]
  },
  {
   "cell_type": "code",
   "execution_count": null,
   "id": "97fcad99",
   "metadata": {
    "hidden": true
   },
   "outputs": [],
   "source": []
  },
  {
   "cell_type": "code",
   "execution_count": null,
   "id": "64f5471e",
   "metadata": {
    "hidden": true
   },
   "outputs": [],
   "source": []
  },
  {
   "cell_type": "markdown",
   "id": "29b6235d",
   "metadata": {
    "heading_collapsed": true
   },
   "source": [
    "## Saving pipeline / model"
   ]
  },
  {
   "cell_type": "code",
   "execution_count": null,
   "id": "54168b8c",
   "metadata": {
    "hidden": true
   },
   "outputs": [],
   "source": []
  },
  {
   "cell_type": "code",
   "execution_count": null,
   "id": "55c2c0c7",
   "metadata": {
    "hidden": true
   },
   "outputs": [],
   "source": []
  },
  {
   "cell_type": "markdown",
   "id": "d94b1124",
   "metadata": {
    "heading_collapsed": true
   },
   "source": [
    "## Using an existing pre-trained model"
   ]
  },
  {
   "cell_type": "markdown",
   "id": "e277effc",
   "metadata": {
    "hidden": true
   },
   "source": [
    "### Load pipeline/ model"
   ]
  },
  {
   "cell_type": "code",
   "execution_count": null,
   "id": "8a0b07ec",
   "metadata": {
    "hidden": true
   },
   "outputs": [],
   "source": []
  },
  {
   "cell_type": "code",
   "execution_count": null,
   "id": "fb8bd881",
   "metadata": {
    "hidden": true
   },
   "outputs": [],
   "source": []
  },
  {
   "cell_type": "markdown",
   "id": "c228600b",
   "metadata": {
    "hidden": true
   },
   "source": [
    "### Load new data"
   ]
  },
  {
   "cell_type": "code",
   "execution_count": null,
   "id": "6488d7ea",
   "metadata": {
    "hidden": true
   },
   "outputs": [],
   "source": []
  },
  {
   "cell_type": "code",
   "execution_count": null,
   "id": "05271924",
   "metadata": {
    "hidden": true
   },
   "outputs": [],
   "source": []
  },
  {
   "cell_type": "markdown",
   "id": "7c636f1e",
   "metadata": {
    "hidden": true
   },
   "source": [
    "### Use pipeline to pre-process new data"
   ]
  },
  {
   "cell_type": "code",
   "execution_count": null,
   "id": "807b4325",
   "metadata": {
    "hidden": true
   },
   "outputs": [],
   "source": []
  },
  {
   "cell_type": "code",
   "execution_count": null,
   "id": "431478ba",
   "metadata": {
    "hidden": true
   },
   "outputs": [],
   "source": []
  },
  {
   "cell_type": "markdown",
   "id": "bacfb897",
   "metadata": {
    "hidden": true
   },
   "source": [
    "### Predict using pre-processed new data"
   ]
  },
  {
   "cell_type": "code",
   "execution_count": null,
   "id": "cd7a7b18",
   "metadata": {
    "hidden": true
   },
   "outputs": [],
   "source": []
  },
  {
   "cell_type": "code",
   "execution_count": null,
   "id": "1b59fead",
   "metadata": {
    "hidden": true
   },
   "outputs": [],
   "source": []
  },
  {
   "cell_type": "markdown",
   "id": "1fa60d29",
   "metadata": {
    "heading_collapsed": true
   },
   "source": [
    "## Feedback mechanism \n",
    "For continuous improvement"
   ]
  },
  {
   "cell_type": "code",
   "execution_count": null,
   "id": "ed88cc5d",
   "metadata": {
    "hidden": true
   },
   "outputs": [],
   "source": []
  },
  {
   "cell_type": "code",
   "execution_count": null,
   "id": "86f44de1",
   "metadata": {
    "hidden": true
   },
   "outputs": [],
   "source": []
  },
  {
   "cell_type": "markdown",
   "id": "9a2928bb",
   "metadata": {},
   "source": [
    "# End of analysis"
   ]
  }
 ],
 "metadata": {
  "kernelspec": {
   "display_name": "Python 3",
   "language": "python",
   "name": "python3"
  },
  "language_info": {
   "codemirror_mode": {
    "name": "ipython",
    "version": 3
   },
   "file_extension": ".py",
   "mimetype": "text/x-python",
   "name": "python",
   "nbconvert_exporter": "python",
   "pygments_lexer": "ipython3",
   "version": "3.8.8"
  },
  "toc": {
   "base_numbering": 1,
   "nav_menu": {},
   "number_sections": true,
   "sideBar": true,
   "skip_h1_title": true,
   "title_cell": "Table of Contents",
   "title_sidebar": "Contents",
   "toc_cell": false,
   "toc_position": {},
   "toc_section_display": true,
   "toc_window_display": false
  }
 },
 "nbformat": 4,
 "nbformat_minor": 5
}
