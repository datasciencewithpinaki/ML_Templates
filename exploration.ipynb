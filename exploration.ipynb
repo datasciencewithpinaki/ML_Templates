{
 "cells": [
  {
   "cell_type": "markdown",
   "id": "e7504323",
   "metadata": {},
   "source": [
    "# Explore steps for ML Template"
   ]
  },
  {
   "cell_type": "raw",
   "id": "330a2b41",
   "metadata": {},
   "source": [
    "Test pipeline for housing data"
   ]
  },
  {
   "cell_type": "markdown",
   "id": "d5a56571",
   "metadata": {
    "heading_collapsed": true
   },
   "source": [
    "## Libraries Needed"
   ]
  },
  {
   "cell_type": "code",
   "execution_count": 1,
   "id": "d94ce06a",
   "metadata": {
    "hidden": true
   },
   "outputs": [],
   "source": [
    "import pandas as pd\n",
    "import numpy as np\n",
    "import matplotlib.pyplot as plt\n",
    "import seaborn as sns\n",
    "import datetime as dt\n",
    "\n",
    "from IPython.core.interactiveshell import InteractiveShell\n",
    "InteractiveShell.ast_node_interactivity = \"all\""
   ]
  },
  {
   "cell_type": "code",
   "execution_count": 2,
   "id": "4ded9acd",
   "metadata": {
    "hidden": true
   },
   "outputs": [],
   "source": [
    "%run env.py"
   ]
  },
  {
   "cell_type": "code",
   "execution_count": 3,
   "id": "0e9911dc",
   "metadata": {
    "hidden": true
   },
   "outputs": [],
   "source": [
    "%matplotlib inline"
   ]
  },
  {
   "cell_type": "markdown",
   "id": "4a5ec481",
   "metadata": {
    "heading_collapsed": true
   },
   "source": [
    "## Load Environment"
   ]
  },
  {
   "cell_type": "code",
   "execution_count": 4,
   "id": "af660097",
   "metadata": {
    "hidden": true
   },
   "outputs": [
    {
     "data": {
      "text/plain": [
       "'/Users/prb000j/OneDrive - Walmart Inc/Python Learn Projects/Python Projects/ML_Templates/input_data/'"
      ]
     },
     "execution_count": 4,
     "metadata": {},
     "output_type": "execute_result"
    },
    {
     "data": {
      "text/plain": [
       "[0.0, 0.01, 0.03, 0.05, 0.1, 0.25, 0.5, 0.75, 0.9, 0.95, 0.97, 0.99, 1.0]"
      ]
     },
     "execution_count": 4,
     "metadata": {},
     "output_type": "execute_result"
    }
   ],
   "source": [
    "INPUT_DATA_PATH\n",
    "QUANTILE_LIST"
   ]
  },
  {
   "cell_type": "markdown",
   "id": "b46f56da",
   "metadata": {
    "heading_collapsed": true
   },
   "source": [
    "## Read data"
   ]
  },
  {
   "cell_type": "code",
   "execution_count": 5,
   "id": "d97489ea",
   "metadata": {
    "hidden": true
   },
   "outputs": [
    {
     "data": {
      "text/plain": [
       "(1460, 80)"
      ]
     },
     "execution_count": 5,
     "metadata": {},
     "output_type": "execute_result"
    },
    {
     "data": {
      "text/html": [
       "<div>\n",
       "<style scoped>\n",
       "    .dataframe tbody tr th:only-of-type {\n",
       "        vertical-align: middle;\n",
       "    }\n",
       "\n",
       "    .dataframe tbody tr th {\n",
       "        vertical-align: top;\n",
       "    }\n",
       "\n",
       "    .dataframe thead th {\n",
       "        text-align: right;\n",
       "    }\n",
       "</style>\n",
       "<table border=\"1\" class=\"dataframe\">\n",
       "  <thead>\n",
       "    <tr style=\"text-align: right;\">\n",
       "      <th></th>\n",
       "      <th>MSSubClass</th>\n",
       "      <th>MSZoning</th>\n",
       "      <th>LotFrontage</th>\n",
       "      <th>LotArea</th>\n",
       "      <th>Street</th>\n",
       "      <th>Alley</th>\n",
       "      <th>LotShape</th>\n",
       "      <th>LandContour</th>\n",
       "      <th>Utilities</th>\n",
       "      <th>LotConfig</th>\n",
       "      <th>...</th>\n",
       "      <th>PoolArea</th>\n",
       "      <th>PoolQC</th>\n",
       "      <th>Fence</th>\n",
       "      <th>MiscFeature</th>\n",
       "      <th>MiscVal</th>\n",
       "      <th>MoSold</th>\n",
       "      <th>YrSold</th>\n",
       "      <th>SaleType</th>\n",
       "      <th>SaleCondition</th>\n",
       "      <th>SalePrice</th>\n",
       "    </tr>\n",
       "    <tr>\n",
       "      <th>Id</th>\n",
       "      <th></th>\n",
       "      <th></th>\n",
       "      <th></th>\n",
       "      <th></th>\n",
       "      <th></th>\n",
       "      <th></th>\n",
       "      <th></th>\n",
       "      <th></th>\n",
       "      <th></th>\n",
       "      <th></th>\n",
       "      <th></th>\n",
       "      <th></th>\n",
       "      <th></th>\n",
       "      <th></th>\n",
       "      <th></th>\n",
       "      <th></th>\n",
       "      <th></th>\n",
       "      <th></th>\n",
       "      <th></th>\n",
       "      <th></th>\n",
       "      <th></th>\n",
       "    </tr>\n",
       "  </thead>\n",
       "  <tbody>\n",
       "    <tr>\n",
       "      <th>1</th>\n",
       "      <td>60</td>\n",
       "      <td>RL</td>\n",
       "      <td>65.0</td>\n",
       "      <td>8450</td>\n",
       "      <td>Pave</td>\n",
       "      <td>NaN</td>\n",
       "      <td>Reg</td>\n",
       "      <td>Lvl</td>\n",
       "      <td>AllPub</td>\n",
       "      <td>Inside</td>\n",
       "      <td>...</td>\n",
       "      <td>0</td>\n",
       "      <td>NaN</td>\n",
       "      <td>NaN</td>\n",
       "      <td>NaN</td>\n",
       "      <td>0</td>\n",
       "      <td>2</td>\n",
       "      <td>2008</td>\n",
       "      <td>WD</td>\n",
       "      <td>Normal</td>\n",
       "      <td>208500</td>\n",
       "    </tr>\n",
       "    <tr>\n",
       "      <th>2</th>\n",
       "      <td>20</td>\n",
       "      <td>RL</td>\n",
       "      <td>80.0</td>\n",
       "      <td>9600</td>\n",
       "      <td>Pave</td>\n",
       "      <td>NaN</td>\n",
       "      <td>Reg</td>\n",
       "      <td>Lvl</td>\n",
       "      <td>AllPub</td>\n",
       "      <td>FR2</td>\n",
       "      <td>...</td>\n",
       "      <td>0</td>\n",
       "      <td>NaN</td>\n",
       "      <td>NaN</td>\n",
       "      <td>NaN</td>\n",
       "      <td>0</td>\n",
       "      <td>5</td>\n",
       "      <td>2007</td>\n",
       "      <td>WD</td>\n",
       "      <td>Normal</td>\n",
       "      <td>181500</td>\n",
       "    </tr>\n",
       "    <tr>\n",
       "      <th>3</th>\n",
       "      <td>60</td>\n",
       "      <td>RL</td>\n",
       "      <td>68.0</td>\n",
       "      <td>11250</td>\n",
       "      <td>Pave</td>\n",
       "      <td>NaN</td>\n",
       "      <td>IR1</td>\n",
       "      <td>Lvl</td>\n",
       "      <td>AllPub</td>\n",
       "      <td>Inside</td>\n",
       "      <td>...</td>\n",
       "      <td>0</td>\n",
       "      <td>NaN</td>\n",
       "      <td>NaN</td>\n",
       "      <td>NaN</td>\n",
       "      <td>0</td>\n",
       "      <td>9</td>\n",
       "      <td>2008</td>\n",
       "      <td>WD</td>\n",
       "      <td>Normal</td>\n",
       "      <td>223500</td>\n",
       "    </tr>\n",
       "  </tbody>\n",
       "</table>\n",
       "<p>3 rows × 80 columns</p>\n",
       "</div>"
      ],
      "text/plain": [
       "    MSSubClass MSZoning  LotFrontage  LotArea Street Alley LotShape  \\\n",
       "Id                                                                    \n",
       "1           60       RL         65.0     8450   Pave   NaN      Reg   \n",
       "2           20       RL         80.0     9600   Pave   NaN      Reg   \n",
       "3           60       RL         68.0    11250   Pave   NaN      IR1   \n",
       "\n",
       "   LandContour Utilities LotConfig  ... PoolArea PoolQC Fence MiscFeature  \\\n",
       "Id                                  ...                                     \n",
       "1          Lvl    AllPub    Inside  ...        0    NaN   NaN         NaN   \n",
       "2          Lvl    AllPub       FR2  ...        0    NaN   NaN         NaN   \n",
       "3          Lvl    AllPub    Inside  ...        0    NaN   NaN         NaN   \n",
       "\n",
       "   MiscVal MoSold  YrSold  SaleType  SaleCondition  SalePrice  \n",
       "Id                                                             \n",
       "1        0      2    2008        WD         Normal     208500  \n",
       "2        0      5    2007        WD         Normal     181500  \n",
       "3        0      9    2008        WD         Normal     223500  \n",
       "\n",
       "[3 rows x 80 columns]"
      ]
     },
     "execution_count": 5,
     "metadata": {},
     "output_type": "execute_result"
    }
   ],
   "source": [
    "data_raw = pd.read_csv(INPUT_DATA_PATH + 'train.csv', index_col='Id')\n",
    "data_raw.shape\n",
    "data_raw.head(3)"
   ]
  },
  {
   "cell_type": "code",
   "execution_count": 6,
   "id": "12a63084",
   "metadata": {
    "hidden": true
   },
   "outputs": [
    {
     "data": {
      "text/plain": [
       "Index(['MSSubClass', 'MSZoning', 'LotFrontage', 'LotArea', 'Street', 'Alley',\n",
       "       'LotShape', 'LandContour', 'Utilities', 'LotConfig', 'LandSlope',\n",
       "       'Neighborhood', 'Condition1', 'Condition2', 'BldgType', 'HouseStyle',\n",
       "       'OverallQual', 'OverallCond', 'YearBuilt', 'YearRemodAdd', 'RoofStyle',\n",
       "       'RoofMatl', 'Exterior1st', 'Exterior2nd', 'MasVnrType', 'MasVnrArea',\n",
       "       'ExterQual', 'ExterCond', 'Foundation', 'BsmtQual', 'BsmtCond',\n",
       "       'BsmtExposure', 'BsmtFinType1', 'BsmtFinSF1', 'BsmtFinType2',\n",
       "       'BsmtFinSF2', 'BsmtUnfSF', 'TotalBsmtSF', 'Heating', 'HeatingQC',\n",
       "       'CentralAir', 'Electrical', '1stFlrSF', '2ndFlrSF', 'LowQualFinSF',\n",
       "       'GrLivArea', 'BsmtFullBath', 'BsmtHalfBath', 'FullBath', 'HalfBath',\n",
       "       'BedroomAbvGr', 'KitchenAbvGr', 'KitchenQual', 'TotRmsAbvGrd',\n",
       "       'Functional', 'Fireplaces', 'FireplaceQu', 'GarageType', 'GarageYrBlt',\n",
       "       'GarageFinish', 'GarageCars', 'GarageArea', 'GarageQual', 'GarageCond',\n",
       "       'PavedDrive', 'WoodDeckSF', 'OpenPorchSF', 'EnclosedPorch', '3SsnPorch',\n",
       "       'ScreenPorch', 'PoolArea', 'PoolQC', 'Fence', 'MiscFeature', 'MiscVal',\n",
       "       'MoSold', 'YrSold', 'SaleType', 'SaleCondition', 'SalePrice'],\n",
       "      dtype='object')"
      ]
     },
     "execution_count": 6,
     "metadata": {},
     "output_type": "execute_result"
    }
   ],
   "source": [
    "data_raw.columns"
   ]
  },
  {
   "cell_type": "code",
   "execution_count": null,
   "id": "67f862aa",
   "metadata": {
    "hidden": true
   },
   "outputs": [],
   "source": []
  },
  {
   "cell_type": "markdown",
   "id": "97e391b7",
   "metadata": {},
   "source": [
    "## Basic EDA"
   ]
  },
  {
   "cell_type": "markdown",
   "id": "9e28ef1e",
   "metadata": {
    "heading_collapsed": true
   },
   "source": [
    "### EDA of target data"
   ]
  },
  {
   "cell_type": "code",
   "execution_count": 7,
   "id": "d7b942e2",
   "metadata": {
    "hidden": true
   },
   "outputs": [
    {
     "data": {
      "text/html": [
       "<div>\n",
       "<style scoped>\n",
       "    .dataframe tbody tr th:only-of-type {\n",
       "        vertical-align: middle;\n",
       "    }\n",
       "\n",
       "    .dataframe tbody tr th {\n",
       "        vertical-align: top;\n",
       "    }\n",
       "\n",
       "    .dataframe thead th {\n",
       "        text-align: right;\n",
       "    }\n",
       "</style>\n",
       "<table border=\"1\" class=\"dataframe\">\n",
       "  <thead>\n",
       "    <tr style=\"text-align: right;\">\n",
       "      <th></th>\n",
       "      <th>count</th>\n",
       "      <th>mean</th>\n",
       "      <th>std</th>\n",
       "      <th>min</th>\n",
       "      <th>25%</th>\n",
       "      <th>50%</th>\n",
       "      <th>75%</th>\n",
       "      <th>max</th>\n",
       "    </tr>\n",
       "  </thead>\n",
       "  <tbody>\n",
       "    <tr>\n",
       "      <th>SalePrice</th>\n",
       "      <td>1460.0</td>\n",
       "      <td>180921.19589</td>\n",
       "      <td>79442.502883</td>\n",
       "      <td>34900.0</td>\n",
       "      <td>129975.0</td>\n",
       "      <td>163000.0</td>\n",
       "      <td>214000.0</td>\n",
       "      <td>755000.0</td>\n",
       "    </tr>\n",
       "  </tbody>\n",
       "</table>\n",
       "</div>"
      ],
      "text/plain": [
       "            count          mean           std      min       25%       50%  \\\n",
       "SalePrice  1460.0  180921.19589  79442.502883  34900.0  129975.0  163000.0   \n",
       "\n",
       "                75%       max  \n",
       "SalePrice  214000.0  755000.0  "
      ]
     },
     "execution_count": 7,
     "metadata": {},
     "output_type": "execute_result"
    },
    {
     "data": {
      "text/html": [
       "<div>\n",
       "<style scoped>\n",
       "    .dataframe tbody tr th:only-of-type {\n",
       "        vertical-align: middle;\n",
       "    }\n",
       "\n",
       "    .dataframe tbody tr th {\n",
       "        vertical-align: top;\n",
       "    }\n",
       "\n",
       "    .dataframe thead th {\n",
       "        text-align: right;\n",
       "    }\n",
       "</style>\n",
       "<table border=\"1\" class=\"dataframe\">\n",
       "  <thead>\n",
       "    <tr style=\"text-align: right;\">\n",
       "      <th></th>\n",
       "      <th>0.00</th>\n",
       "      <th>0.01</th>\n",
       "      <th>0.03</th>\n",
       "      <th>0.05</th>\n",
       "      <th>0.10</th>\n",
       "      <th>0.25</th>\n",
       "      <th>0.50</th>\n",
       "      <th>0.75</th>\n",
       "      <th>0.90</th>\n",
       "      <th>0.95</th>\n",
       "      <th>0.97</th>\n",
       "      <th>0.99</th>\n",
       "      <th>1.00</th>\n",
       "    </tr>\n",
       "  </thead>\n",
       "  <tbody>\n",
       "    <tr>\n",
       "      <th>SalePrice</th>\n",
       "      <td>34900.0</td>\n",
       "      <td>61815.97</td>\n",
       "      <td>82000.0</td>\n",
       "      <td>88000.0</td>\n",
       "      <td>106475.0</td>\n",
       "      <td>129975.0</td>\n",
       "      <td>163000.0</td>\n",
       "      <td>214000.0</td>\n",
       "      <td>278000.0</td>\n",
       "      <td>326100.0</td>\n",
       "      <td>374230.0</td>\n",
       "      <td>442567.01</td>\n",
       "      <td>755000.0</td>\n",
       "    </tr>\n",
       "  </tbody>\n",
       "</table>\n",
       "</div>"
      ],
      "text/plain": [
       "              0.00      0.01     0.03     0.05      0.10      0.25      0.50  \\\n",
       "SalePrice  34900.0  61815.97  82000.0  88000.0  106475.0  129975.0  163000.0   \n",
       "\n",
       "               0.75      0.90      0.95      0.97       0.99      1.00  \n",
       "SalePrice  214000.0  278000.0  326100.0  374230.0  442567.01  755000.0  "
      ]
     },
     "execution_count": 7,
     "metadata": {},
     "output_type": "execute_result"
    }
   ],
   "source": [
    "target_feature = 'SalePrice'\n",
    "data_raw[target_feature].describe().to_frame().T\n",
    "data_raw[target_feature].quantile(QUANTILE_LIST).to_frame().T"
   ]
  },
  {
   "cell_type": "code",
   "execution_count": 8,
   "id": "b1938215",
   "metadata": {
    "hidden": true
   },
   "outputs": [
    {
     "data": {
      "text/plain": [
       "pandas.core.series.Series"
      ]
     },
     "execution_count": 8,
     "metadata": {},
     "output_type": "execute_result"
    }
   ],
   "source": [
    "type(data_raw[target_feature])"
   ]
  },
  {
   "cell_type": "code",
   "execution_count": 9,
   "id": "04806f15",
   "metadata": {
    "hidden": true
   },
   "outputs": [
    {
     "data": {
      "text/plain": [
       "0"
      ]
     },
     "execution_count": 9,
     "metadata": {},
     "output_type": "execute_result"
    }
   ],
   "source": [
    "data_raw[target_feature].isna().sum()"
   ]
  },
  {
   "cell_type": "code",
   "execution_count": 10,
   "id": "78ed2294",
   "metadata": {
    "hidden": true
   },
   "outputs": [
    {
     "data": {
      "image/png": "[encoded data removed]",
      "text/plain": [
       "<Figure size 864x432 with 1 Axes>"
      ]
     },
     "metadata": {
      "needs_background": "light"
     },
     "output_type": "display_data"
    }
   ],
   "source": [
    "plt.figure(figsize = (12,6))\n",
    "\n",
    "sns.boxplot(y = target_feature, data = data_raw)\n",
    "\n",
    "plt.show();"
   ]
  },
  {
   "cell_type": "markdown",
   "id": "fb36a3bd",
   "metadata": {},
   "source": [
    "### EDA of features"
   ]
  },
  {
   "cell_type": "code",
   "execution_count": 14,
   "id": "2850a8c7",
   "metadata": {},
   "outputs": [
    {
     "data": {
      "text/plain": [
       "43"
      ]
     },
     "execution_count": 14,
     "metadata": {},
     "output_type": "execute_result"
    },
    {
     "data": {
      "text/plain": [
       "37"
      ]
     },
     "execution_count": 14,
     "metadata": {},
     "output_type": "execute_result"
    },
    {
     "data": {
      "text/html": [
       "<div>\n",
       "<style scoped>\n",
       "    .dataframe tbody tr th:only-of-type {\n",
       "        vertical-align: middle;\n",
       "    }\n",
       "\n",
       "    .dataframe tbody tr th {\n",
       "        vertical-align: top;\n",
       "    }\n",
       "\n",
       "    .dataframe thead th {\n",
       "        text-align: right;\n",
       "    }\n",
       "</style>\n",
       "<table border=\"1\" class=\"dataframe\">\n",
       "  <thead>\n",
       "    <tr style=\"text-align: right;\">\n",
       "      <th></th>\n",
       "      <th>MSZoning</th>\n",
       "      <th>Street</th>\n",
       "      <th>Alley</th>\n",
       "      <th>LotShape</th>\n",
       "      <th>LandContour</th>\n",
       "      <th>Utilities</th>\n",
       "      <th>LotConfig</th>\n",
       "      <th>LandSlope</th>\n",
       "      <th>Neighborhood</th>\n",
       "      <th>Condition1</th>\n",
       "      <th>...</th>\n",
       "      <th>GarageType</th>\n",
       "      <th>GarageFinish</th>\n",
       "      <th>GarageQual</th>\n",
       "      <th>GarageCond</th>\n",
       "      <th>PavedDrive</th>\n",
       "      <th>PoolQC</th>\n",
       "      <th>Fence</th>\n",
       "      <th>MiscFeature</th>\n",
       "      <th>SaleType</th>\n",
       "      <th>SaleCondition</th>\n",
       "    </tr>\n",
       "    <tr>\n",
       "      <th>Id</th>\n",
       "      <th></th>\n",
       "      <th></th>\n",
       "      <th></th>\n",
       "      <th></th>\n",
       "      <th></th>\n",
       "      <th></th>\n",
       "      <th></th>\n",
       "      <th></th>\n",
       "      <th></th>\n",
       "      <th></th>\n",
       "      <th></th>\n",
       "      <th></th>\n",
       "      <th></th>\n",
       "      <th></th>\n",
       "      <th></th>\n",
       "      <th></th>\n",
       "      <th></th>\n",
       "      <th></th>\n",
       "      <th></th>\n",
       "      <th></th>\n",
       "      <th></th>\n",
       "    </tr>\n",
       "  </thead>\n",
       "  <tbody>\n",
       "    <tr>\n",
       "      <th>1</th>\n",
       "      <td>RL</td>\n",
       "      <td>Pave</td>\n",
       "      <td>NaN</td>\n",
       "      <td>Reg</td>\n",
       "      <td>Lvl</td>\n",
       "      <td>AllPub</td>\n",
       "      <td>Inside</td>\n",
       "      <td>Gtl</td>\n",
       "      <td>CollgCr</td>\n",
       "      <td>Norm</td>\n",
       "      <td>...</td>\n",
       "      <td>Attchd</td>\n",
       "      <td>RFn</td>\n",
       "      <td>TA</td>\n",
       "      <td>TA</td>\n",
       "      <td>Y</td>\n",
       "      <td>NaN</td>\n",
       "      <td>NaN</td>\n",
       "      <td>NaN</td>\n",
       "      <td>WD</td>\n",
       "      <td>Normal</td>\n",
       "    </tr>\n",
       "    <tr>\n",
       "      <th>2</th>\n",
       "      <td>RL</td>\n",
       "      <td>Pave</td>\n",
       "      <td>NaN</td>\n",
       "      <td>Reg</td>\n",
       "      <td>Lvl</td>\n",
       "      <td>AllPub</td>\n",
       "      <td>FR2</td>\n",
       "      <td>Gtl</td>\n",
       "      <td>Veenker</td>\n",
       "      <td>Feedr</td>\n",
       "      <td>...</td>\n",
       "      <td>Attchd</td>\n",
       "      <td>RFn</td>\n",
       "      <td>TA</td>\n",
       "      <td>TA</td>\n",
       "      <td>Y</td>\n",
       "      <td>NaN</td>\n",
       "      <td>NaN</td>\n",
       "      <td>NaN</td>\n",
       "      <td>WD</td>\n",
       "      <td>Normal</td>\n",
       "    </tr>\n",
       "    <tr>\n",
       "      <th>3</th>\n",
       "      <td>RL</td>\n",
       "      <td>Pave</td>\n",
       "      <td>NaN</td>\n",
       "      <td>IR1</td>\n",
       "      <td>Lvl</td>\n",
       "      <td>AllPub</td>\n",
       "      <td>Inside</td>\n",
       "      <td>Gtl</td>\n",
       "      <td>CollgCr</td>\n",
       "      <td>Norm</td>\n",
       "      <td>...</td>\n",
       "      <td>Attchd</td>\n",
       "      <td>RFn</td>\n",
       "      <td>TA</td>\n",
       "      <td>TA</td>\n",
       "      <td>Y</td>\n",
       "      <td>NaN</td>\n",
       "      <td>NaN</td>\n",
       "      <td>NaN</td>\n",
       "      <td>WD</td>\n",
       "      <td>Normal</td>\n",
       "    </tr>\n",
       "  </tbody>\n",
       "</table>\n",
       "<p>3 rows × 43 columns</p>\n",
       "</div>"
      ],
      "text/plain": [
       "   MSZoning Street Alley LotShape LandContour Utilities LotConfig LandSlope  \\\n",
       "Id                                                                            \n",
       "1        RL   Pave   NaN      Reg         Lvl    AllPub    Inside       Gtl   \n",
       "2        RL   Pave   NaN      Reg         Lvl    AllPub       FR2       Gtl   \n",
       "3        RL   Pave   NaN      IR1         Lvl    AllPub    Inside       Gtl   \n",
       "\n",
       "   Neighborhood Condition1  ... GarageType GarageFinish GarageQual GarageCond  \\\n",
       "Id                          ...                                                 \n",
       "1       CollgCr       Norm  ...     Attchd          RFn         TA         TA   \n",
       "2       Veenker      Feedr  ...     Attchd          RFn         TA         TA   \n",
       "3       CollgCr       Norm  ...     Attchd          RFn         TA         TA   \n",
       "\n",
       "   PavedDrive PoolQC Fence MiscFeature SaleType SaleCondition  \n",
       "Id                                                             \n",
       "1           Y    NaN   NaN         NaN       WD        Normal  \n",
       "2           Y    NaN   NaN         NaN       WD        Normal  \n",
       "3           Y    NaN   NaN         NaN       WD        Normal  \n",
       "\n",
       "[3 rows x 43 columns]"
      ]
     },
     "execution_count": 14,
     "metadata": {},
     "output_type": "execute_result"
    },
    {
     "data": {
      "text/html": [
       "<div>\n",
       "<style scoped>\n",
       "    .dataframe tbody tr th:only-of-type {\n",
       "        vertical-align: middle;\n",
       "    }\n",
       "\n",
       "    .dataframe tbody tr th {\n",
       "        vertical-align: top;\n",
       "    }\n",
       "\n",
       "    .dataframe thead th {\n",
       "        text-align: right;\n",
       "    }\n",
       "</style>\n",
       "<table border=\"1\" class=\"dataframe\">\n",
       "  <thead>\n",
       "    <tr style=\"text-align: right;\">\n",
       "      <th></th>\n",
       "      <th>MSSubClass</th>\n",
       "      <th>LotFrontage</th>\n",
       "      <th>LotArea</th>\n",
       "      <th>OverallQual</th>\n",
       "      <th>OverallCond</th>\n",
       "      <th>YearBuilt</th>\n",
       "      <th>YearRemodAdd</th>\n",
       "      <th>MasVnrArea</th>\n",
       "      <th>BsmtFinSF1</th>\n",
       "      <th>BsmtFinSF2</th>\n",
       "      <th>...</th>\n",
       "      <th>WoodDeckSF</th>\n",
       "      <th>OpenPorchSF</th>\n",
       "      <th>EnclosedPorch</th>\n",
       "      <th>3SsnPorch</th>\n",
       "      <th>ScreenPorch</th>\n",
       "      <th>PoolArea</th>\n",
       "      <th>MiscVal</th>\n",
       "      <th>MoSold</th>\n",
       "      <th>YrSold</th>\n",
       "      <th>SalePrice</th>\n",
       "    </tr>\n",
       "    <tr>\n",
       "      <th>Id</th>\n",
       "      <th></th>\n",
       "      <th></th>\n",
       "      <th></th>\n",
       "      <th></th>\n",
       "      <th></th>\n",
       "      <th></th>\n",
       "      <th></th>\n",
       "      <th></th>\n",
       "      <th></th>\n",
       "      <th></th>\n",
       "      <th></th>\n",
       "      <th></th>\n",
       "      <th></th>\n",
       "      <th></th>\n",
       "      <th></th>\n",
       "      <th></th>\n",
       "      <th></th>\n",
       "      <th></th>\n",
       "      <th></th>\n",
       "      <th></th>\n",
       "      <th></th>\n",
       "    </tr>\n",
       "  </thead>\n",
       "  <tbody>\n",
       "    <tr>\n",
       "      <th>1</th>\n",
       "      <td>60</td>\n",
       "      <td>65.0</td>\n",
       "      <td>8450</td>\n",
       "      <td>7</td>\n",
       "      <td>5</td>\n",
       "      <td>2003</td>\n",
       "      <td>2003</td>\n",
       "      <td>196.0</td>\n",
       "      <td>706</td>\n",
       "      <td>0</td>\n",
       "      <td>...</td>\n",
       "      <td>0</td>\n",
       "      <td>61</td>\n",
       "      <td>0</td>\n",
       "      <td>0</td>\n",
       "      <td>0</td>\n",
       "      <td>0</td>\n",
       "      <td>0</td>\n",
       "      <td>2</td>\n",
       "      <td>2008</td>\n",
       "      <td>208500</td>\n",
       "    </tr>\n",
       "    <tr>\n",
       "      <th>2</th>\n",
       "      <td>20</td>\n",
       "      <td>80.0</td>\n",
       "      <td>9600</td>\n",
       "      <td>6</td>\n",
       "      <td>8</td>\n",
       "      <td>1976</td>\n",
       "      <td>1976</td>\n",
       "      <td>0.0</td>\n",
       "      <td>978</td>\n",
       "      <td>0</td>\n",
       "      <td>...</td>\n",
       "      <td>298</td>\n",
       "      <td>0</td>\n",
       "      <td>0</td>\n",
       "      <td>0</td>\n",
       "      <td>0</td>\n",
       "      <td>0</td>\n",
       "      <td>0</td>\n",
       "      <td>5</td>\n",
       "      <td>2007</td>\n",
       "      <td>181500</td>\n",
       "    </tr>\n",
       "    <tr>\n",
       "      <th>3</th>\n",
       "      <td>60</td>\n",
       "      <td>68.0</td>\n",
       "      <td>11250</td>\n",
       "      <td>7</td>\n",
       "      <td>5</td>\n",
       "      <td>2001</td>\n",
       "      <td>2002</td>\n",
       "      <td>162.0</td>\n",
       "      <td>486</td>\n",
       "      <td>0</td>\n",
       "      <td>...</td>\n",
       "      <td>0</td>\n",
       "      <td>42</td>\n",
       "      <td>0</td>\n",
       "      <td>0</td>\n",
       "      <td>0</td>\n",
       "      <td>0</td>\n",
       "      <td>0</td>\n",
       "      <td>9</td>\n",
       "      <td>2008</td>\n",
       "      <td>223500</td>\n",
       "    </tr>\n",
       "  </tbody>\n",
       "</table>\n",
       "<p>3 rows × 37 columns</p>\n",
       "</div>"
      ],
      "text/plain": [
       "    MSSubClass  LotFrontage  LotArea  OverallQual  OverallCond  YearBuilt  \\\n",
       "Id                                                                          \n",
       "1           60         65.0     8450            7            5       2003   \n",
       "2           20         80.0     9600            6            8       1976   \n",
       "3           60         68.0    11250            7            5       2001   \n",
       "\n",
       "    YearRemodAdd  MasVnrArea  BsmtFinSF1  BsmtFinSF2  ...  WoodDeckSF  \\\n",
       "Id                                                    ...               \n",
       "1           2003       196.0         706           0  ...           0   \n",
       "2           1976         0.0         978           0  ...         298   \n",
       "3           2002       162.0         486           0  ...           0   \n",
       "\n",
       "    OpenPorchSF  EnclosedPorch  3SsnPorch  ScreenPorch  PoolArea  MiscVal  \\\n",
       "Id                                                                          \n",
       "1            61              0          0            0         0        0   \n",
       "2             0              0          0            0         0        0   \n",
       "3            42              0          0            0         0        0   \n",
       "\n",
       "    MoSold  YrSold  SalePrice  \n",
       "Id                             \n",
       "1        2    2008     208500  \n",
       "2        5    2007     181500  \n",
       "3        9    2008     223500  \n",
       "\n",
       "[3 rows x 37 columns]"
      ]
     },
     "execution_count": 14,
     "metadata": {},
     "output_type": "execute_result"
    }
   ],
   "source": [
    "catg_features = data_raw.select_dtypes(include='object').columns.to_list()\n",
    "numeric_features = data_raw.select_dtypes(exclude='object').columns.to_list()\n",
    "len(catg_features)\n",
    "len(numeric_features)\n",
    "data_raw[catg_features].head(3)\n",
    "data_raw[numeric_features].head(3)"
   ]
  },
  {
   "cell_type": "code",
   "execution_count": 271,
   "id": "e892b4ff",
   "metadata": {},
   "outputs": [],
   "source": [
    "def getColsWithManyNAs(df, na_allowed=0.5):\n",
    "    '''\n",
    "    cols that have more than the allowed pct of rows \n",
    "    will get returned\n",
    "    '''\n",
    "    thresh_na_count = int(na_allowed * df.shape[0])\n",
    "    op_str = f\"NA count is at least {thresh_na_count} rows out of {df.shape[0]} | {thresh_na_count/ df.shape[0]:.2%}\"\n",
    "    print(op_str)\n",
    "    cols_w_manyNAs = df.isna().sum()[df.isna().sum() > thresh_na_count].index.to_list()\n",
    "    return cols_w_manyNAs"
   ]
  },
  {
   "cell_type": "code",
   "execution_count": 272,
   "id": "bf481e37",
   "metadata": {},
   "outputs": [
    {
     "name": "stdout",
     "output_type": "stream",
     "text": [
      "NA count is at least 730 rows out of 1460 | 50.00%\n"
     ]
    },
    {
     "data": {
      "text/plain": [
       "['Alley', 'PoolQC', 'Fence', 'MiscFeature']"
      ]
     },
     "execution_count": 272,
     "metadata": {},
     "output_type": "execute_result"
    }
   ],
   "source": [
    "cols_w_manyNAs = getColsWithManyNAs(data_raw)\n",
    "cols_w_manyNAs"
   ]
  },
  {
   "cell_type": "code",
   "execution_count": 47,
   "id": "17bc76a0",
   "metadata": {},
   "outputs": [
    {
     "data": {
      "text/plain": [
       "Alley          1369\n",
       "PoolQC         1453\n",
       "Fence          1179\n",
       "MiscFeature    1406\n",
       "dtype: int64"
      ]
     },
     "execution_count": 47,
     "metadata": {},
     "output_type": "execute_result"
    }
   ],
   "source": [
    "data_raw[cols_w_manyNAs].isna().sum()"
   ]
  },
  {
   "cell_type": "code",
   "execution_count": 48,
   "id": "07b184ad",
   "metadata": {},
   "outputs": [
    {
     "data": {
      "text/plain": [
       "{'Alley': Grvl    50\n",
       " Pave    41\n",
       " Name: Alley, dtype: int64,\n",
       " 'PoolQC': Gd    3\n",
       " Ex    2\n",
       " Fa    2\n",
       " Name: PoolQC, dtype: int64,\n",
       " 'Fence': MnPrv    157\n",
       " GdPrv     59\n",
       " GdWo      54\n",
       " MnWw      11\n",
       " Name: Fence, dtype: int64,\n",
       " 'MiscFeature': Shed    49\n",
       " Gar2     2\n",
       " Othr     2\n",
       " TenC     1\n",
       " Name: MiscFeature, dtype: int64}"
      ]
     },
     "execution_count": 48,
     "metadata": {},
     "output_type": "execute_result"
    }
   ],
   "source": [
    "{col: data_raw[col].value_counts() for col in cols_w_manyNAs}"
   ]
  },
  {
   "cell_type": "code",
   "execution_count": 49,
   "id": "d3d2ed67",
   "metadata": {
    "scrolled": true
   },
   "outputs": [
    {
     "data": {
      "text/plain": [
       "{'MSZoning': array(['RL', 'RM', 'C (all)', 'FV', 'RH'], dtype=object),\n",
       " 'Street': array(['Pave', 'Grvl'], dtype=object),\n",
       " 'Alley': array([nan, 'Grvl', 'Pave'], dtype=object),\n",
       " 'LotShape': array(['Reg', 'IR1', 'IR2', 'IR3'], dtype=object),\n",
       " 'LandContour': array(['Lvl', 'Bnk', 'Low', 'HLS'], dtype=object),\n",
       " 'Utilities': array(['AllPub', 'NoSeWa'], dtype=object),\n",
       " 'LotConfig': array(['Inside', 'FR2', 'Corner', 'CulDSac', 'FR3'], dtype=object),\n",
       " 'LandSlope': array(['Gtl', 'Mod', 'Sev'], dtype=object),\n",
       " 'Condition1': array(['Norm', 'Feedr', 'PosN', 'Artery', 'RRAe', 'RRNn', 'RRAn', 'PosA',\n",
       "        'RRNe'], dtype=object),\n",
       " 'Condition2': array(['Norm', 'Artery', 'RRNn', 'Feedr', 'PosN', 'PosA', 'RRAn', 'RRAe'],\n",
       "       dtype=object),\n",
       " 'BldgType': array(['1Fam', '2fmCon', 'Duplex', 'TwnhsE', 'Twnhs'], dtype=object),\n",
       " 'HouseStyle': array(['2Story', '1Story', '1.5Fin', '1.5Unf', 'SFoyer', 'SLvl', '2.5Unf',\n",
       "        '2.5Fin'], dtype=object),\n",
       " 'RoofStyle': array(['Gable', 'Hip', 'Gambrel', 'Mansard', 'Flat', 'Shed'], dtype=object),\n",
       " 'RoofMatl': array(['CompShg', 'WdShngl', 'Metal', 'WdShake', 'Membran', 'Tar&Grv',\n",
       "        'Roll', 'ClyTile'], dtype=object),\n",
       " 'Exterior1st': array(['VinylSd', 'MetalSd', 'Wd Sdng', 'HdBoard', 'BrkFace', 'WdShing',\n",
       "        'CemntBd', 'Plywood', 'AsbShng', 'Stucco', 'BrkComm', 'AsphShn',\n",
       "        'Stone', 'ImStucc', 'CBlock'], dtype=object),\n",
       " 'Exterior2nd': array(['VinylSd', 'MetalSd', 'Wd Shng', 'HdBoard', 'Plywood', 'Wd Sdng',\n",
       "        'CmentBd', 'BrkFace', 'Stucco', 'AsbShng', 'Brk Cmn', 'ImStucc',\n",
       "        'AsphShn', 'Stone', 'Other', 'CBlock'], dtype=object),\n",
       " 'MasVnrType': array(['BrkFace', 'None', 'Stone', 'BrkCmn', nan], dtype=object),\n",
       " 'ExterQual': array(['Gd', 'TA', 'Ex', 'Fa'], dtype=object),\n",
       " 'ExterCond': array(['TA', 'Gd', 'Fa', 'Po', 'Ex'], dtype=object),\n",
       " 'Foundation': array(['PConc', 'CBlock', 'BrkTil', 'Wood', 'Slab', 'Stone'], dtype=object),\n",
       " 'BsmtQual': array(['Gd', 'TA', 'Ex', nan, 'Fa'], dtype=object),\n",
       " 'BsmtCond': array(['TA', 'Gd', nan, 'Fa', 'Po'], dtype=object),\n",
       " 'BsmtExposure': array(['No', 'Gd', 'Mn', 'Av', nan], dtype=object),\n",
       " 'BsmtFinType1': array(['GLQ', 'ALQ', 'Unf', 'Rec', 'BLQ', nan, 'LwQ'], dtype=object),\n",
       " 'BsmtFinType2': array(['Unf', 'BLQ', nan, 'ALQ', 'Rec', 'LwQ', 'GLQ'], dtype=object),\n",
       " 'Heating': array(['GasA', 'GasW', 'Grav', 'Wall', 'OthW', 'Floor'], dtype=object),\n",
       " 'HeatingQC': array(['Ex', 'Gd', 'TA', 'Fa', 'Po'], dtype=object),\n",
       " 'CentralAir': array(['Y', 'N'], dtype=object),\n",
       " 'Electrical': array(['SBrkr', 'FuseF', 'FuseA', 'FuseP', 'Mix', nan], dtype=object),\n",
       " 'KitchenQual': array(['Gd', 'TA', 'Ex', 'Fa'], dtype=object),\n",
       " 'Functional': array(['Typ', 'Min1', 'Maj1', 'Min2', 'Mod', 'Maj2', 'Sev'], dtype=object),\n",
       " 'FireplaceQu': array([nan, 'TA', 'Gd', 'Fa', 'Ex', 'Po'], dtype=object),\n",
       " 'GarageType': array(['Attchd', 'Detchd', 'BuiltIn', 'CarPort', nan, 'Basment', '2Types'],\n",
       "       dtype=object),\n",
       " 'GarageFinish': array(['RFn', 'Unf', 'Fin', nan], dtype=object),\n",
       " 'GarageQual': array(['TA', 'Fa', 'Gd', nan, 'Ex', 'Po'], dtype=object),\n",
       " 'GarageCond': array(['TA', 'Fa', nan, 'Gd', 'Po', 'Ex'], dtype=object),\n",
       " 'PavedDrive': array(['Y', 'N', 'P'], dtype=object),\n",
       " 'PoolQC': array([nan, 'Ex', 'Fa', 'Gd'], dtype=object),\n",
       " 'Fence': array([nan, 'MnPrv', 'GdWo', 'GdPrv', 'MnWw'], dtype=object),\n",
       " 'MiscFeature': array([nan, 'Shed', 'Gar2', 'Othr', 'TenC'], dtype=object),\n",
       " 'SaleType': array(['WD', 'New', 'COD', 'ConLD', 'ConLI', 'CWD', 'ConLw', 'Con', 'Oth'],\n",
       "       dtype=object),\n",
       " 'SaleCondition': array(['Normal', 'Abnorml', 'Partial', 'AdjLand', 'Alloca', 'Family'],\n",
       "       dtype=object)}"
      ]
     },
     "execution_count": 49,
     "metadata": {},
     "output_type": "execute_result"
    }
   ],
   "source": [
    "{col: data_raw[col].unique() for col in catg_features if data_raw[col].nunique() < 20}"
   ]
  },
  {
   "cell_type": "code",
   "execution_count": 50,
   "id": "8ef31cf8",
   "metadata": {},
   "outputs": [
    {
     "data": {
      "text/plain": [
       "{'MSSubClass': 15,\n",
       " 'OverallQual': 10,\n",
       " 'OverallCond': 9,\n",
       " 'LowQualFinSF': 24,\n",
       " 'BsmtFullBath': 4,\n",
       " 'BsmtHalfBath': 3,\n",
       " 'FullBath': 4,\n",
       " 'HalfBath': 3,\n",
       " 'BedroomAbvGr': 8,\n",
       " 'KitchenAbvGr': 4,\n",
       " 'TotRmsAbvGrd': 12,\n",
       " 'Fireplaces': 4,\n",
       " 'GarageCars': 5,\n",
       " '3SsnPorch': 20,\n",
       " 'PoolArea': 8,\n",
       " 'MiscVal': 21,\n",
       " 'MoSold': 12,\n",
       " 'YrSold': 5}"
      ]
     },
     "execution_count": 50,
     "metadata": {},
     "output_type": "execute_result"
    },
    {
     "data": {
      "text/plain": [
       "18"
      ]
     },
     "execution_count": 50,
     "metadata": {},
     "output_type": "execute_result"
    }
   ],
   "source": [
    "## some features resemble a numeric column; however, we need to treat them as a categorical\n",
    "{col: data_raw[col].nunique() for col in numeric_features if data_raw[col].nunique()<50}\n",
    "pseudo_catg_features = [col for col in numeric_features if data_raw[col].nunique()<50]\n",
    "len(pseudo_catg_features)"
   ]
  },
  {
   "cell_type": "code",
   "execution_count": null,
   "id": "99cd8a6c",
   "metadata": {},
   "outputs": [],
   "source": []
  },
  {
   "cell_type": "markdown",
   "id": "8a83e269",
   "metadata": {},
   "source": [
    "### Bi variate analysis"
   ]
  },
  {
   "cell_type": "code",
   "execution_count": 189,
   "id": "c144f132",
   "metadata": {
    "code_folding": []
   },
   "outputs": [],
   "source": [
    "def getRowColCountForChart(nbr, def_cols=4):\n",
    "    '''\n",
    "    get row and column count for subplots\n",
    "    based on the number of columns in df\n",
    "    '''\n",
    "    MAX_COL = 6\n",
    "    nrow = 1\n",
    "    if def_cols > MAX_COL:\n",
    "        print(f\"Defaulted to showing {MAX_COL} in one row\")\n",
    "        def_cols = MAX_COL\n",
    "    if nbr > (def_cols**2):\n",
    "        print(f\"First {def_cols**2} cols selected\")\n",
    "        nbr = def_cols**2\n",
    "        return def_cols, def_cols\n",
    "    else:\n",
    "        ncol = def_cols\n",
    "        for i in range(1, nbr):\n",
    "            if i%def_cols == 0:\n",
    "                nrow += 1\n",
    "                    \n",
    "    return nrow, ncol"
   ]
  },
  {
   "cell_type": "code",
   "execution_count": 357,
   "id": "c41d80c2",
   "metadata": {},
   "outputs": [],
   "source": [
    "def plotCatgPlot(df, target_feature, cols, plot_type=sns.boxplot, def_cols=4):\n",
    "    '''\n",
    "    get the plot for each of the catg \n",
    "    within the columns\n",
    "    '''\n",
    "    nrow, ncol = getRowColCountForChart(len(cols), def_cols)\n",
    "    fig, ax = plt.subplots(nrow, ncol, figsize=(24,12), sharey=True)\n",
    "\n",
    "    if nrow<2:\n",
    "        for i, col in enumerate(cols):\n",
    "            plot_type(x=col, y=target_feature, data=df, ax=ax[i])\n",
    "\n",
    "        plt.show();\n",
    "    \n",
    "    else:\n",
    "        cnt=0\n",
    "        for i in range(0, nrow):\n",
    "            for j in range(0, ncol):  \n",
    "                col = cols[cnt]\n",
    "                sns.barplot(x=col, y=target_feature, data=df, ax=ax[i, j])\n",
    "                cnt += 1\n",
    "        plt.show();"
   ]
  },
  {
   "cell_type": "markdown",
   "id": "79c7afb5",
   "metadata": {},
   "source": [
    "#### Deviation in target explained by Cols"
   ]
  },
  {
   "cell_type": "code",
   "execution_count": 358,
   "id": "0ab039e7",
   "metadata": {},
   "outputs": [
    {
     "data": {
      "text/plain": [
       "4"
      ]
     },
     "execution_count": 358,
     "metadata": {},
     "output_type": "execute_result"
    }
   ],
   "source": [
    "len(cols_w_manyNAs)"
   ]
  },
  {
   "cell_type": "code",
   "execution_count": 359,
   "id": "d695dbe1",
   "metadata": {},
   "outputs": [
    {
     "data": {
      "image/png": "[encoded data removed]",
      "text/plain": [
       "<Figure size 1728x864 with 4 Axes>"
      ]
     },
     "metadata": {
      "needs_background": "light"
     },
     "output_type": "display_data"
    }
   ],
   "source": [
    "plotCatgPlot(data_raw, target_feature, cols_w_manyNAs)"
   ]
  },
  {
   "cell_type": "raw",
   "id": "b6a272aa",
   "metadata": {},
   "source": [
    "The columns that were found to have many NAs do NOT have much of a differentiator wrt the target feature.\n",
    "Hence, we can drop all these features which have many NAs"
   ]
  },
  {
   "cell_type": "code",
   "execution_count": null,
   "id": "46fd2bc4",
   "metadata": {},
   "outputs": [],
   "source": []
  },
  {
   "cell_type": "code",
   "execution_count": 360,
   "id": "b7b193de",
   "metadata": {},
   "outputs": [
    {
     "data": {
      "text/plain": [
       "18"
      ]
     },
     "execution_count": 360,
     "metadata": {},
     "output_type": "execute_result"
    }
   ],
   "source": [
    "len(pseudo_catg_features)"
   ]
  },
  {
   "cell_type": "code",
   "execution_count": 361,
   "id": "28adef32",
   "metadata": {},
   "outputs": [
    {
     "data": {
      "image/png": "[encoded data removed]",
      "text/plain": [
       "<Figure size 1728x864 with 18 Axes>"
      ]
     },
     "metadata": {
      "needs_background": "light"
     },
     "output_type": "display_data"
    }
   ],
   "source": [
    "plotCatgPlot(data_raw, target_feature, pseudo_catg_features, sns.barplot, def_cols=6)"
   ]
  },
  {
   "cell_type": "code",
   "execution_count": null,
   "id": "0d48d79c",
   "metadata": {},
   "outputs": [],
   "source": []
  },
  {
   "cell_type": "code",
   "execution_count": 363,
   "id": "9cfcbf89",
   "metadata": {},
   "outputs": [
    {
     "data": {
      "text/plain": [
       "43"
      ]
     },
     "execution_count": 363,
     "metadata": {},
     "output_type": "execute_result"
    }
   ],
   "source": [
    "len(catg_features)"
   ]
  },
  {
   "cell_type": "code",
   "execution_count": 364,
   "id": "01be58a0",
   "metadata": {},
   "outputs": [
    {
     "name": "stdout",
     "output_type": "stream",
     "text": [
      "First 36 cols selected\n"
     ]
    },
    {
     "data": {
      "image/png": "[encoded data removed]",
      "text/plain": [
       "<Figure size 1728x864 with 36 Axes>"
      ]
     },
     "metadata": {
      "needs_background": "light"
     },
     "output_type": "display_data"
    }
   ],
   "source": [
    "plotCatgPlot(data_raw, target_feature, catg_features, sns.barplot, def_cols=6)"
   ]
  },
  {
   "cell_type": "code",
   "execution_count": null,
   "id": "dfd2950d",
   "metadata": {},
   "outputs": [],
   "source": []
  },
  {
   "cell_type": "code",
   "execution_count": 328,
   "id": "3a5544a3",
   "metadata": {},
   "outputs": [],
   "source": [
    "def explainedDeviationByCols(df, cols):\n",
    "    '''\n",
    "    rank the cols based on the \n",
    "    deviation in target feature they explain\n",
    "    '''\n",
    "    THRESH = 0.1\n",
    "    dev=[]\n",
    "    for i, col in enumerate(cols):\n",
    "        df = df[~df[col].isna()]\n",
    "        temp_gr_df = df.groupby([col], as_index=False)[target_feature].median()\n",
    "        dev.insert(i, temp_gr_df[target_feature].std())\n",
    "\n",
    "    metrics_df = pd.DataFrame({\n",
    "        'features': cols,\n",
    "        'dev': dev\n",
    "    })\n",
    "\n",
    "    metrics_df.shape\n",
    "    metrics_df.sort_values(['dev'], ascending=False, inplace=True)\n",
    "    metrics_df.reset_index(drop=True, inplace=True)\n",
    "    max_dev = metrics_df['dev'].quantile(0.95)\n",
    "    thresh_l = THRESH * max_dev\n",
    "    cols_w_low_dev = metrics_df[metrics_df['dev'] < thresh_l]['features'].to_list()\n",
    "    \n",
    "    return metrics_df, cols_w_low_dev"
   ]
  },
  {
   "cell_type": "code",
   "execution_count": 329,
   "id": "6789852a",
   "metadata": {
    "scrolled": true
   },
   "outputs": [
    {
     "data": {
      "text/plain": [
       "['MoSold', 'YrSold', 'BsmtHalfBath']"
      ]
     },
     "execution_count": 329,
     "metadata": {},
     "output_type": "execute_result"
    }
   ],
   "source": [
    "_, cols_w_low_dev1 = explainedDeviationByCols(data_raw, pseudo_catg_features)\n",
    "cols_w_low_dev1"
   ]
  },
  {
   "cell_type": "code",
   "execution_count": 330,
   "id": "31727e6e",
   "metadata": {
    "scrolled": true
   },
   "outputs": [
    {
     "data": {
      "text/plain": [
       "['LandContour', 'GarageQual']"
      ]
     },
     "execution_count": 330,
     "metadata": {},
     "output_type": "execute_result"
    }
   ],
   "source": [
    "_, cols_w_low_dev2 = explainedDeviationByCols(data_raw, catg_features)\n",
    "cols_w_low_dev2"
   ]
  },
  {
   "cell_type": "code",
   "execution_count": 331,
   "id": "65f22f81",
   "metadata": {},
   "outputs": [
    {
     "data": {
      "text/plain": [
       "[]"
      ]
     },
     "execution_count": 331,
     "metadata": {},
     "output_type": "execute_result"
    }
   ],
   "source": [
    "_, cols_w_low_dev3 = explainedDeviationByCols(data_raw, cols_w_manyNAs)\n",
    "cols_w_low_dev3"
   ]
  },
  {
   "cell_type": "code",
   "execution_count": 332,
   "id": "ca0b0d45",
   "metadata": {},
   "outputs": [
    {
     "data": {
      "text/plain": [
       "['MoSold', 'YrSold', 'BsmtHalfBath', 'LandContour', 'GarageQual']"
      ]
     },
     "execution_count": 332,
     "metadata": {},
     "output_type": "execute_result"
    }
   ],
   "source": [
    "cols_w_low_dev = cols_w_low_dev1 + cols_w_low_dev2\n",
    "cols_w_low_dev = cols_w_low_dev + cols_w_low_dev3\n",
    "cols_w_low_dev"
   ]
  },
  {
   "cell_type": "code",
   "execution_count": null,
   "id": "d5dcd564",
   "metadata": {},
   "outputs": [],
   "source": []
  },
  {
   "cell_type": "markdown",
   "id": "dcf0bc28",
   "metadata": {},
   "source": [
    "#### Multi collinearity between features"
   ]
  },
  {
   "cell_type": "code",
   "execution_count": 288,
   "id": "fcf7306d",
   "metadata": {},
   "outputs": [
    {
     "data": {
      "text/plain": [
       "'SalePrice'"
      ]
     },
     "execution_count": 288,
     "metadata": {},
     "output_type": "execute_result"
    }
   ],
   "source": [
    "target_feature"
   ]
  },
  {
   "cell_type": "code",
   "execution_count": 289,
   "id": "f5adf4fc",
   "metadata": {},
   "outputs": [
    {
     "data": {
      "text/plain": [
       "37"
      ]
     },
     "execution_count": 289,
     "metadata": {},
     "output_type": "execute_result"
    },
    {
     "data": {
      "text/plain": [
       "18"
      ]
     },
     "execution_count": 289,
     "metadata": {},
     "output_type": "execute_result"
    }
   ],
   "source": [
    "len(numeric_features)\n",
    "numeric_features_upd = list(set(numeric_features).difference(set(pseudo_catg_features + [target_feature])))\n",
    "len(numeric_features_upd)"
   ]
  },
  {
   "cell_type": "code",
   "execution_count": 290,
   "id": "23d01bcb",
   "metadata": {},
   "outputs": [
    {
     "data": {
      "image/png": "[encoded data removed]",
      "text/plain": [
       "<Figure size 864x432 with 2 Axes>"
      ]
     },
     "metadata": {
      "needs_background": "light"
     },
     "output_type": "display_data"
    }
   ],
   "source": [
    "plt.figure(figsize=(12,6))\n",
    "\n",
    "sns.heatmap(data_raw[numeric_features_upd].corr())\n",
    "\n",
    "plt.show();"
   ]
  },
  {
   "cell_type": "code",
   "execution_count": 319,
   "id": "daa9f138",
   "metadata": {},
   "outputs": [],
   "source": [
    "def getRankedCorr(df, cols, corr_thresh=0.7):\n",
    "    '''\n",
    "    get ranked correlation between \n",
    "    each pair of feature\n",
    "    '''\n",
    "    pair_key = []\n",
    "    corr_val = []\n",
    "    cnt=0\n",
    "    for i, col_i in enumerate(cols):\n",
    "        for j, col_j in enumerate(cols):\n",
    "            if i == j:\n",
    "                continue\n",
    "            temp_pair = col_i + '__' + col_j\n",
    "            temp_pair_rev = col_j + '__' + col_i\n",
    "            if len([f for f in pair_key if temp_pair_rev==f])>0:  # avoid repeats\n",
    "                continue\n",
    "            pair_key.insert(cnt, temp_pair)\n",
    "            corr_val.insert(cnt, df[col_i].corr(df[col_j]))\n",
    "            cnt += 1\n",
    "\n",
    "    corr_df = pd.DataFrame({\n",
    "        'feature_pair': pair_key,\n",
    "        'corr_val': corr_val\n",
    "    })\n",
    "\n",
    "    corr_df['abs_corr_val'] = abs(corr_df['corr_val'])\n",
    "    corr_df.sort_values(['abs_corr_val'], ascending=False, inplace=True)\n",
    "    h_corr_pair = corr_df[corr_df['abs_corr_val'] > corr_thresh]['feature_pair'].to_list()\n",
    "    corr_df.drop(['abs_corr_val'], axis=1, inplace=True)\n",
    "    corr_df.reset_index(drop=True, inplace=True)\n",
    "    \n",
    "    return corr_df, h_corr_pair"
   ]
  },
  {
   "cell_type": "code",
   "execution_count": null,
   "id": "bc8c2667",
   "metadata": {},
   "outputs": [],
   "source": []
  },
  {
   "cell_type": "code",
   "execution_count": 322,
   "id": "1c5e3e84",
   "metadata": {},
   "outputs": [
    {
     "data": {
      "text/plain": [
       "(153, 2)"
      ]
     },
     "execution_count": 322,
     "metadata": {},
     "output_type": "execute_result"
    },
    {
     "data": {
      "text/plain": [
       "2"
      ]
     },
     "execution_count": 322,
     "metadata": {},
     "output_type": "execute_result"
    },
    {
     "data": {
      "text/html": [
       "<div>\n",
       "<style scoped>\n",
       "    .dataframe tbody tr th:only-of-type {\n",
       "        vertical-align: middle;\n",
       "    }\n",
       "\n",
       "    .dataframe tbody tr th {\n",
       "        vertical-align: top;\n",
       "    }\n",
       "\n",
       "    .dataframe thead th {\n",
       "        text-align: right;\n",
       "    }\n",
       "</style>\n",
       "<table border=\"1\" class=\"dataframe\">\n",
       "  <thead>\n",
       "    <tr style=\"text-align: right;\">\n",
       "      <th></th>\n",
       "      <th>feature_pair</th>\n",
       "      <th>corr_val</th>\n",
       "    </tr>\n",
       "  </thead>\n",
       "  <tbody>\n",
       "    <tr>\n",
       "      <th>0</th>\n",
       "      <td>GarageYrBlt__YearBuilt</td>\n",
       "      <td>0.825667</td>\n",
       "    </tr>\n",
       "    <tr>\n",
       "      <th>1</th>\n",
       "      <td>1stFlrSF__TotalBsmtSF</td>\n",
       "      <td>0.819530</td>\n",
       "    </tr>\n",
       "    <tr>\n",
       "      <th>2</th>\n",
       "      <td>2ndFlrSF__GrLivArea</td>\n",
       "      <td>0.687501</td>\n",
       "    </tr>\n",
       "    <tr>\n",
       "      <th>3</th>\n",
       "      <td>YearRemodAdd__GarageYrBlt</td>\n",
       "      <td>0.642277</td>\n",
       "    </tr>\n",
       "    <tr>\n",
       "      <th>4</th>\n",
       "      <td>YearRemodAdd__YearBuilt</td>\n",
       "      <td>0.592855</td>\n",
       "    </tr>\n",
       "    <tr>\n",
       "      <th>5</th>\n",
       "      <td>1stFlrSF__GrLivArea</td>\n",
       "      <td>0.566024</td>\n",
       "    </tr>\n",
       "    <tr>\n",
       "      <th>6</th>\n",
       "      <td>GarageYrBlt__GarageArea</td>\n",
       "      <td>0.564567</td>\n",
       "    </tr>\n",
       "    <tr>\n",
       "      <th>7</th>\n",
       "      <td>BsmtFinSF1__TotalBsmtSF</td>\n",
       "      <td>0.522396</td>\n",
       "    </tr>\n",
       "    <tr>\n",
       "      <th>8</th>\n",
       "      <td>BsmtFinSF1__BsmtUnfSF</td>\n",
       "      <td>-0.495251</td>\n",
       "    </tr>\n",
       "    <tr>\n",
       "      <th>9</th>\n",
       "      <td>1stFlrSF__GarageArea</td>\n",
       "      <td>0.489782</td>\n",
       "    </tr>\n",
       "  </tbody>\n",
       "</table>\n",
       "</div>"
      ],
      "text/plain": [
       "                feature_pair  corr_val\n",
       "0     GarageYrBlt__YearBuilt  0.825667\n",
       "1      1stFlrSF__TotalBsmtSF  0.819530\n",
       "2        2ndFlrSF__GrLivArea  0.687501\n",
       "3  YearRemodAdd__GarageYrBlt  0.642277\n",
       "4    YearRemodAdd__YearBuilt  0.592855\n",
       "5        1stFlrSF__GrLivArea  0.566024\n",
       "6    GarageYrBlt__GarageArea  0.564567\n",
       "7    BsmtFinSF1__TotalBsmtSF  0.522396\n",
       "8      BsmtFinSF1__BsmtUnfSF -0.495251\n",
       "9       1stFlrSF__GarageArea  0.489782"
      ]
     },
     "execution_count": 322,
     "metadata": {},
     "output_type": "execute_result"
    },
    {
     "data": {
      "text/plain": [
       "['GarageYrBlt__YearBuilt', '1stFlrSF__TotalBsmtSF']"
      ]
     },
     "execution_count": 322,
     "metadata": {},
     "output_type": "execute_result"
    }
   ],
   "source": [
    "corr_df, h_corr_pair = getRankedCorr(data_raw, numeric_features_upd, 0.7)\n",
    "corr_df.shape\n",
    "len(h_corr_pair)\n",
    "corr_df.head(10)\n",
    "h_corr_pair"
   ]
  },
  {
   "cell_type": "raw",
   "id": "d1fef4c8",
   "metadata": {},
   "source": [
    "These feature pairs must not be part of a model together"
   ]
  },
  {
   "cell_type": "code",
   "execution_count": 393,
   "id": "ec87636e",
   "metadata": {},
   "outputs": [],
   "source": [
    "def getMultiCollFeatr(df, corr_featr_pair_list):\n",
    "    '''\n",
    "    input highly correlated features\n",
    "    return features that need to be dropped \n",
    "    based on how are these features correlated \n",
    "    with target feature.\n",
    "    '''\n",
    "    h_corr_pair_dict = {i:x.split(\"__\") for i, x in enumerate(corr_featr_pair_list)}\n",
    "    multi_coll_featr = []\n",
    "\n",
    "    for k, v in h_corr_pair_dict.items():\n",
    "        temp_dict = {v_one: df[target_feature].corr(df[v_one]) for v_one in v}\n",
    "        print(temp_dict)\n",
    "        multi_coll_featr.insert(len(multi_coll_featr), [k1 for k1 in temp_dict.keys() if temp_dict[k1]!=max(temp_dict.values())][0])\n",
    "\n",
    "    return multi_coll_featr"
   ]
  },
  {
   "cell_type": "code",
   "execution_count": 394,
   "id": "0c06e24d",
   "metadata": {},
   "outputs": [
    {
     "name": "stdout",
     "output_type": "stream",
     "text": [
      "{'GarageYrBlt': 0.4863616774878608, 'YearBuilt': 0.5228973328794969}\n",
      "{'1stFlrSF': 0.6058521846919147, 'TotalBsmtSF': 0.6135805515591956}\n"
     ]
    },
    {
     "data": {
      "text/plain": [
       "['GarageYrBlt', '1stFlrSF']"
      ]
     },
     "execution_count": 394,
     "metadata": {},
     "output_type": "execute_result"
    }
   ],
   "source": [
    "multi_coll_featr = getMultiCollFeatr(data_raw, h_corr_pair)\n",
    "multi_coll_featr"
   ]
  },
  {
   "cell_type": "code",
   "execution_count": null,
   "id": "84f232eb",
   "metadata": {},
   "outputs": [],
   "source": []
  },
  {
   "cell_type": "markdown",
   "id": "932dfd06",
   "metadata": {},
   "source": [
    "## Round 1 - feature selection"
   ]
  },
  {
   "cell_type": "code",
   "execution_count": 395,
   "id": "0ffbf0f1",
   "metadata": {},
   "outputs": [
    {
     "data": {
      "text/plain": [
       "9"
      ]
     },
     "execution_count": 395,
     "metadata": {},
     "output_type": "execute_result"
    }
   ],
   "source": [
    "cols_to_drop = cols_w_manyNAs + cols_w_low_dev\n",
    "len(cols_to_drop)"
   ]
  },
  {
   "cell_type": "code",
   "execution_count": 396,
   "id": "993df63a",
   "metadata": {},
   "outputs": [
    {
     "data": {
      "text/plain": [
       "37"
      ]
     },
     "execution_count": 396,
     "metadata": {},
     "output_type": "execute_result"
    },
    {
     "data": {
      "text/plain": [
       "16"
      ]
     },
     "execution_count": 396,
     "metadata": {},
     "output_type": "execute_result"
    }
   ],
   "source": [
    "## update catg & numeric features\n",
    "catg_features_upd = list(set(catg_features).difference(set(cols_to_drop)))\n",
    "numeric_features_upd = list(set(numeric_features_upd).difference(set(cols_to_drop + multi_coll_featr)))\n",
    "\n",
    "len(catg_features_upd)\n",
    "len(numeric_features_upd)"
   ]
  },
  {
   "cell_type": "code",
   "execution_count": null,
   "id": "17993ce7",
   "metadata": {},
   "outputs": [],
   "source": []
  },
  {
   "cell_type": "code",
   "execution_count": null,
   "id": "5d9c463a",
   "metadata": {},
   "outputs": [],
   "source": []
  },
  {
   "cell_type": "markdown",
   "id": "a38165d8",
   "metadata": {
    "heading_collapsed": true
   },
   "source": [
    "## Split data into train & test"
   ]
  },
  {
   "cell_type": "code",
   "execution_count": null,
   "id": "6c9037e7",
   "metadata": {
    "hidden": true
   },
   "outputs": [],
   "source": []
  },
  {
   "cell_type": "code",
   "execution_count": null,
   "id": "b6ee3f26",
   "metadata": {
    "hidden": true
   },
   "outputs": [],
   "source": []
  },
  {
   "cell_type": "markdown",
   "id": "8d3f626e",
   "metadata": {
    "heading_collapsed": true
   },
   "source": [
    "## Separating Catg & Numeric features"
   ]
  },
  {
   "cell_type": "code",
   "execution_count": null,
   "id": "2dc1c6a0",
   "metadata": {
    "hidden": true
   },
   "outputs": [],
   "source": []
  },
  {
   "cell_type": "code",
   "execution_count": null,
   "id": "22aadffb",
   "metadata": {
    "hidden": true
   },
   "outputs": [],
   "source": []
  },
  {
   "cell_type": "markdown",
   "id": "50aaaf22",
   "metadata": {
    "heading_collapsed": true
   },
   "source": [
    "## Preprocessing data - Numeric features"
   ]
  },
  {
   "cell_type": "markdown",
   "id": "d46baefd",
   "metadata": {
    "hidden": true
   },
   "source": [
    "### Handling missing data "
   ]
  },
  {
   "cell_type": "code",
   "execution_count": null,
   "id": "8dca5005",
   "metadata": {
    "hidden": true
   },
   "outputs": [],
   "source": []
  },
  {
   "cell_type": "code",
   "execution_count": null,
   "id": "d1559d96",
   "metadata": {
    "hidden": true
   },
   "outputs": [],
   "source": []
  },
  {
   "cell_type": "markdown",
   "id": "7245631e",
   "metadata": {
    "hidden": true
   },
   "source": [
    "### Handling outliers in data"
   ]
  },
  {
   "cell_type": "code",
   "execution_count": null,
   "id": "102058ce",
   "metadata": {
    "hidden": true
   },
   "outputs": [],
   "source": []
  },
  {
   "cell_type": "code",
   "execution_count": null,
   "id": "803c7851",
   "metadata": {
    "hidden": true
   },
   "outputs": [],
   "source": []
  },
  {
   "cell_type": "markdown",
   "id": "5f8dbb9e",
   "metadata": {
    "heading_collapsed": true
   },
   "source": [
    "## Preprocessing data - Catg features"
   ]
  },
  {
   "cell_type": "markdown",
   "id": "ba2aa057",
   "metadata": {
    "hidden": true
   },
   "source": [
    "### Handling missing data "
   ]
  },
  {
   "cell_type": "code",
   "execution_count": null,
   "id": "9a76d42d",
   "metadata": {
    "hidden": true
   },
   "outputs": [],
   "source": []
  },
  {
   "cell_type": "code",
   "execution_count": null,
   "id": "c4d7044c",
   "metadata": {
    "hidden": true
   },
   "outputs": [],
   "source": []
  },
  {
   "cell_type": "markdown",
   "id": "907e0380",
   "metadata": {
    "hidden": true
   },
   "source": [
    "### Handling outliers in data"
   ]
  },
  {
   "cell_type": "code",
   "execution_count": null,
   "id": "9a3dd197",
   "metadata": {
    "hidden": true
   },
   "outputs": [],
   "source": []
  },
  {
   "cell_type": "code",
   "execution_count": null,
   "id": "a65a3649",
   "metadata": {
    "hidden": true
   },
   "outputs": [],
   "source": []
  },
  {
   "cell_type": "markdown",
   "id": "584da8dc",
   "metadata": {
    "hidden": true
   },
   "source": [
    "### Encoding Catg features"
   ]
  },
  {
   "cell_type": "markdown",
   "id": "dcff9064",
   "metadata": {
    "hidden": true
   },
   "source": [
    "#### Form of labeling / One hot encoding"
   ]
  },
  {
   "cell_type": "code",
   "execution_count": null,
   "id": "269f461d",
   "metadata": {
    "hidden": true
   },
   "outputs": [],
   "source": []
  },
  {
   "cell_type": "code",
   "execution_count": null,
   "id": "72f8b82a",
   "metadata": {
    "hidden": true
   },
   "outputs": [],
   "source": []
  },
  {
   "cell_type": "markdown",
   "id": "c33890f9",
   "metadata": {
    "hidden": true
   },
   "source": [
    "#### Target encoding"
   ]
  },
  {
   "cell_type": "code",
   "execution_count": null,
   "id": "f86049d6",
   "metadata": {
    "hidden": true
   },
   "outputs": [],
   "source": []
  },
  {
   "cell_type": "code",
   "execution_count": null,
   "id": "6e4edf1e",
   "metadata": {
    "hidden": true
   },
   "outputs": [],
   "source": []
  },
  {
   "cell_type": "markdown",
   "id": "e576f7cd",
   "metadata": {
    "heading_collapsed": true
   },
   "source": [
    "## Feature reduction \n",
    "t-SNE or PCA or embeddings"
   ]
  },
  {
   "cell_type": "code",
   "execution_count": null,
   "id": "e358d6ab",
   "metadata": {
    "hidden": true
   },
   "outputs": [],
   "source": []
  },
  {
   "cell_type": "code",
   "execution_count": null,
   "id": "5f460dac",
   "metadata": {
    "hidden": true
   },
   "outputs": [],
   "source": []
  },
  {
   "cell_type": "markdown",
   "id": "00c74ca9",
   "metadata": {
    "heading_collapsed": true
   },
   "source": [
    "## Initialize set of models"
   ]
  },
  {
   "cell_type": "markdown",
   "id": "06344665",
   "metadata": {
    "hidden": true
   },
   "source": [
    "### Model training"
   ]
  },
  {
   "cell_type": "code",
   "execution_count": null,
   "id": "aaa18352",
   "metadata": {
    "hidden": true
   },
   "outputs": [],
   "source": []
  },
  {
   "cell_type": "code",
   "execution_count": null,
   "id": "f483cf9a",
   "metadata": {
    "hidden": true
   },
   "outputs": [],
   "source": []
  },
  {
   "cell_type": "markdown",
   "id": "4fcecfb5",
   "metadata": {
    "hidden": true
   },
   "source": [
    "### Test prediction & model evaluation"
   ]
  },
  {
   "cell_type": "code",
   "execution_count": null,
   "id": "aefffdaf",
   "metadata": {
    "hidden": true
   },
   "outputs": [],
   "source": []
  },
  {
   "cell_type": "code",
   "execution_count": null,
   "id": "928911ac",
   "metadata": {
    "hidden": true
   },
   "outputs": [],
   "source": []
  },
  {
   "cell_type": "markdown",
   "id": "2a4fd1ed",
   "metadata": {
    "hidden": true
   },
   "source": [
    "### Voting or Ensemble"
   ]
  },
  {
   "cell_type": "code",
   "execution_count": null,
   "id": "97fcad99",
   "metadata": {
    "hidden": true
   },
   "outputs": [],
   "source": []
  },
  {
   "cell_type": "code",
   "execution_count": null,
   "id": "64f5471e",
   "metadata": {
    "hidden": true
   },
   "outputs": [],
   "source": []
  },
  {
   "cell_type": "markdown",
   "id": "29b6235d",
   "metadata": {
    "heading_collapsed": true
   },
   "source": [
    "## Saving pipeline / model"
   ]
  },
  {
   "cell_type": "code",
   "execution_count": null,
   "id": "54168b8c",
   "metadata": {
    "hidden": true
   },
   "outputs": [],
   "source": []
  },
  {
   "cell_type": "code",
   "execution_count": null,
   "id": "55c2c0c7",
   "metadata": {
    "hidden": true
   },
   "outputs": [],
   "source": []
  },
  {
   "cell_type": "markdown",
   "id": "d94b1124",
   "metadata": {
    "heading_collapsed": true
   },
   "source": [
    "## Using an existing pre-trained model"
   ]
  },
  {
   "cell_type": "markdown",
   "id": "e277effc",
   "metadata": {
    "hidden": true
   },
   "source": [
    "### Load pipeline/ model"
   ]
  },
  {
   "cell_type": "code",
   "execution_count": null,
   "id": "8a0b07ec",
   "metadata": {
    "hidden": true
   },
   "outputs": [],
   "source": []
  },
  {
   "cell_type": "code",
   "execution_count": null,
   "id": "fb8bd881",
   "metadata": {
    "hidden": true
   },
   "outputs": [],
   "source": []
  },
  {
   "cell_type": "markdown",
   "id": "c228600b",
   "metadata": {
    "hidden": true
   },
   "source": [
    "### Load new data"
   ]
  },
  {
   "cell_type": "code",
   "execution_count": null,
   "id": "6488d7ea",
   "metadata": {
    "hidden": true
   },
   "outputs": [],
   "source": []
  },
  {
   "cell_type": "code",
   "execution_count": null,
   "id": "05271924",
   "metadata": {
    "hidden": true
   },
   "outputs": [],
   "source": []
  },
  {
   "cell_type": "markdown",
   "id": "7c636f1e",
   "metadata": {
    "hidden": true
   },
   "source": [
    "### Use pipeline to pre-process new data"
   ]
  },
  {
   "cell_type": "code",
   "execution_count": null,
   "id": "807b4325",
   "metadata": {
    "hidden": true
   },
   "outputs": [],
   "source": []
  },
  {
   "cell_type": "code",
   "execution_count": null,
   "id": "431478ba",
   "metadata": {
    "hidden": true
   },
   "outputs": [],
   "source": []
  },
  {
   "cell_type": "markdown",
   "id": "bacfb897",
   "metadata": {
    "hidden": true
   },
   "source": [
    "### Predict using pre-processed new data"
   ]
  },
  {
   "cell_type": "code",
   "execution_count": null,
   "id": "cd7a7b18",
   "metadata": {
    "hidden": true
   },
   "outputs": [],
   "source": []
  },
  {
   "cell_type": "code",
   "execution_count": null,
   "id": "1b59fead",
   "metadata": {
    "hidden": true
   },
   "outputs": [],
   "source": []
  },
  {
   "cell_type": "markdown",
   "id": "1fa60d29",
   "metadata": {
    "heading_collapsed": true
   },
   "source": [
    "## Feedback mechanism \n",
    "For continuous improvement"
   ]
  },
  {
   "cell_type": "code",
   "execution_count": null,
   "id": "ed88cc5d",
   "metadata": {
    "hidden": true
   },
   "outputs": [],
   "source": []
  },
  {
   "cell_type": "code",
   "execution_count": null,
   "id": "86f44de1",
   "metadata": {
    "hidden": true
   },
   "outputs": [],
   "source": []
  },
  {
   "cell_type": "markdown",
   "id": "9a2928bb",
   "metadata": {},
   "source": [
    "# End of analysis"
   ]
  }
 ],
 "metadata": {
  "kernelspec": {
   "display_name": "Python 3",
   "language": "python",
   "name": "python3"
  },
  "language_info": {
   "codemirror_mode": {
    "name": "ipython",
    "version": 3
   },
   "file_extension": ".py",
   "mimetype": "text/x-python",
   "name": "python",
   "nbconvert_exporter": "python",
   "pygments_lexer": "ipython3",
   "version": "3.8.8"
  },
  "toc": {
   "base_numbering": 1,
   "nav_menu": {},
   "number_sections": true,
   "sideBar": true,
   "skip_h1_title": true,
   "title_cell": "Table of Contents",
   "title_sidebar": "Contents",
   "toc_cell": false,
   "toc_position": {},
   "toc_section_display": true,
   "toc_window_display": false
  }
 },
 "nbformat": 4,
 "nbformat_minor": 5
}
